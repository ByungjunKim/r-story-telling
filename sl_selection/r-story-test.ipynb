{
 "cells": [
  {
   "cell_type": "markdown",
   "id": "cc27fe9f-c69a-4dab-8d9f-603c7079cad6",
   "metadata": {},
   "source": [
    "## 1. tsv full data load"
   ]
  },
  {
   "cell_type": "code",
   "execution_count": 1,
   "id": "60146aa5-f97a-4931-a4f2-7f8d33136f6b",
   "metadata": {},
   "outputs": [
    {
     "name": "stdout",
     "output_type": "stream",
     "text": [
      "         에피소드                     scene_text  type\n",
      "0  1권_1화_이중던전    네, 김상식 아저씨. 신경 써 주셔서 감사합니다.    대사\n",
      "1  1권_1화_이중던전               내 이름은 성진우. E급 헌터  내적설명\n",
      "2  1권_1화_이중던전         뭘요 하하... 오늘도 잘 부탁드릴게요.    대사\n",
      "3  1권_1화_이중던전    헌터협회 소속 중 가장 낮은 계급, 최약의 헌터.  내적설명\n",
      "4  1권_1화_이중던전  어? 안녕하세요. 주희 씨도 이번 레이드 가시는군요.    대사\n",
      "전체 문장 수: 549\n",
      "컬럼 목록: ['에피소드', 'scene_text', 'type']\n"
     ]
    }
   ],
   "source": [
    "import pandas as pd\n",
    "\n",
    "\n",
    "df = pd.read_csv(\"sl_webtoon_full_data_sequential.tsv\", sep=\"\\t\")\n",
    "\n",
    "\n",
    "print(df.head())\n",
    "print(\"전체 문장 수:\", len(df))\n",
    "print(\"컬럼 목록:\", df.columns.tolist())\n",
    "\n",
    "# 549\n",
    "#컬럼 목록: ['에피소드', 'scene_text', 'type']\n"
   ]
  },
  {
   "cell_type": "code",
   "execution_count": 2,
   "id": "fd35b473-3d92-4d9d-a8ee-5565dff05e76",
   "metadata": {},
   "outputs": [
    {
     "name": "stdout",
     "output_type": "stream",
     "text": [
      "         에피소드                   scene_text  type\n",
      "0  1권_1화_이중던전  네, 김상식 아저씨. 신경 써 주셔서 감사합니다.    대사\n",
      "1  1권_1화_이중던전             내 이름은 성진우. E급 헌터  내적설명\n",
      "2  1권_1화_이중던전       뭘요 하하... 오늘도 잘 부탁드릴게요.    대사\n",
      "컬럼: ['에피소드', 'scene_text', 'type'] 전체 행: 549\n"
     ]
    }
   ],
   "source": [
    "import pandas as pd\n",
    "\n",
    "df = pd.read_csv(\"sl_webtoon_full_data_sequential.tsv\", sep=\"\\t\")\n",
    "print(df.head(3))\n",
    "print(\"컬럼:\", df.columns.tolist(), \"전체 행:\", len(df))\n"
   ]
  },
  {
   "cell_type": "code",
   "execution_count": 3,
   "id": "fa5db259-991a-48b1-859f-2308432737c5",
   "metadata": {},
   "outputs": [
    {
     "name": "stdout",
     "output_type": "stream",
     "text": [
      "['[1권_1화_이중던전] #0 대사 네, 김상식 아저씨. 신경 써 주셔서 감사합니다.', '[1권_1화_이중던전] #1 내적설명 내 이름은 성진우. E급 헌터', '[1권_1화_이중던전] #2 대사 뭘요 하하... 오늘도 잘 부탁드릴게요.']\n"
     ]
    }
   ],
   "source": [
    "\n",
    "df['row_id'] = df.index #인덱스 컬럼 추가 <- 원본 추적용\n",
    "\n",
    "df['text'] = df.apply(\n",
    "    lambda x: f\"[{x['에피소드']}] #{x['row_id']} {x['type']} {x['scene_text']}\", #rag 문장 컬럼 생성\n",
    "    axis=1\n",
    ")\n",
    "\n",
    "print(df['text'].head(3).tolist())\n"
   ]
  },
  {
   "cell_type": "code",
   "execution_count": 4,
   "id": "0b95c977-5485-4fdf-b5d8-fb837a0a8cf7",
   "metadata": {},
   "outputs": [
    {
     "name": "stdout",
     "output_type": "stream",
     "text": [
      "최종 문장 수: 549\n"
     ]
    }
   ],
   "source": [
    "texts = df['text'].tolist()\n",
    "print(\"최종 문장 수:\", len(texts))\n",
    "# 549"
   ]
  },
  {
   "cell_type": "markdown",
   "id": "0be84111-8a20-49b4-827a-305e9498fe15",
   "metadata": {},
   "source": [
    "## 2. Rag 문장 생성"
   ]
  },
  {
   "cell_type": "code",
   "execution_count": 5,
   "id": "2f948651-c16f-40d6-9b96-2aaafb1d7bc9",
   "metadata": {},
   "outputs": [
    {
     "name": "stdout",
     "output_type": "stream",
     "text": [
      "예시 5개:\n",
      "- [1권_1화_이중던전] #0 대사 네, 김상식 아저씨. 신경 써 주셔서 감사합니다.\n",
      "- [1권_1화_이중던전] #1 내적설명 내 이름은 성진우. E급 헌터\n",
      "- [1권_1화_이중던전] #2 대사 뭘요 하하... 오늘도 잘 부탁드릴게요.\n",
      "- [1권_1화_이중던전] #3 내적설명 헌터협회 소속 중 가장 낮은 계급, 최약의 헌터.\n",
      "- [1권_1화_이중던전] #4 대사 어? 안녕하세요. 주희 씨도 이번 레이드 가시는군요.\n",
      "\n",
      "최종 문장 수: 549\n"
     ]
    }
   ],
   "source": [
    "# 2단계: 최종 RAG 문장 생성\n",
    "df['row_id'] = df.index  # 원본 추적용 인덱스\n",
    "df['text'] = df.apply(\n",
    "    lambda x: f\"[{x['에피소드']}] #{x['row_id']} {x['type']} {x['scene_text']}\",\n",
    "    axis=1\n",
    ")\n",
    "\n",
    "print(\"예시 5개:\")\n",
    "for t in df['text'].head(5).tolist():\n",
    "    print(\"-\", t)\n",
    "\n",
    "texts = df['text'].tolist()\n",
    "print(\"\\n최종 문장 수:\", len(texts))\n",
    "#549"
   ]
  },
  {
   "cell_type": "markdown",
   "id": "0d659a2e-2c7b-4158-b676-d85abc5d3e92",
   "metadata": {},
   "source": [
    "## 3. 한국어 임베딩 모델 로드, 벡터 db - solo_leveling_faiss_ko\n",
    "\n"
   ]
  },
  {
   "cell_type": "code",
   "execution_count": 6,
   "id": "6ef1ac89-0931-48a8-9024-26150004b81d",
   "metadata": {},
   "outputs": [
    {
     "name": "stderr",
     "output_type": "stream",
     "text": [
      "/tmp/ipykernel_1597895/2454380050.py:4: LangChainDeprecationWarning: The class `HuggingFaceEmbeddings` was deprecated in LangChain 0.2.2 and will be removed in 1.0. An updated version of the class exists in the :class:`~langchain-huggingface package and should be used instead. To use it run `pip install -U :class:`~langchain-huggingface` and import as `from :class:`~langchain_huggingface import HuggingFaceEmbeddings``.\n",
      "  embedding_model = HuggingFaceEmbeddings(model_name='jhgan/ko-sroberta-multitask')\n"
     ]
    },
    {
     "name": "stdout",
     "output_type": "stream",
     "text": [
      " 벡터DB 생성 완료. 총 문장 수: 549\n",
      " 'solo_leveling_faiss_ko' 폴더에 저장\n"
     ]
    }
   ],
   "source": [
    "from langchain.vectorstores import FAISS\n",
    "from langchain.embeddings import HuggingFaceEmbeddings\n",
    "\n",
    "embedding_model = HuggingFaceEmbeddings(model_name='jhgan/ko-sroberta-multitask')\n",
    "\n",
    "db = FAISS.from_texts(texts, embedding_model)\n",
    "print(\" 벡터DB 생성 완료. 총 문장 수:\", len(texts))\n",
    "\n",
    "db.save_local(\"solo_leveling_faiss_ko\")\n",
    "print(\" 'solo_leveling_faiss_ko' 폴더에 저장\")\n"
   ]
  },
  {
   "cell_type": "code",
   "execution_count": 7,
   "id": "a6acad70-ae02-4808-800e-fee4c2a36153",
   "metadata": {},
   "outputs": [
    {
     "name": "stdout",
     "output_type": "stream",
     "text": [
      "[1] [2권_3화_퀘스트 ] #332 대사 던전에 사는 마수라면 마정석을 갖고 있을 줄 알았는데...완전히 다른 부류인가.\n",
      "[2] [1권_3화_퀘스트] #132 대사 여... 여긴?!  사막...!!\n",
      "[3] [2권_3화_퀘스트 ] #331 대사 이 녀석들은 마정석 같은 건 안 주나?\n",
      "[4] [2권_4화_보스전] #457 내적설명 경험이 많으면 많을수록 랭크가 높으면 높을수록 마수들에게서 나오는 마정석은 가치를 더해 간다.\n",
      "[5] [2권_4화_보스전] #449 대사 문제는 지능인데... 마법과 관련된 스탯일 것 같긴 한데, 이게 피룡할까?\n"
     ]
    }
   ],
   "source": [
    "db = FAISS.load_local(\"solo_leveling_faiss_ko\", embedding_model, allow_dangerous_deserialization=True)\n",
    "\n",
    "\n",
    "query = \"마나석이 뭐지?\"\n",
    "docs = db.similarity_search(query, k=5)\n",
    "\n",
    "for i, doc in enumerate(docs, 1):\n",
    "    print(f\"[{i}] {doc.page_content}\")\n"
   ]
  },
  {
   "cell_type": "code",
   "execution_count": 8,
   "id": "b215211a-ed27-4571-a9cf-b5792c6fa20c",
   "metadata": {},
   "outputs": [],
   "source": [
    "## rag 확인"
   ]
  },
  {
   "cell_type": "code",
   "execution_count": 9,
   "id": "caf4de14-02ef-4143-97eb-00cdab7a2fa5",
   "metadata": {},
   "outputs": [
    {
     "name": "stderr",
     "output_type": "stream",
     "text": [
      "Device set to use cuda:0\n"
     ]
    }
   ],
   "source": [
    "from transformers import pipeline\n",
    "\n",
    "generator = pipeline(\n",
    "    \"text-generation\",\n",
    "    model=\"kakaocorp/kanana-nano-2.1b-instruct\",\n",
    "    device=0  \n",
    ")\n",
    "\n"
   ]
  },
  {
   "cell_type": "code",
   "execution_count": 10,
   "id": "2ef2966e-c110-4565-8ddf-1a1bee864934",
   "metadata": {},
   "outputs": [
    {
     "name": "stderr",
     "output_type": "stream",
     "text": [
      "Device set to use cuda:0\n",
      "/tmp/ipykernel_1597895/3834059051.py:17: LangChainDeprecationWarning: The class `HuggingFacePipeline` was deprecated in LangChain 0.0.37 and will be removed in 1.0. An updated version of the class exists in the :class:`~langchain-huggingface package and should be used instead. To use it run `pip install -U :class:`~langchain-huggingface` and import as `from :class:`~langchain_huggingface import HuggingFacePipeline``.\n",
      "  llm = HuggingFacePipeline(pipeline=llm_pipeline)\n",
      "/tmp/ipykernel_1597895/3834059051.py:35: LangChainDeprecationWarning: The method `Chain.__call__` was deprecated in langchain 0.1.0 and will be removed in 1.0. Use :meth:`~invoke` instead.\n",
      "  result = qa_chain({\"query\": query})\n"
     ]
    },
    {
     "name": "stdout",
     "output_type": "stream",
     "text": [
      "답변: 다음 문맥을 참고하여 질문에 답하세요.\n",
      "\n",
      "문맥:\n",
      "[1권_1화_이중던전] #1 내적설명 내 이름은 성진우. E급 헌터\n",
      "\n",
      "[2권_4화_보스전] #451 대사 헌터 성진우입니다.\n",
      "\n",
      "[1권_1화_이중던전] #9 내적설명 E급 헌터 성진우.\n",
      "\n",
      "[3권_7화_이상한레이드] #484 내적설명 그 녀석이 원하는 건 실력은 있지만 등급이 낮은 헌터니까.\n",
      "\n",
      "[2권_4화_보스전] #468 내적설명 능력치를 올릴 수 있는 헌터가 있다?\n",
      "\n",
      "질문:\n",
      "성진우는 몇 급 헌터지?\n",
      "\n",
      "답변: 성진우는 E급 헌터입니다.  #1 내적설명 참고  #9 내적설명 참고  #451 대사 참고  #484 내적설명 참고  #468 내적설명 참고   이 모든 문맥을 종합하면 성진우는 E급 헌터임을 알 수 있습니다.   E급 헌터는 가장 낮은 등급의 헌터입니다.  따라서 성진우는 E급 헌터입니다.   #1 내적설명, #9 내적설명, #451 대사, #484 내적설명, #468 내적설명 모두 성진우의 등급을 E급으로 명시하고 있습니다.   따라서 성진우는 E급 헌터입니다.   성진우의 등급은 E급입니다.   E급 헌터는 낮은 등급이기 때문에 성진우는 낮은 실력을 가진 헌터라고 할 수 있습니다.   그러나 성진우의 실력이 낮은지 여부는 이 문제의 범위를 벗어납니다.   성진우의 등급만을 묻는 질문에 대한 답은 E급입니다\n",
      "\n",
      "참조 문서:\n",
      "[1권_1화_이중던전] #1 내적설명 내 이름은 성진우. E급 헌터\n",
      "[2권_4화_보스전] #451 대사 헌터 성진우입니다.\n",
      "[1권_1화_이중던전] #9 내적설명 E급 헌터 성진우.\n",
      "[3권_7화_이상한레이드] #484 내적설명 그 녀석이 원하는 건 실력은 있지만 등급이 낮은 헌터니까.\n",
      "[2권_4화_보스전] #468 내적설명 능력치를 올릴 수 있는 헌터가 있다?\n"
     ]
    }
   ],
   "source": [
    "from langchain.chains import RetrievalQA\n",
    "from langchain.vectorstores import FAISS\n",
    "from langchain.prompts import PromptTemplate\n",
    "from langchain_community.llms import HuggingFacePipeline\n",
    "from langchain.embeddings import HuggingFaceEmbeddings\n",
    "import torch\n",
    "from transformers import AutoTokenizer, AutoModelForCausalLM, pipeline\n",
    "\n",
    "embedding_model = HuggingFaceEmbeddings(model_name='jhgan/ko-sroberta-multitask')\n",
    "vectorstore = FAISS.load_local(\"solo_leveling_faiss_ko\", embedding_model, allow_dangerous_deserialization=True)\n",
    "\n",
    "model_name = \"kakaocorp/kanana-nano-2.1b-instruct\"\n",
    "tokenizer = AutoTokenizer.from_pretrained(model_name)\n",
    "model = AutoModelForCausalLM.from_pretrained(model_name, torch_dtype=torch.float16).to(\"cuda\")\n",
    "\n",
    "llm_pipeline = pipeline(\"text-generation\", model=model, tokenizer=tokenizer, max_new_tokens=256)\n",
    "llm = HuggingFacePipeline(pipeline=llm_pipeline)\n",
    "\n",
    "custom_prompt = PromptTemplate(\n",
    "    input_variables=[\"context\", \"question\"],\n",
    "    template=\"다음 문맥을 참고하여 질문에 답하세요.\\n\\n문맥:\\n{context}\\n\\n질문:\\n{question}\\n\\n답변:\"\n",
    ")\n",
    "\n",
    "qa_chain = RetrievalQA.from_chain_type(\n",
    "    llm=llm,\n",
    "    retriever=vectorstore.as_retriever(search_kwargs={\"k\": 5}),\n",
    "    chain_type=\"stuff\",\n",
    "    return_source_documents=True,\n",
    "    chain_type_kwargs={\n",
    "        \"prompt\": custom_prompt  }\n",
    ")\n",
    "\n",
    "#질문\n",
    "query = \"성진우는 몇 급 헌터지?\"\n",
    "result = qa_chain({\"query\": query})\n",
    "\n",
    "print(\"답변:\", result[\"result\"])\n",
    "print(\"\\n참조 문서:\")\n",
    "for doc in result[\"source_documents\"]:\n",
    "    print(doc.page_content)\n"
   ]
  },
  {
   "cell_type": "markdown",
   "id": "a10cc72f-d587-4dc3-a6a4-e56b08d0a985",
   "metadata": {},
   "source": [
    "## 4. 황동석 에피소드 "
   ]
  },
  {
   "cell_type": "code",
   "execution_count": 14,
   "id": "46946824-27c5-4a95-a293-d6b3ab905277",
   "metadata": {},
   "outputs": [
    {
     "name": "stdout",
     "output_type": "stream",
     "text": [
      "\n",
      "[선택지]\n",
      "1. 1: 황동석 무리를 모두 처치한다.\n",
      "2. 2: 진호를 포함한 황동석 무리를 모두 처치한다.\n",
      "3. 3: 전부 기절 시키고 살려둔다.\n",
      "4. 4: 시스템을 거부하고 그냥 도망친다.\n"
     ]
    },
    {
     "name": "stdin",
     "output_type": "stream",
     "text": [
      "\n",
      "선택 번호 입력:  3\n"
     ]
    },
    {
     "name": "stdout",
     "output_type": "stream",
     "text": [
      "\n",
      "[사용자 선택]: 3: 전부 기절 시키고 살려둔다.\n",
      "\n",
      "[검색된 근거 문서 예시]\n",
      "[1권_1화_이중던전] #73 대사 제기랄! 이 녀석들이 마음만 먹으면 언제라도 전멸시킬 수 있다는 건가.\n",
      "[2권_2화_세가지규율] #247 대사 다 꺼지면 모두 살아서 나갈 수 있을 거예요.\n",
      "[1권_1화_이중던전] #74 대사 지금 당장에라도 우리를 전멸시킬 수 있을 텐데... 왜 그러지 않는 걸까요?\n",
      "[1권_3화_퀘스트] #162 대사 도망치는 건 자신 있으니까, 만약 지난번처럼 위험해지면 물불 가리지 말고 도망치자!\n",
      "[2권_2화_세가지규율] #244 대사 이 이상 사람들이 줄어들어 사각이 생기면 모두 죽어요! ...\n",
      "\n",
      "[성진우 응답]\n",
      "대사는 최대한 생동감 있게 작성해 주세요. \n",
      "예: \"이녀석들, 제발 정신 차려라!\" 또는 \"이제야 정신 차렸냐?\" 등. \n",
      "\n",
      "\"이녀석들, 제발 정신 차려라! 지금이라도 우리의 계획을 방해하지 말고 협력해라.\" 또는 \"지금 당장 우리를 전멸시킬 수 있을 텐데, 왜 이렇게 무모한 짓을 하는지 이해가 안 되네.\" 등. \n",
      "다양한 표현을 사용해 주세요.  \n",
      "예: \"이제야 정신 차렸냐?\" 보다는 \"이제야 정신 차린 거냐?\"가 더 좋습니다.  예: \"이제야 정신 차린 거냐?\" 또는 \"이제라도 정신 차리고 협력해라.\" 등.  \n",
      "예: \"이제라도 정신 차리고 협력해라.\" 또는 \"이제라도 정신 차리고 우리와 함께 싸워라.\" 등.  \n",
      "다양한 표현을 사용해 주세요.  \n",
      "예: \"이제라도 정신 차리고 우리와 함께 싸워라.\" 또는 \"이제라도 정신 차리고 우리의 계획에 협력해라.\" 등.  \n",
      "다양한 표현을 사용해 주세요.   예: \"이제라도 정신 차리고 우리와 함께 싸워라.\" 또는 \"이제라도 정신 차리고 우리의 계획에 협력해\n"
     ]
    }
   ],
   "source": [
    "choices = [\n",
    "    \"1: 황동석 무리를 모두 처치한다.\",\n",
    "    \"2: 진호를 포함한 황동석 무리를 모두 처치한다.\",\n",
    "    \"3: 전부 기절 시키고 살려둔다.\",\n",
    "    \"4: 시스템을 거부하고 그냥 도망친다.\"\n",
    "]\n",
    "\n",
    "print(\"\\n[선택지]\")\n",
    "for idx, choice in enumerate(choices, start=1):\n",
    "    print(f\"{idx}. {choice}\")\n",
    "\n",
    "user_idx = int(input(\"\\n선택 번호 입력: \")) - 1\n",
    "user_choice = choices[user_idx]\n",
    "print(f\"\\n[사용자 선택]: {user_choice}\")\n",
    "\n",
    "result = qa_chain({\"query\": user_choice})\n",
    "\n",
    "retrieved_context = \"\\n\".join([doc.page_content for doc in result[\"source_documents\"]])\n",
    "print(\"\\n[검색된 근거 문서 예시]\")\n",
    "print(retrieved_context[:600], \"...\") \n",
    "\n",
    "prompt = f\"\"\"\n",
    "당신은 웹툰 '나 혼자만 레벨업'의 성진우입니다.\n",
    "상황을 보고 대사를 생성 \n",
    "현재 상황:\n",
    "{retrieved_context}\n",
    "\n",
    "사용자 선택: {user_choice}\n",
    "\n",
    "성진우의 말투로 간결하고 자연스러운 성진우가 할 말을  1~2문장 생성하세요.\n",
    "중복된 내용이나 비슷한 문장은 만들지 마세요.\n",
    "\"\"\"\n",
    "\n",
    "response = generator(prompt, \n",
    "                     max_new_tokens=300, \n",
    "                     do_sample=True, \n",
    "                     temperature=0.6,\n",
    "                     top_p = 0.9,\n",
    "                     return_full_text=False  \n",
    ")[0][\"generated_text\"]\n",
    "print(\"\\n[성진우 응답]\")\n",
    "print(response)\n"
   ]
  },
  {
   "cell_type": "code",
   "execution_count": 20,
   "id": "7b183dc5-56be-4464-b737-00f11b30bbd0",
   "metadata": {},
   "outputs": [
    {
     "name": "stdout",
     "output_type": "stream",
     "text": [
      "\n",
      "[선택지]\n",
      "1. 1: 황동석 무리를 모두 처치한다.\n",
      "2. 2: 진호를 포함한 황동석 무리를 모두 처치한다.\n",
      "3. 3: 전부 기절 시키고 살려둔다.\n",
      "4. 4: 시스템을 거부하고 그냥 도망친다.\n"
     ]
    },
    {
     "name": "stdin",
     "output_type": "stream",
     "text": [
      "\n",
      "선택 번호 입력:  3\n"
     ]
    },
    {
     "name": "stderr",
     "output_type": "stream",
     "text": [
      "You seem to be using the pipelines sequentially on GPU. In order to maximize efficiency please use a dataset\n"
     ]
    },
    {
     "name": "stdout",
     "output_type": "stream",
     "text": [
      "\n",
      "[사용자 선택]: 3: 전부 기절 시키고 살려둔다.\n",
      "\n",
      "[검색된 근거 문서 예시]\n",
      "[1권_1화_이중던전] #73 대사 제기랄! 이 녀석들이 마음만 먹으면 언제라도 전멸시킬 수 있다는 건가.\n",
      "[2권_2화_세가지규율] #247 대사 다 꺼지면 모두 살아서 나갈 수 있을 거예요.\n",
      "[1권_1화_이중던전] #74 대사 지금 당장에라도 우리를 전멸시킬 수 있을 텐데... 왜 그러지 않는 걸까요?\n",
      "[1권_3화_퀘스트] #162 대사 도망치는 건 자신 있으니까, 만약 지난번처럼 위험해지면 물불 가리지 말고 도망치자!\n",
      "[2권_2화_세가지규율] #244 대사 이 이상 사람들이 줄어들어 사각이 생기면 모두 죽어요! ...\n",
      "\n",
      "[성진우 응답]\n",
      "이중던전에서 우리를 전멸시키려는 건가? 그렇다면 그건 너무 무리야. 우리 모두가 힘을 합쳐야 해. 대사: 도망치는 건 선택의 문제가 아니야, 생존이 걸린 문제니까 신중하게 행동해야 해. 대사: 규율을 어기면 모두가 위험해진다는 걸 잊지 마라. 대사: 우리가 힘을 합쳐야만 이 상황을\n"
     ]
    }
   ],
   "source": [
    "choices = [\n",
    "    \"1: 황동석 무리를 모두 처치한다.\",\n",
    "    \"2: 진호를 포함한 황동석 무리를 모두 처치한다.\",\n",
    "    \"3: 전부 기절 시키고 살려둔다.\",\n",
    "    \"4: 시스템을 거부하고 그냥 도망친다.\"\n",
    "]\n",
    "\n",
    "print(\"\\n[선택지]\")\n",
    "for idx, choice in enumerate(choices, start=1):\n",
    "    print(f\"{idx}. {choice}\")\n",
    "\n",
    "user_idx = int(input(\"\\n선택 번호 입력: \")) - 1\n",
    "user_choice = choices[user_idx]\n",
    "print(f\"\\n[사용자 선택]: {user_choice}\")\n",
    "\n",
    "result = qa_chain({\"query\": user_choice})\n",
    "retrieved_context = \"\\n\".join([doc.page_content for doc in result[\"source_documents\"]])\n",
    "print(\"\\n[검색된 근거 문서 예시]\")\n",
    "print(retrieved_context[:600], \"...\")\n",
    "\n",
    "# --- 수정된 프롬프트 ---\n",
    "prompt = f\"\"\"\n",
    "당신은 웹툰 '나 혼자만 레벨업'의 성진우입니다.\n",
    "\n",
    "[상황]\n",
    "{retrieved_context}\n",
    "\n",
    "[선택]\n",
    "{user_choice}\n",
    "\n",
    "[규칙]\n",
    "- 반드시 '대사:'로 시작.\n",
    "- 설명, 해설, 예시 금지.\n",
    "- 선택지 문장을 그대로 반복하지 말 것.\n",
    "- 성진우의 말투로 단호하고 간결하게 1~2문장 작성.\n",
    "\n",
    "대사:\n",
    "\"\"\".strip()\n",
    "\n",
    "response = generator(\n",
    "    prompt,\n",
    "    max_new_tokens=100,\n",
    "    do_sample=True,\n",
    "    temperature=0.6,\n",
    "    top_p=0.9,\n",
    "    return_full_text=False\n",
    ")[0][\"generated_text\"]\n",
    "\n",
    "response_line = response.split(\"\\n\")[0].strip()\n",
    "\n",
    "print(\"\\n[성진우 응답]\")\n",
    "print(response_line)\n"
   ]
  },
  {
   "cell_type": "code",
   "execution_count": 25,
   "id": "04a35b21-de50-4274-b0d8-1a5a41883f67",
   "metadata": {},
   "outputs": [
    {
     "name": "stdout",
     "output_type": "stream",
     "text": [
      "\n",
      "[선택지]\n",
      "1. 1: 황동석 무리를 모두 처치한다.\n",
      "2. 2: 진호를 포함한 황동석 무리를 모두 처치한다.\n",
      "3. 3: 전부 기절 시키고 살려둔다.\n",
      "4. 4: 시스템을 거부하고 그냥 도망친다.\n"
     ]
    },
    {
     "name": "stdin",
     "output_type": "stream",
     "text": [
      "\n",
      "선택 번호 입력:  4\n"
     ]
    },
    {
     "name": "stdout",
     "output_type": "stream",
     "text": [
      "\n",
      "[사용자 선택]: 4: 시스템을 거부하고 그냥 도망친다.\n",
      "\n",
      "[검색된 근거 문서 예시]\n",
      "[1권_3화_퀘스트] #162 대사 도망치는 건 자신 있으니까, 만약 지난번처럼 위험해지면 물불 가리지 말고 도망치자!\n",
      "[1권_3화_퀘스트] #167 대사 어쩌지... 여차하면 도망치려고 했는데 퇴로를 차단하면 도망칠 수가 없잖아!\n",
      "[2권_4화_보스전] #412 내적설명 무력하기 때문에 무시당하는 거야.\n",
      "[2권_4화_보스전] #409 내적설명 위선도 나를 보호해 주진 않아.\n",
      "[2권_4화_보스전] #447 대사 반대도 마찬가지. ...\n",
      "\n",
      "[성진우 응답]\n",
      "대사: 도망치는 건 자신 있으니까, 만약 지난번처럼 위험해지면 물불 가리지 말고 도망치자! 대사: 어쩌지...\n"
     ]
    }
   ],
   "source": [
    "choices = [\n",
    "    \"1: 황동석 무리를 모두 처치한다.\",\n",
    "    \"2: 진호를 포함한 황동석 무리를 모두 처치한다.\",\n",
    "    \"3: 전부 기절 시키고 살려둔다.\",\n",
    "    \"4: 시스템을 거부하고 그냥 도망친다.\"\n",
    "]\n",
    "\n",
    "print(\"\\n[선택지]\")\n",
    "for idx, choice in enumerate(choices, start=1):\n",
    "    print(f\"{idx}. {choice}\")\n",
    "\n",
    "user_idx = int(input(\"\\n선택 번호 입력: \")) - 1\n",
    "user_choice = choices[user_idx]\n",
    "print(f\"\\n[사용자 선택]: {user_choice}\")\n",
    "\n",
    "result = qa_chain({\"query\": user_choice})\n",
    "\n",
    "retrieved_context = \"\\n\".join([doc.page_content for doc in result[\"source_documents\"]])\n",
    "print(\"\\n[검색된 근거 문서 예시]\")\n",
    "print(retrieved_context[:600], \"...\") \n",
    "\n",
    "prompt = f\"\"\"\n",
    "당신은 웹툰 '나 혼자만 레벨업'의 성진우입니다.\n",
    "\n",
    "[캐릭터 규칙]\n",
    "- 이름: 성진우\n",
    "- 톤: 단호하고 간결, 냉정함\n",
    "- 불필요한 말 금지\n",
    "\n",
    "[상황]\n",
    "{retrieved_context}\n",
    "\n",
    "[선택]\n",
    "{user_choice}\n",
    "\n",
    "[출력 규칙]\n",
    "- '대사:'로 시작하는 한 줄만 출력\n",
    "- 1~2문장만 생성\n",
    "- 선택지 문장을 그대로 반복하지 말 것\n",
    "- 설명, 예시, 해설, 분석, 메타텍스트 절대 금지\n",
    "- \"대사:\"는 단 한 번만 출력\n",
    "\"\"\"\n",
    "\n",
    "raw_response = generator(\n",
    "    prompt,\n",
    "    max_new_tokens=60,  \n",
    "    do_sample=True,\n",
    "    temperature=0.6,\n",
    "    top_p=0.9,\n",
    "    return_full_text=False\n",
    ")[0][\"generated_text\"].strip()\n",
    "\n",
    "if \"대사:\" in raw_response:\n",
    "    raw_response = raw_response.split(\"대사:\", 1)[1].strip()\n",
    "\n",
    "import re\n",
    "sentences = re.split(r'(?<=[.?!])\\s+', raw_response)\n",
    "final_response = \" \".join(sentences[:2]).strip()\n",
    "\n",
    "print(\"\\n[성진우 응답]\")\n",
    "print(f\"대사: {final_response}\")\n"
   ]
  },
  {
   "cell_type": "code",
   "execution_count": 27,
   "id": "7a555212-e114-4d3c-b94d-eb50fbad94b4",
   "metadata": {},
   "outputs": [
    {
     "name": "stdout",
     "output_type": "stream",
     "text": [
      "\n",
      "[선택지]\n",
      "1. 1: 황동석 무리를 모두 처치한다.\n",
      "2. 2: 진호를 포함한 황동석 무리를 모두 처치한다.\n",
      "3. 3: 전부 기절 시키고 살려둔다.\n",
      "4. 4: 시스템을 거부하고 그냥 도망친다.\n"
     ]
    },
    {
     "name": "stdin",
     "output_type": "stream",
     "text": [
      "\n",
      "선택 번호 입력:  2\n"
     ]
    },
    {
     "name": "stdout",
     "output_type": "stream",
     "text": [
      "\n",
      "[사용자 선택]: 2: 진호를 포함한 황동석 무리를 모두 처치한다.\n",
      "\n",
      "[검색된 근거 문서 예시]\n",
      "[2권_4화_보스전] #399 내적설명 동시에 이놈의 방어력을 무력화시켜야 해.\n",
      "[2권_4화_보스전] #437 대사 놈의 방어만 무력화시킬 수 있다면, 할 수 있다!\n",
      "[1권_1화_이중던전] #73 대사 제기랄! 이 녀석들이 마음만 먹으면 언제라도 전멸시킬 수 있다는 건가.\n",
      "[2권_3화_퀘스트 ] #341 대사 이제 어쩌지... 보스를 처치하지 않으면 밖으로 나갈 수 없어.\n",
      "[2권_3화_퀘스트 ] #330 대사 고작 마수 두 마리 혼자 쓰러뜨린 것 가지고 너무 호들갑인가... ...\n",
      "\n",
      "[성진우 응답]\n",
      "대사: 이제 어떻게 할지 결정해야 할 시간이야. 방어력을 무력화시킬 방법을 찾아야 해.\n"
     ]
    }
   ],
   "source": [
    "choices = [\n",
    "    \"1: 황동석 무리를 모두 처치한다.\",\n",
    "    \"2: 진호를 포함한 황동석 무리를 모두 처치한다.\",\n",
    "    \"3: 전부 기절 시키고 살려둔다.\",\n",
    "    \"4: 시스템을 거부하고 그냥 도망친다.\"\n",
    "]\n",
    "\n",
    "print(\"\\n[선택지]\")\n",
    "for idx, choice in enumerate(choices, start=1):\n",
    "    print(f\"{idx}. {choice}\")\n",
    "\n",
    "user_idx = int(input(\"\\n선택 번호 입력: \")) - 1\n",
    "user_choice = choices[user_idx]\n",
    "print(f\"\\n[사용자 선택]: {user_choice}\")\n",
    "\n",
    "result = qa_chain({\"query\": user_choice})\n",
    "\n",
    "retrieved_context = \"\\n\".join([doc.page_content for doc in result[\"source_documents\"]])\n",
    "print(\"\\n[검색된 근거 문서 예시]\")\n",
    "print(retrieved_context[:600], \"...\") \n",
    "\n",
    "prompt = f\"\"\"\n",
    "당신은 웹툰 '나 혼자만 레벨업'의 성진우입니다.\n",
    "\n",
    "[캐릭터 규칙]\n",
    "- 이름: 성진우\n",
    "- 톤: 단호하고 간결, 냉정함\n",
    "- 불필요한 말 금지\n",
    "\n",
    "[상황]\n",
    "{retrieved_context}\n",
    "\n",
    "[선택]\n",
    "{user_choice}\n",
    "\n",
    "[출력 규칙]\n",
    "- '대사:'로 시작하는 한 줄만 출력\n",
    "- 1~2문장만 생성\n",
    "- 선택지 문장을 그대로 반복하지 말 것\n",
    "- 설명, 예시, 해설, 분석, 메타텍스트 절대 금지\n",
    "- \"대사:\"는 단 한 번만 출력\n",
    "\"\"\"\n",
    "\n",
    "raw_response = generator(\n",
    "    prompt,\n",
    "    max_new_tokens=60, \n",
    "    do_sample=True,\n",
    "    temperature=0.6,\n",
    "    top_p=0.9,\n",
    "    return_full_text=False\n",
    ")[0][\"generated_text\"].strip()\n",
    "\n",
    "if \"대사:\" in raw_response:\n",
    "    raw_response = raw_response.split(\"대사:\", 1)[1].strip()\n",
    "\n",
    "import re\n",
    "sentences = re.split(r'(?<=[.?!])\\s+', raw_response)\n",
    "final_response = \" \".join(sentences[:2]).strip()\n",
    "\n",
    "print(\"\\n[성진우 응답]\")\n",
    "print(f\"대사: {final_response}\")\n"
   ]
  },
  {
   "cell_type": "code",
   "execution_count": null,
   "id": "e8088718-d856-40a7-9aea-425207b68b1a",
   "metadata": {},
   "outputs": [],
   "source": []
  }
 ],
 "metadata": {
  "kernelspec": {
   "display_name": "Python (ka)",
   "language": "python",
   "name": "myenv"
  },
  "language_info": {
   "codemirror_mode": {
    "name": "ipython",
    "version": 3
   },
   "file_extension": ".py",
   "mimetype": "text/x-python",
   "name": "python",
   "nbconvert_exporter": "python",
   "pygments_lexer": "ipython3",
   "version": "3.10.12"
  }
 },
 "nbformat": 4,
 "nbformat_minor": 5
}
