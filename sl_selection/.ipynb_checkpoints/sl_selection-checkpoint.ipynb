{
 "cells": [
  {
   "cell_type": "code",
   "execution_count": 1,
   "id": "a9c7315e-d3af-4caa-b2c1-86962f4eedf2",
   "metadata": {},
   "outputs": [
    {
     "name": "stdout",
     "output_type": "stream",
     "text": [
      "273 lines (대사)\n"
     ]
    },
    {
     "data": {
      "text/html": [
       "<div>\n",
       "<style scoped>\n",
       "    .dataframe tbody tr th:only-of-type {\n",
       "        vertical-align: middle;\n",
       "    }\n",
       "\n",
       "    .dataframe tbody tr th {\n",
       "        vertical-align: top;\n",
       "    }\n",
       "\n",
       "    .dataframe thead th {\n",
       "        text-align: right;\n",
       "    }\n",
       "</style>\n",
       "<table border=\"1\" class=\"dataframe\">\n",
       "  <thead>\n",
       "    <tr style=\"text-align: right;\">\n",
       "      <th></th>\n",
       "      <th>에피소드</th>\n",
       "      <th>scene_text</th>\n",
       "      <th>type</th>\n",
       "    </tr>\n",
       "  </thead>\n",
       "  <tbody>\n",
       "    <tr>\n",
       "      <th>0</th>\n",
       "      <td>1권_1화_이중던전</td>\n",
       "      <td>네, 김상식 아저씨. 신경 써 주셔서 감사합니다.</td>\n",
       "      <td>대사</td>\n",
       "    </tr>\n",
       "    <tr>\n",
       "      <th>2</th>\n",
       "      <td>1권_1화_이중던전</td>\n",
       "      <td>뭘요 하하... 오늘도 잘 부탁드릴게요.</td>\n",
       "      <td>대사</td>\n",
       "    </tr>\n",
       "    <tr>\n",
       "      <th>4</th>\n",
       "      <td>1권_1화_이중던전</td>\n",
       "      <td>어? 안녕하세요. 주희 씨도 이번 레이드 가시는군요.</td>\n",
       "      <td>대사</td>\n",
       "    </tr>\n",
       "  </tbody>\n",
       "</table>\n",
       "</div>"
      ],
      "text/plain": [
       "         에피소드                     scene_text type\n",
       "0  1권_1화_이중던전    네, 김상식 아저씨. 신경 써 주셔서 감사합니다.   대사\n",
       "2  1권_1화_이중던전         뭘요 하하... 오늘도 잘 부탁드릴게요.   대사\n",
       "4  1권_1화_이중던전  어? 안녕하세요. 주희 씨도 이번 레이드 가시는군요.   대사"
      ]
     },
     "execution_count": 1,
     "metadata": {},
     "output_type": "execute_result"
    }
   ],
   "source": [
    "import pandas as pd\n",
    "\n",
    "TSV_PATH = \"sl_webtoon_full_data_sequential.tsv\"  \n",
    "df = pd.read_csv(TSV_PATH, sep=\"\\t\")\n",
    "\n",
    "# 대사만\n",
    "df = df[df[\"type\"].astype(str).str.contains(\"대사\", na=False)].copy()\n",
    "df = df.dropna(subset=[\"scene_text\"])\n",
    "df[\"scene_text\"] = df[\"scene_text\"].astype(str).str.strip()\n",
    "\n",
    "print(len(df), \"lines (대사)\")\n",
    "df.head(3)\n"
   ]
  },
  {
   "cell_type": "code",
   "execution_count": 2,
   "id": "a2a6590d-ab3c-4146-8af5-4bfefe5fced5",
   "metadata": {},
   "outputs": [
    {
     "name": "stderr",
     "output_type": "stream",
     "text": [
      "/tmp/ipykernel_1599530/2153733059.py:4: LangChainDeprecationWarning: The class `HuggingFaceEmbeddings` was deprecated in LangChain 0.2.2 and will be removed in 1.0. An updated version of the class exists in the :class:`~langchain-huggingface package and should be used instead. To use it run `pip install -U :class:`~langchain-huggingface` and import as `from :class:`~langchain_huggingface import HuggingFaceEmbeddings``.\n",
      "  emb = HuggingFaceEmbeddings(model_name=\"jhgan/ko-sroberta-multitask\")\n"
     ]
    }
   ],
   "source": [
    "from langchain_community.embeddings import HuggingFaceEmbeddings\n",
    "from langchain_community.vectorstores import FAISS\n",
    "\n",
    "emb = HuggingFaceEmbeddings(model_name=\"jhgan/ko-sroberta-multitask\")\n",
    "\n",
    "texts = df[\"scene_text\"].tolist()\n",
    "metadatas = [{\"episode\": e} for e in df[\"에피소드\"].astype(str).tolist()]\n",
    "\n",
    "vectorstore = FAISS.from_texts(texts=texts, embedding=emb, metadatas=metadatas)\n",
    "vectorstore.save_local(\"jinwoo_faiss\")  # index.faiss / index.pkl 생성\n"
   ]
  },
  {
   "cell_type": "code",
   "execution_count": 3,
   "id": "8c265efc-f95f-4e7f-b82d-9a93668f624a",
   "metadata": {},
   "outputs": [],
   "source": [
    "from langchain_community.vectorstores import FAISS\n",
    "emb = HuggingFaceEmbeddings(model_name=\"jhgan/ko-sroberta-multitask\")\n",
    "vectorstore = FAISS.load_local(\"jinwoo_faiss\", emb, allow_dangerous_deserialization=True)\n"
   ]
  },
  {
   "cell_type": "code",
   "execution_count": 4,
   "id": "77261752-9370-4ca6-9147-aa3559c830a4",
   "metadata": {},
   "outputs": [
    {
     "name": "stderr",
     "output_type": "stream",
     "text": [
      "Device set to use cuda:0\n"
     ]
    }
   ],
   "source": [
    "from transformers import AutoTokenizer, AutoModelForCausalLM, pipeline\n",
    "import torch\n",
    "\n",
    "MODEL_NAME = \"kakaocorp/kanana-nano-2.1b-instruct\" \n",
    "tok = AutoTokenizer.from_pretrained(MODEL_NAME)\n",
    "mdl = AutoModelForCausalLM.from_pretrained(MODEL_NAME, torch_dtype=torch.float32, device_map=None)\n",
    "\n",
    "gen = pipeline(\n",
    "    \"text-generation\",\n",
    "    model=mdl,\n",
    "    tokenizer=tok,\n",
    "    max_new_tokens=80,      \n",
    "    temperature=0.6,\n",
    "    top_p=0.9,\n",
    "    do_sample=True,\n",
    "    return_full_text=False\n",
    ")"
   ]
  },
  {
   "cell_type": "code",
   "execution_count": 5,
   "id": "5b521245-be99-40e4-82a1-3e7667a357f1",
   "metadata": {},
   "outputs": [],
   "source": [
    "import re\n",
    "\n",
    "def build_examples(query, k=5):\n",
    "    \"\"\"질의와 비슷한 '대사' 예시 k개 선택 → 프롬프트용 문자열\"\"\"\n",
    "    docs = vectorstore.similarity_search(query, k=k)\n",
    "    lines = []\n",
    "    seen = set()\n",
    "    for d in docs:\n",
    "        t = d.page_content.strip()\n",
    "        if t and t not in seen:\n",
    "            seen.add(t)\n",
    "            lines.append(f\"대사: {t}\")\n",
    "    return \"\\n\".join(lines)\n",
    "\n",
    "def postprocess_to_one_or_two_sentences(text: str) -> str:\n",
    "    \"\"\"'대사:' 이후 내용만 추출 → 문장 부호 기준 2문장까지만\"\"\"\n",
    "    # 1) '대사:' 이후만\n",
    "    if \"대사:\" in text:\n",
    "        text = text.split(\"대사:\", 1)[1].strip()\n",
    "    else:\n",
    "        text = text.strip()\n",
    "\n",
    "    sentences = re.split(r'(?<=[.?!…])\\s+', text)\n",
    "    text = \" \".join(sentences[:2]).strip()\n",
    "    text = re.sub(r\"\\s+\", \" \", text)\n",
    "    return f\"대사: {text}\"\n",
    "\n",
    "def generate_jinwoo_line(situation: str, k=5) -> str:\n",
    "    examples = build_examples(situation, k=k)\n",
    "\n",
    "    prompt = f\"\"\"\n",
    "당신은 웹툰 '나 혼자만 레벨업'의 성진우입니다.\n",
    "\n",
    "[성진우 대사 예시(스타일만 참고)]\n",
    "{examples}\n",
    "\n",
    "[현재 상황]\n",
    "{situation}\n",
    "\n",
    "[지시]\n",
    "- 위 예시의 말투/리듬을 참고하되, 문장 내용은 새로 작성.\n",
    "- 1~2문장, 반드시 '대사:'로 시작.\n",
    "- 설명/해설/예시/메타텍스트 금지.\n",
    "- '대사:'는 한 번만 사용.\n",
    "\"\"\".strip()\n",
    "\n",
    "    raw = gen(prompt)[0][\"generated_text\"].strip()\n",
    "    return postprocess_to_one_or_two_sentences(raw)\n"
   ]
  },
  {
   "cell_type": "code",
   "execution_count": 6,
   "id": "13bbb8b9-f9a3-4c6b-b546-8bdf97021e20",
   "metadata": {},
   "outputs": [
    {
     "name": "stdout",
     "output_type": "stream",
     "text": [
      "황동석 무리를 모두 처치한다. → 대사: 이제 황동석 무리를 모두 처치할 시간이야. 대사: 혼자서도 충분히 해낼 수 있을 거야.\n",
      "진호를 포함한 황동석 무리를 모두 처치한다. → 대사: 모두가 잠든 시간, 나는 혼자서 던전을 탐험하기로 결심했다. 대사: 오늘은 반드시 승리할 거야, 어떤 위험이 닥쳐도 두렵지 않아.\n",
      "전부 기절 시키고 살려둔다. → 대사: 모두 기절 시키고 살려둬야 해. 대사: 그래야 나중에 도움이 될 거야.\n",
      "시스템을 거부하고 그냥 도망친다. → 대사: 도망치는 건 자신 있으니까, 만약 이번엔 위험해지면 물불 가리지 말고 도망치자! 대사: 어쩌지...\n"
     ]
    }
   ],
   "source": [
    "choices = [\n",
    "    \"황동석 무리를 모두 처치한다.\",\n",
    "    \"진호를 포함한 황동석 무리를 모두 처치한다.\",\n",
    "    \"전부 기절 시키고 살려둔다.\",\n",
    "    \"시스템을 거부하고 그냥 도망친다.\"\n",
    "]\n",
    "\n",
    "for c in choices:\n",
    "    print(c, \"→\", generate_jinwoo_line(c, k=6))\n"
   ]
  },
  {
   "cell_type": "code",
   "execution_count": 19,
   "id": "4f6f2b54-f543-429c-93cb-0b5868af0bc9",
   "metadata": {},
   "outputs": [
    {
     "name": "stdout",
     "output_type": "stream",
     "text": [
      "\n",
      "[선택지]\n",
      "1. 황동석 무리를 모두 처치한다.\n",
      "2. 진호를 포함한 황동석 무리를 모두 처치한다.\n",
      "3. 전부 기절 시키고 살려둔다.\n",
      "4. 시스템을 거부하고 그냥 도망친다.\n"
     ]
    },
    {
     "name": "stdin",
     "output_type": "stream",
     "text": [
      "\n",
      "선택 번호 입력:  4\n"
     ]
    },
    {
     "name": "stdout",
     "output_type": "stream",
     "text": [
      "\n",
      "[성진우 응답]\n",
      "대사: 도망치는 건 자신 있으니까, 이번엔 꼭 살아남아보자.\n",
      "지난번처럼 위험해지면 물불 가리지 말고 도망치자.\n"
     ]
    }
   ],
   "source": [
    "choices = [\n",
    "    \"황동석 무리를 모두 처치한다.\",\n",
    "    \"진호를 포함한 황동석 무리를 모두 처치한다.\",\n",
    "    \"전부 기절 시키고 살려둔다.\",\n",
    "    \"시스템을 거부하고 그냥 도망친다.\"\n",
    "]\n",
    "\n",
    "print(\"\\n[선택지]\")\n",
    "for idx, choice in enumerate(choices, start=1):\n",
    "    print(f\"{idx}. {choice}\")\n",
    "\n",
    "user_idx = int(input(\"\\n선택 번호 입력: \")) - 1\n",
    "\n",
    "if 0 <= user_idx < len(choices):\n",
    "    user_choice = choices[user_idx]\n",
    "    # 성진우 대사 생성\n",
    "    line = generate_jinwoo_line(user_choice, k=6)\n",
    "    \n",
    "    # \"대사:\" 기준으로 분리 후 줄바꿈\n",
    "    formatted_line = \"\\n\".join(\n",
    "        part.strip() for part in line.split(\"대사:\") if part.strip()\n",
    "    )\n",
    "    formatted_line = \"대사: \" + formatted_line.replace(\"\\n대사:\", \"\\n대사:\")\n",
    "\n",
    "    print(\"\\n[성진우 응답]\")\n",
    "    print(formatted_line)\n",
    "\n",
    "else:\n",
    "    print(\"❗ 잘못된 번호를 입력하셨습니다.\")\n"
   ]
  },
  {
   "cell_type": "code",
   "execution_count": 23,
   "id": "db4ee0b6-b230-4ad6-afdb-8a95758e05ad",
   "metadata": {},
   "outputs": [
    {
     "data": {
      "text/plain": [
       "'/home/a09999/r-story-telling/kaka/Solo_Leveling/sl_selection'"
      ]
     },
     "execution_count": 23,
     "metadata": {},
     "output_type": "execute_result"
    }
   ],
   "source": [
    "pwd"
   ]
  },
  {
   "cell_type": "code",
   "execution_count": null,
   "id": "17430864-4e88-4329-805a-78946e54e390",
   "metadata": {},
   "outputs": [],
   "source": []
  },
  {
   "cell_type": "code",
   "execution_count": null,
   "id": "9e89e352-19d5-467f-9847-a24dcb1f2708",
   "metadata": {},
   "outputs": [],
   "source": []
  }
 ],
 "metadata": {
  "kernelspec": {
   "display_name": "Python (ka)",
   "language": "python",
   "name": "myenv"
  },
  "language_info": {
   "codemirror_mode": {
    "name": "ipython",
    "version": 3
   },
   "file_extension": ".py",
   "mimetype": "text/x-python",
   "name": "python",
   "nbconvert_exporter": "python",
   "pygments_lexer": "ipython3",
   "version": "3.10.12"
  }
 },
 "nbformat": 4,
 "nbformat_minor": 5
}
