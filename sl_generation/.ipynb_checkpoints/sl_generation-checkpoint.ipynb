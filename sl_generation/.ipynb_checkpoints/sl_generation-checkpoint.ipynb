{
 "cells": [
  {
   "cell_type": "code",
   "execution_count": 3,
   "id": "1b1c1ed3-ec98-434e-8d01-2c8836a221eb",
   "metadata": {},
   "outputs": [],
   "source": [
    "from langchain_community.vectorstores import FAISS\n",
    "from langchain.embeddings import HuggingFaceEmbeddings\n",
    "from transformers import pipeline\n",
    "import pandas as pd\n",
    "import torch\n"
   ]
  },
  {
   "cell_type": "code",
   "execution_count": 4,
   "id": "c0f2ca22-e0a1-4cf0-aa24-f6fda6fec1d5",
   "metadata": {},
   "outputs": [
    {
     "name": "stdout",
     "output_type": "stream",
     "text": [
      "내적설명 개수: 233\n",
      "대사 개수: 273\n"
     ]
    }
   ],
   "source": [
    "# TSV 파일 로드 (컬럼: episode, type, text)\n",
    "df = pd.read_csv(\"sl_webtoon_full_data_sequential.tsv\", sep=\"\\t\")\n",
    "\n",
    "# 내적설명과 대사 분리\n",
    "df_context = df[df[\"type\"] == \"내적설명\"].reset_index(drop=True)\n",
    "df_dialogue = df[df[\"type\"] == \"대사\"].reset_index(drop=True)\n",
    "\n",
    "print(f\"내적설명 개수: {len(df_context)}\")\n",
    "print(f\"대사 개수: {len(df_dialogue)}\")\n"
   ]
  },
  {
   "cell_type": "code",
   "execution_count": 5,
   "id": "8f9c93ea-93f3-4c66-b4fd-ae72403174ed",
   "metadata": {},
   "outputs": [],
   "source": [
    "#내적설명으로 벡터 db 구축(rag)"
   ]
  },
  {
   "cell_type": "code",
   "execution_count": 7,
   "id": "53de90dd-5bc6-40bb-824f-b66cebe69990",
   "metadata": {},
   "outputs": [],
   "source": [
    "embeddings = HuggingFaceEmbeddings(model_name=\"jhgan/ko-sbert-sts\")\n",
    "\n",
    "# 내적설명 DB 생성\n",
    "context_db = FAISS.from_texts(df_context[\"scene_text\"].tolist(), embeddings)\n",
    "context_db.save_local(\"faiss_context_db\")\n",
    "\n",
    "# 필요시 로드 예시\n",
    "# context_db = FAISS.load_local(\"faiss_context_db\", embeddings, allow_dangerous_deserialization=True)\n"
   ]
  },
  {
   "cell_type": "code",
   "execution_count": 9,
   "id": "b95b7eda-47de-4766-8f72-79b164a70c50",
   "metadata": {},
   "outputs": [
    {
     "name": "stderr",
     "output_type": "stream",
     "text": [
      "Device set to use cuda:2\n"
     ]
    }
   ],
   "source": [
    "generator = pipeline(\n",
    "    \"text-generation\",\n",
    "    model=\"kakaocorp/kanana-nano-2.1b-instruct\",\n",
    "    device=2 if torch.cuda.is_available() else -1\n",
    ")\n"
   ]
  },
  {
   "cell_type": "code",
   "execution_count": 12,
   "id": "bbb66275-bcf2-46f1-a2e0-6cd44e13ebae",
   "metadata": {},
   "outputs": [
    {
     "name": "stderr",
     "output_type": "stream",
     "text": [
      "Device set to use cuda:2\n"
     ]
    }
   ],
   "source": [
    "from transformers import pipeline\n",
    "\n",
    "# 모델 로드 (예: 카나나 모델)\n",
    "generator = pipeline(\n",
    "    \"text-generation\",\n",
    "    model=\"kakaocorp/kanana-nano-2.1b-instruct\",\n",
    "    device=2  # GPU 0 사용 (필요 시 변경)\n",
    ")\n",
    "\n",
    "def generate_jinwoo_line(choice):\n",
    "    prompt = f\"상황: {choice}\\n성진우의 대사를 생성해 주세요.\"\n",
    "    result = generator(prompt, max_new_tokens=50, do_sample=True, temperature=0.7)\n",
    "    return result[0]['generated_text'].replace(prompt, \"\").strip()\n"
   ]
  },
  {
   "cell_type": "code",
   "execution_count": 27,
   "id": "cc8964d0-f659-4eab-8e70-d8d2b03eae84",
   "metadata": {},
   "outputs": [
    {
     "name": "stderr",
     "output_type": "stream",
     "text": [
      "Device set to use cuda:3\n"
     ]
    },
    {
     "name": "stdout",
     "output_type": "stream",
     "text": [
      "\n",
      "[선택지]\n",
      "1. 황동석 무리를 모두 처치한다.\n",
      "2. 진호를 포함한 황동석 무리를 모두 처치한다.\n",
      "3. 전부 기절 시키고 살려둔다.\n",
      "4. 시스템을 거부하고 그냥 도망친다.\n"
     ]
    },
    {
     "name": "stdin",
     "output_type": "stream",
     "text": [
      "\n",
      "선택 번호 입력:  1\n"
     ]
    },
    {
     "name": "stdout",
     "output_type": "stream",
     "text": [
      "\n",
      "[성진우 대사 생성]\n",
      "\"황동석 무리를 모두 처치한다.\"\n"
     ]
    }
   ],
   "source": [
    "# ===============================\n",
    "# 1. 라이브러리 & 모델 로드\n",
    "# ===============================\n",
    "from langchain_community.vectorstores import FAISS\n",
    "from langchain.embeddings import HuggingFaceEmbeddings\n",
    "from transformers import pipeline\n",
    "\n",
    "# 벡터DB 로드\n",
    "embedding_model = HuggingFaceEmbeddings(\n",
    "    model_name=\"jhgan/ko-sbert-sts\",\n",
    "    model_kwargs={\"device\": \"cuda:3\"} )  # 임베딩 모델\n",
    "db = FAISS.load_local(\"faiss_context_db\", embedding_model, allow_dangerous_deserialization=True)\n",
    "\n",
    "# 대사 생성 모델 로드 (카나나 예시)\n",
    "generator = pipeline(\n",
    "    \"text-generation\",\n",
    "    model=\"kakaocorp/kanana-nano-2.1b-instruct\",\n",
    "    device=3,  # GPU 사용\n",
    "    max_new_tokens=100\n",
    ")\n",
    "\n",
    "# ===============================\n",
    "# 대사 생성 함수 (RAG 포함)\n",
    "generator = pipeline(\n",
    "    \"text-generation\",\n",
    "    model=\"kakaocorp/kanana-nano-2.1b-instruct\",\n",
    "    device=3,\n",
    "    max_new_tokens=50,\n",
    "    temperature=0.9,   # 창의성 ↑\n",
    "    top_p=0.9          # 다양성 ↑\n",
    ")\n",
    "    # Step 2: 프롬프트 생성\n",
    "    prompt = f\"\"\"\n",
    "다음은 성진우 캐릭터의 정보와 현재 상황이다.\n",
    "\n",
    "[캐릭터 페르소나]\n",
    "성진우: 침착하지만 냉정한 판단, 필요시 과감한 행동. 존댓말은 쓰지 않음.\n",
    "\n",
    "[현재 상황]\n",
    "{context_text}\n",
    "\n",
    "[사용자 선택]\n",
    "\"{choice}\"\n",
    "\n",
    "[지시]\n",
    "위의 페르소나와 현재 상황을 반영하여,\n",
    "사용자 선택을 그대로 반복하지 말고,\n",
    "성진우가 상황에 맞게 창의적으로 말할 법한 자연스러운 대사를 한 줄 생성하라.\n",
    "반드시 따옴표(\") 안에만 대사를 출력하고, 해시태그나 추가 설명은 포함하지 말 것.\n",
    "\"\"\"\n",
    "\n",
    "    # Step 3: 대사 생성\n",
    "    result = generator(prompt, max_new_tokens=50, do_sample=True, temperature=0.7)\n",
    "    line = result[0]['generated_text']\n",
    "\n",
    "    # 따옴표 안의 내용만 추출\n",
    "    import re\n",
    "    match = re.search(r'\"(.*?)\"', line)\n",
    "    if match:\n",
    "        return f'\"{match.group(1)}\"'\n",
    "    else:\n",
    "        return line.strip()\n",
    "\n",
    "# ===============================\n",
    "# 3. 선택지 UI\n",
    "# ===============================\n",
    "choices = [\n",
    "    \"황동석 무리를 모두 처치한다.\",\n",
    "    \"진호를 포함한 황동석 무리를 모두 처치한다.\",\n",
    "    \"전부 기절 시키고 살려둔다.\",\n",
    "    \"시스템을 거부하고 그냥 도망친다.\"\n",
    "]\n",
    "\n",
    "print(\"\\n[선택지]\")\n",
    "for idx, choice in enumerate(choices, start=1):\n",
    "    print(f\"{idx}. {choice}\")\n",
    "\n",
    "user_idx = int(input(\"\\n선택 번호 입력: \")) - 1\n",
    "user_choice = choices[user_idx]\n",
    "\n",
    "print(\"\\n[성진우 대사 생성]\")\n",
    "print(generate_jinwoo_line_with_rag(user_choice))\n"
   ]
  },
  {
   "cell_type": "code",
   "execution_count": null,
   "id": "26e3fb78-bf81-4234-b577-ebf548236ca3",
   "metadata": {},
   "outputs": [],
   "source": []
  },
  {
   "cell_type": "code",
   "execution_count": null,
   "id": "3c7a033b-c580-415b-b216-1f689718f973",
   "metadata": {},
   "outputs": [],
   "source": []
  },
  {
   "cell_type": "code",
   "execution_count": null,
   "id": "2e51f50e-a895-4af0-8d50-1e9a2296d1db",
   "metadata": {},
   "outputs": [],
   "source": []
  }
 ],
 "metadata": {
  "kernelspec": {
   "display_name": "Python (ka)",
   "language": "python",
   "name": "myenv"
  },
  "language_info": {
   "codemirror_mode": {
    "name": "ipython",
    "version": 3
   },
   "file_extension": ".py",
   "mimetype": "text/x-python",
   "name": "python",
   "nbconvert_exporter": "python",
   "pygments_lexer": "ipython3",
   "version": "3.10.12"
  }
 },
 "nbformat": 4,
 "nbformat_minor": 5
}
