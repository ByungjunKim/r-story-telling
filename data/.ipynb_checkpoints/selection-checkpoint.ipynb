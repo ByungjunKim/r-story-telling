{
 "cells": [
  {
   "cell_type": "markdown",
   "id": "dd989e2e-79b5-4a3b-bc2f-21e366baeb73",
   "metadata": {
    "jp-MarkdownHeadingCollapsed": true
   },
   "source": [
    "## 1. Full_Data -> sequntial 변환\n",
    "- full_data: (웹툰책1권~4권까지 == 애니메이션 기준 1기) - 특정 에피소드 3개 제외한 것"
   ]
  },
  {
   "cell_type": "code",
   "execution_count": 21,
   "id": "c09c0d9c-77b1-4640-9ce7-43d97b16f0cc",
   "metadata": {},
   "outputs": [
    {
     "name": "stdout",
     "output_type": "stream",
     "text": [
      "변환, 저장 위치: sl_webtoon_full_data_sequential.tsv\n",
      "         에피소드                     scene_text  type\n",
      "0  1권_1화_이중던전    네, 김상식 아저씨. 신경 써 주셔서 감사합니다.    대사\n",
      "1  1권_1화_이중던전               내 이름은 성진우. E급 헌터  내적설명\n",
      "2  1권_1화_이중던전         뭘요 하하... 오늘도 잘 부탁드릴게요.    대사\n",
      "3  1권_1화_이중던전    헌터협회 소속 중 가장 낮은 계급, 최약의 헌터.  내적설명\n",
      "4  1권_1화_이중던전  어? 안녕하세요. 주희 씨도 이번 레이드 가시는군요.    대사\n",
      "5  1권_1화_이중던전   나에게 이런 일이 일어날 줄은...상상도 못 했다.  내적설명\n",
      "6  1권_1화_이중던전            어쩌다보니 그렇게 됐네요 하하...    대사\n",
      "7  1권_1화_이중던전                        대한민국 서울  내적설명\n",
      "8  1권_1화_이중던전         E급 던전이었는데 저만 다쳐서 나왔어요.    대사\n",
      "9  1권_1화_이중던전                     E급 헌터 성진우.  내적설명\n"
     ]
    }
   ],
   "source": [
    "import pandas as pd\n",
    "\n",
    "input_path = \"sl_webtoon_full_data.tsv\"\n",
    "output_path = \"sl_webtoon_full_data_sequential.tsv\"\n",
    "\n",
    "df = pd.read_csv(input_path, sep='\\t', encoding='utf-8')\n",
    "\n",
    "df = df.fillna(\"\") #결측치 \"\" 로 변환\n",
    "\n",
    "cols = ['에피소드명', '대사', '내적설명', '시스템']0\n",
    "\n",
    "rows = []\n",
    "for ep, group in df.groupby('에피소드명'):\n",
    "    for idx, row in group.iterrows():\n",
    "        for col in ['대사', '내적설명', '시스템']:\n",
    "            text = row[col].strip()\n",
    "            if text:  \n",
    "                rows.append({\n",
    "                    '에피소드': ep,\n",
    "                    'scene_text': text,\n",
    "                    'type': col  \n",
    "                })\n",
    "\n",
    "seq_df = pd.DataFrame(rows)\n",
    "\n",
    "seq_df.to_csv(output_path, sep='\\t', index=False, encoding='utf-8')\n",
    "\n",
    "print(\"변환, 저장 위치:\", output_path)\n",
    "print(seq_df.head(10))\n"
   ]
  },
  {
   "cell_type": "code",
   "execution_count": null,
   "id": "484907bd-15ea-4536-8f85-71104ef1ac9e",
   "metadata": {},
   "outputs": [],
   "source": []
  },
  {
   "cell_type": "code",
   "execution_count": 4,
   "id": "b7f841c6-ba70-45ee-970e-98199090275e",
   "metadata": {},
   "outputs": [
    {
     "name": "stdout",
     "output_type": "stream",
     "text": [
      "유사 장면 Top 10 \n",
      "\n",
      "[점수: 83.3571] 1권_1화_이중던전 내 이름은 성진우. E급 헌터 내적설명\n",
      "[점수: 88.2755] 2권_4화_보스전 헌터 성진우입니다. 대사\n",
      "[점수: 93.2208] 1권_1화_이중던전 E급 헌터 성진우. 내적설명\n",
      "[점수: 99.7465] 3권_7화_이상한레이드 그 녀석이 원하는 건 실력은 있지만 등급이 낮은 헌터니까. 내적설명\n",
      "[점수: 102.8061] 3권_7화_이상한레이드 S급 헌터인 황동수를 말하는 겁니까? 대사\n",
      "[점수: 109.0561] 2권_4화_보스전 능력치를 올릴 수 있는 헌터가 있다? 내적설명\n",
      "[점수: 109.9106] 1권_1화_이중던전 헌터협회 소속 중 가장 낮은 계급, 최약의 헌터. 내적설명\n",
      "[점수: 110.5650] 2권_2화_세가지규율 여기서 기다리고 있으면 다른 헌터들이 구조하러 올까요? 대사\n",
      "[점수: 114.7391] 1권_1화_이중던전 목숨을 거는 위험한 직업 '헌터'. 나라고 좋아서 이 일을 하는 건 아니다. 내적설명\n",
      "[점수: 119.2824] 1권_1화_이중던전 고졸 출신에 딱히 잘하는 것도 없는 내게, 헌터라는 직업은 피할 수 없는 선택이었다. 내적설명\n"
     ]
    }
   ],
   "source": [
    "import faiss\n",
    "import pickle\n",
    "from sentence_transformers import SentenceTransformer\n",
    "\n",
    "\n",
    "index = faiss.read_index(\"solo_leveling_faiss_ko.index\")\n",
    "with open(\"solo_leveling_texts.pkl\", \"rb\") as f:\n",
    "    texts = pickle.load(f)\n",
    "\n",
    "model = SentenceTransformer('jhgan/ko-sroberta-multitask')\n",
    "\n",
    "query = \"성진우는 몇 급 헌터?\"\n",
    "\n",
    "query_vec = model.encode([query])\n",
    "D, I = index.search(query_vec, k=10)  # 상위 5개\n",
    "\n",
    "print(\"유사 장면 Top 10 \\n\")\n",
    "for idx, score in zip(I[0], D[0]):\n",
    "    print(f\"[점수: {score:.4f}] {texts[idx]}\")\n",
    "#점수 낮을 수록 유사"
   ]
  },
  {
   "cell_type": "code",
   "execution_count": 5,
   "id": "4a758d87-767b-43d6-b9fe-957b405d6f67",
   "metadata": {},
   "outputs": [
    {
     "name": "stdout",
     "output_type": "stream",
     "text": [
      "[1] [1권_1화_이중던전] #1 내적설명 내 이름은 성진우. E급 헌터\n",
      "[2] [3권_7화_이상한레이드] #487 대사 S급 헌터인 황동수를 말하는 겁니까?\n",
      "[3] [1권_3화_퀘스트] #91 대사 주희 씨나 송치열 아저씨는 어떻게 되셨죠?\n"
     ]
    },
    {
     "ename": "ValueError",
     "evalue": "The de-serialization relies loading a pickle file. Pickle files can be modified to deliver a malicious payload that results in execution of arbitrary code on your machine.You will need to set `allow_dangerous_deserialization` to `True` to enable deserialization. If you do this, make sure that you trust the source of the data. For example, if you are loading a file that you created, and know that no one else has modified the file, then this is safe to do. Do not set this to `True` if you are loading a file from an untrusted source (e.g., some random site on the internet.).",
     "output_type": "error",
     "traceback": [
      "\u001b[0;31m---------------------------------------------------------------------------\u001b[0m",
      "\u001b[0;31mValueError\u001b[0m                                Traceback (most recent call last)",
      "Cell \u001b[0;32mIn[5], line 22\u001b[0m\n\u001b[1;32m     20\u001b[0m \u001b[38;5;66;03m# 1. 벡터 DB 로드\u001b[39;00m\n\u001b[1;32m     21\u001b[0m embedding \u001b[38;5;241m=\u001b[39m HuggingFaceEmbeddings(model_name\u001b[38;5;241m=\u001b[39m\u001b[38;5;124m'\u001b[39m\u001b[38;5;124mjhgan/ko-sroberta-multitask\u001b[39m\u001b[38;5;124m'\u001b[39m)\n\u001b[0;32m---> 22\u001b[0m db \u001b[38;5;241m=\u001b[39m \u001b[43mFAISS\u001b[49m\u001b[38;5;241;43m.\u001b[39;49m\u001b[43mload_local\u001b[49m\u001b[43m(\u001b[49m\u001b[38;5;124;43m\"\u001b[39;49m\u001b[38;5;124;43msolo_leveling_faiss_ko\u001b[39;49m\u001b[38;5;124;43m\"\u001b[39;49m\u001b[43m,\u001b[49m\u001b[43m \u001b[49m\u001b[43membedding\u001b[49m\u001b[43m)\u001b[49m\n\u001b[1;32m     24\u001b[0m \u001b[38;5;66;03m# 2. 예시 질의\u001b[39;00m\n\u001b[1;32m     25\u001b[0m query \u001b[38;5;241m=\u001b[39m \u001b[38;5;124m\"\u001b[39m\u001b[38;5;124m성진우는 황동석과 처음 만난 장면에서 무엇을 했어?\u001b[39m\u001b[38;5;124m\"\u001b[39m\n",
      "File \u001b[0;32m~/.local/lib/python3.10/site-packages/langchain_community/vectorstores/faiss.py:1190\u001b[0m, in \u001b[0;36mFAISS.load_local\u001b[0;34m(cls, folder_path, embeddings, index_name, allow_dangerous_deserialization, **kwargs)\u001b[0m\n\u001b[1;32m   1176\u001b[0m \u001b[38;5;250m\u001b[39m\u001b[38;5;124;03m\"\"\"Load FAISS index, docstore, and index_to_docstore_id from disk.\u001b[39;00m\n\u001b[1;32m   1177\u001b[0m \n\u001b[1;32m   1178\u001b[0m \u001b[38;5;124;03mArgs:\u001b[39;00m\n\u001b[0;32m   (...)\u001b[0m\n\u001b[1;32m   1187\u001b[0m \u001b[38;5;124;03m        arbitrary code on your machine.\u001b[39;00m\n\u001b[1;32m   1188\u001b[0m \u001b[38;5;124;03m\"\"\"\u001b[39;00m\n\u001b[1;32m   1189\u001b[0m \u001b[38;5;28;01mif\u001b[39;00m \u001b[38;5;129;01mnot\u001b[39;00m allow_dangerous_deserialization:\n\u001b[0;32m-> 1190\u001b[0m     \u001b[38;5;28;01mraise\u001b[39;00m \u001b[38;5;167;01mValueError\u001b[39;00m(\n\u001b[1;32m   1191\u001b[0m         \u001b[38;5;124m\"\u001b[39m\u001b[38;5;124mThe de-serialization relies loading a pickle file. \u001b[39m\u001b[38;5;124m\"\u001b[39m\n\u001b[1;32m   1192\u001b[0m         \u001b[38;5;124m\"\u001b[39m\u001b[38;5;124mPickle files can be modified to deliver a malicious payload that \u001b[39m\u001b[38;5;124m\"\u001b[39m\n\u001b[1;32m   1193\u001b[0m         \u001b[38;5;124m\"\u001b[39m\u001b[38;5;124mresults in execution of arbitrary code on your machine.\u001b[39m\u001b[38;5;124m\"\u001b[39m\n\u001b[1;32m   1194\u001b[0m         \u001b[38;5;124m\"\u001b[39m\u001b[38;5;124mYou will need to set `allow_dangerous_deserialization` to `True` to \u001b[39m\u001b[38;5;124m\"\u001b[39m\n\u001b[1;32m   1195\u001b[0m         \u001b[38;5;124m\"\u001b[39m\u001b[38;5;124menable deserialization. If you do this, make sure that you \u001b[39m\u001b[38;5;124m\"\u001b[39m\n\u001b[1;32m   1196\u001b[0m         \u001b[38;5;124m\"\u001b[39m\u001b[38;5;124mtrust the source of the data. For example, if you are loading a \u001b[39m\u001b[38;5;124m\"\u001b[39m\n\u001b[1;32m   1197\u001b[0m         \u001b[38;5;124m\"\u001b[39m\u001b[38;5;124mfile that you created, and know that no one else has modified the \u001b[39m\u001b[38;5;124m\"\u001b[39m\n\u001b[1;32m   1198\u001b[0m         \u001b[38;5;124m\"\u001b[39m\u001b[38;5;124mfile, then this is safe to do. Do not set this to `True` if you are \u001b[39m\u001b[38;5;124m\"\u001b[39m\n\u001b[1;32m   1199\u001b[0m         \u001b[38;5;124m\"\u001b[39m\u001b[38;5;124mloading a file from an untrusted source (e.g., some random site on \u001b[39m\u001b[38;5;124m\"\u001b[39m\n\u001b[1;32m   1200\u001b[0m         \u001b[38;5;124m\"\u001b[39m\u001b[38;5;124mthe internet.).\u001b[39m\u001b[38;5;124m\"\u001b[39m\n\u001b[1;32m   1201\u001b[0m     )\n\u001b[1;32m   1202\u001b[0m path \u001b[38;5;241m=\u001b[39m Path(folder_path)\n\u001b[1;32m   1203\u001b[0m \u001b[38;5;66;03m# load index separately since it is not picklable\u001b[39;00m\n",
      "\u001b[0;31mValueError\u001b[0m: The de-serialization relies loading a pickle file. Pickle files can be modified to deliver a malicious payload that results in execution of arbitrary code on your machine.You will need to set `allow_dangerous_deserialization` to `True` to enable deserialization. If you do this, make sure that you trust the source of the data. For example, if you are loading a file that you created, and know that no one else has modified the file, then this is safe to do. Do not set this to `True` if you are loading a file from an untrusted source (e.g., some random site on the internet.)."
     ]
    }
   ],
   "source": [
    "from langchain.vectorstores import FAISS\n",
    "from langchain.embeddings import HuggingFaceEmbeddings\n",
    "import pickle\n",
    "\n",
    "# 1. 벡터 DB 로드\n",
    "embedding = HuggingFaceEmbeddings(model_name='jhgan/ko-sroberta-multitask')\n",
    "db = FAISS.load_local(\"solo_leveling_faiss_ko\", embedding, allow_dangerous_deserialization=True)  # 🔹 이 옵션 추가\n",
    "\n",
    "\n",
    "# 2. 예시 질의\n",
    "query = \"성진우는 황동석과 처음 만난 장면에서 무엇을 했어?\"\n",
    "docs = db.similarity_search(query, k=3)\n",
    "\n",
    "for i, doc in enumerate(docs, 1):\n",
    "    print(f\"[{i}] {doc.page_content}\")\n",
    "from langchain.vectorstores import FAISS\n",
    "from langchain.embeddings import HuggingFaceEmbeddings\n",
    "import pickle\n",
    "\n",
    "# 1. 벡터 DB 로드\n",
    "embedding = HuggingFaceEmbeddings(model_name='jhgan/ko-sroberta-multitask')\n",
    "db = FAISS.load_local(\"solo_leveling_faiss_ko\", embedding)\n",
    "\n",
    "# 2. 예시 질의\n",
    "query = \"성진우는 황동석과 처음 만난 장면에서 무엇을 했어?\"\n",
    "docs = db.similarity_search(query, k=3)\n",
    "\n",
    "for i, doc in enumerate(docs, 1):\n",
    "    print(f\"[{i}] {doc.page_content}\")\n"
   ]
  },
  {
   "cell_type": "code",
   "execution_count": null,
   "id": "ac05aed2-9dae-4f2f-b3a1-eee03a1f5c81",
   "metadata": {},
   "outputs": [],
   "source": [
    "from langchain.vectorstores import FAISS\n",
    "from langchain.docstore.in_memory import InMemoryDocstore\n",
    "from langchain.docstore.document import Document\n",
    "from langchain.embeddings import HuggingFaceEmbeddings\n",
    "import faiss\n",
    "import pickle\n",
    "\n",
    "# 1. 기존 데이터 로드\n",
    "index_path = \"solo_leveling_faiss_ko.index\"\n",
    "texts_path = \"solo_leveling_texts.pkl\"\n",
    "\n",
    "index = faiss.read_index(index_path)\n",
    "with open(texts_path, \"rb\") as f:\n",
    "    texts = pickle.load(f)\n",
    "\n",
    "# 2. 임베딩 모델 준비\n",
    "embedding = HuggingFaceEmbeddings(model_name='jhgan/ko-sroberta-multitask')\n",
    "\n",
    "# 3. LangChain 문서화\n",
    "docs = [Document(page_content=text) for text in texts]\n",
    "docstore = InMemoryDocstore({str(i): doc for i, doc in enumerate(docs)})\n",
    "index_to_docstore_id = {i: str(i) for i in range(len(docs))}\n",
    "\n",
    "db = FAISS(\n",
    "    embedding_function=embedding,\n",
    "    index=index,\n",
    "    docstore=docstore,\n",
    "    index_to_docstore_id=index_to_docstore_id\n",
    ")\n",
    "\n",
    "# 4. LangChain 호환 구조로 저장\n",
    "db.save_local(\"solo_leveling_faiss_langchain\")\n",
    "print(\"변환 완료: solo_leveling_faiss_langchain 폴더 생성됨\")\n"
   ]
  },
  {
   "cell_type": "markdown",
   "id": "cc27fe9f-c69a-4dab-8d9f-603c7079cad6",
   "metadata": {},
   "source": [
    "## 1. tsv full data load"
   ]
  },
  {
   "cell_type": "code",
   "execution_count": 6,
   "id": "60146aa5-f97a-4931-a4f2-7f8d33136f6b",
   "metadata": {},
   "outputs": [
    {
     "name": "stdout",
     "output_type": "stream",
     "text": [
      "         에피소드                     scene_text  type\n",
      "0  1권_1화_이중던전    네, 김상식 아저씨. 신경 써 주셔서 감사합니다.    대사\n",
      "1  1권_1화_이중던전               내 이름은 성진우. E급 헌터  내적설명\n",
      "2  1권_1화_이중던전         뭘요 하하... 오늘도 잘 부탁드릴게요.    대사\n",
      "3  1권_1화_이중던전    헌터협회 소속 중 가장 낮은 계급, 최약의 헌터.  내적설명\n",
      "4  1권_1화_이중던전  어? 안녕하세요. 주희 씨도 이번 레이드 가시는군요.    대사\n",
      "전체 문장 수: 549\n",
      "컬럼 목록: ['에피소드', 'scene_text', 'type']\n"
     ]
    }
   ],
   "source": [
    "import pandas as pd\n",
    "\n",
    "\n",
    "df = pd.read_csv(\"sl_webtoon_full_data_sequential.tsv\", sep=\"\\t\")\n",
    "\n",
    "\n",
    "print(df.head())\n",
    "print(\"전체 문장 수:\", len(df))\n",
    "print(\"컬럼 목록:\", df.columns.tolist())\n",
    "\n",
    "# 549\n",
    "#컬럼 목록: ['에피소드', 'scene_text', 'type']\n"
   ]
  },
  {
   "cell_type": "code",
   "execution_count": 7,
   "id": "fd35b473-3d92-4d9d-a8ee-5565dff05e76",
   "metadata": {},
   "outputs": [
    {
     "name": "stdout",
     "output_type": "stream",
     "text": [
      "         에피소드                   scene_text  type\n",
      "0  1권_1화_이중던전  네, 김상식 아저씨. 신경 써 주셔서 감사합니다.    대사\n",
      "1  1권_1화_이중던전             내 이름은 성진우. E급 헌터  내적설명\n",
      "2  1권_1화_이중던전       뭘요 하하... 오늘도 잘 부탁드릴게요.    대사\n",
      "컬럼: ['에피소드', 'scene_text', 'type'] 전체 행: 549\n"
     ]
    }
   ],
   "source": [
    "import pandas as pd\n",
    "\n",
    "df = pd.read_csv(\"sl_webtoon_full_data_sequential.tsv\", sep=\"\\t\")\n",
    "print(df.head(3))\n",
    "print(\"컬럼:\", df.columns.tolist(), \"전체 행:\", len(df))\n"
   ]
  },
  {
   "cell_type": "code",
   "execution_count": 8,
   "id": "fa5db259-991a-48b1-859f-2308432737c5",
   "metadata": {},
   "outputs": [
    {
     "name": "stdout",
     "output_type": "stream",
     "text": [
      "['[1권_1화_이중던전] #0 대사 네, 김상식 아저씨. 신경 써 주셔서 감사합니다.', '[1권_1화_이중던전] #1 내적설명 내 이름은 성진우. E급 헌터', '[1권_1화_이중던전] #2 대사 뭘요 하하... 오늘도 잘 부탁드릴게요.']\n"
     ]
    }
   ],
   "source": [
    "\n",
    "df['row_id'] = df.index #인덱스 컬럼 추가 <- 원본 추적용\n",
    "\n",
    "df['text'] = df.apply(\n",
    "    lambda x: f\"[{x['에피소드']}] #{x['row_id']} {x['type']} {x['scene_text']}\", #rag 문장 컬럼 생성\n",
    "    axis=1\n",
    ")\n",
    "\n",
    "print(df['text'].head(3).tolist())\n"
   ]
  },
  {
   "cell_type": "code",
   "execution_count": 9,
   "id": "0b95c977-5485-4fdf-b5d8-fb837a0a8cf7",
   "metadata": {},
   "outputs": [
    {
     "name": "stdout",
     "output_type": "stream",
     "text": [
      "최종 문장 수: 549\n"
     ]
    }
   ],
   "source": [
    "texts = df['text'].tolist()\n",
    "print(\"최종 문장 수:\", len(texts))\n",
    "# 549"
   ]
  },
  {
   "cell_type": "markdown",
   "id": "0be84111-8a20-49b4-827a-305e9498fe15",
   "metadata": {},
   "source": [
    "## 2. Rag 문장 생성"
   ]
  },
  {
   "cell_type": "code",
   "execution_count": 10,
   "id": "2f948651-c16f-40d6-9b96-2aaafb1d7bc9",
   "metadata": {},
   "outputs": [
    {
     "name": "stdout",
     "output_type": "stream",
     "text": [
      "예시 5개:\n",
      "- [1권_1화_이중던전] #0 대사 네, 김상식 아저씨. 신경 써 주셔서 감사합니다.\n",
      "- [1권_1화_이중던전] #1 내적설명 내 이름은 성진우. E급 헌터\n",
      "- [1권_1화_이중던전] #2 대사 뭘요 하하... 오늘도 잘 부탁드릴게요.\n",
      "- [1권_1화_이중던전] #3 내적설명 헌터협회 소속 중 가장 낮은 계급, 최약의 헌터.\n",
      "- [1권_1화_이중던전] #4 대사 어? 안녕하세요. 주희 씨도 이번 레이드 가시는군요.\n",
      "\n",
      "최종 문장 수: 549\n"
     ]
    }
   ],
   "source": [
    "# 2단계: 최종 RAG 문장 생성\n",
    "df['row_id'] = df.index  # 원본 추적용 인덱스\n",
    "df['text'] = df.apply(\n",
    "    lambda x: f\"[{x['에피소드']}] #{x['row_id']} {x['type']} {x['scene_text']}\",\n",
    "    axis=1\n",
    ")\n",
    "\n",
    "print(\"예시 5개:\")\n",
    "for t in df['text'].head(5).tolist():\n",
    "    print(\"-\", t)\n",
    "\n",
    "texts = df['text'].tolist()\n",
    "print(\"\\n최종 문장 수:\", len(texts))\n",
    "#549"
   ]
  },
  {
   "cell_type": "markdown",
   "id": "0d659a2e-2c7b-4158-b676-d85abc5d3e92",
   "metadata": {},
   "source": [
    "## 3. 한국어 임베딩 모델 로드, 벡터 db - solo_leveling_faiss_ko\n",
    "\n"
   ]
  },
  {
   "cell_type": "code",
   "execution_count": 11,
   "id": "6ef1ac89-0931-48a8-9024-26150004b81d",
   "metadata": {},
   "outputs": [
    {
     "name": "stdout",
     "output_type": "stream",
     "text": [
      " 벡터DB 생성 완료. 총 문장 수: 549\n",
      " 'solo_leveling_faiss_ko' 폴더에 저장\n"
     ]
    }
   ],
   "source": [
    "from langchain.vectorstores import FAISS\n",
    "from langchain.embeddings import HuggingFaceEmbeddings\n",
    "\n",
    "embedding_model = HuggingFaceEmbeddings(model_name='jhgan/ko-sroberta-multitask')\n",
    "\n",
    "db = FAISS.from_texts(texts, embedding_model)\n",
    "print(\" 벡터DB 생성 완료. 총 문장 수:\", len(texts))\n",
    "\n",
    "db.save_local(\"solo_leveling_faiss_ko\")\n",
    "print(\" 'solo_leveling_faiss_ko' 폴더에 저장\")\n"
   ]
  },
  {
   "cell_type": "code",
   "execution_count": 12,
   "id": "a6acad70-ae02-4808-800e-fee4c2a36153",
   "metadata": {},
   "outputs": [
    {
     "name": "stdout",
     "output_type": "stream",
     "text": [
      "[1] [2권_3화_퀘스트 ] #332 대사 던전에 사는 마수라면 마정석을 갖고 있을 줄 알았는데...완전히 다른 부류인가.\n",
      "[2] [1권_3화_퀘스트] #132 대사 여... 여긴?!  사막...!!\n",
      "[3] [2권_3화_퀘스트 ] #331 대사 이 녀석들은 마정석 같은 건 안 주나?\n",
      "[4] [2권_4화_보스전] #457 내적설명 경험이 많으면 많을수록 랭크가 높으면 높을수록 마수들에게서 나오는 마정석은 가치를 더해 간다.\n",
      "[5] [2권_4화_보스전] #449 대사 문제는 지능인데... 마법과 관련된 스탯일 것 같긴 한데, 이게 피룡할까?\n"
     ]
    }
   ],
   "source": [
    "db = FAISS.load_local(\"solo_leveling_faiss_ko\", embedding_model, allow_dangerous_deserialization=True)\n",
    "\n",
    "\n",
    "query = \"마나석이 뭐지?\"\n",
    "docs = db.similarity_search(query, k=5)\n",
    "\n",
    "for i, doc in enumerate(docs, 1):\n",
    "    print(f\"[{i}] {doc.page_content}\")\n"
   ]
  },
  {
   "cell_type": "code",
   "execution_count": 13,
   "id": "b215211a-ed27-4571-a9cf-b5792c6fa20c",
   "metadata": {},
   "outputs": [],
   "source": [
    "## rag 확인"
   ]
  },
  {
   "cell_type": "code",
   "execution_count": 14,
   "id": "caf4de14-02ef-4143-97eb-00cdab7a2fa5",
   "metadata": {},
   "outputs": [
    {
     "name": "stderr",
     "output_type": "stream",
     "text": [
      "Device set to use cuda:0\n"
     ]
    }
   ],
   "source": [
    "from transformers import pipeline\n",
    "\n",
    "generator = pipeline(\n",
    "    \"text-generation\",\n",
    "    model=\"kakaocorp/kanana-nano-2.1b-instruct\",\n",
    "    device=0  \n",
    ")\n",
    "\n"
   ]
  },
  {
   "cell_type": "code",
   "execution_count": 15,
   "id": "2ef2966e-c110-4565-8ddf-1a1bee864934",
   "metadata": {},
   "outputs": [
    {
     "name": "stderr",
     "output_type": "stream",
     "text": [
      "Device set to use cuda:0\n",
      "/tmp/ipykernel_1304235/3834059051.py:17: LangChainDeprecationWarning: The class `HuggingFacePipeline` was deprecated in LangChain 0.0.37 and will be removed in 1.0. An updated version of the class exists in the :class:`~langchain-huggingface package and should be used instead. To use it run `pip install -U :class:`~langchain-huggingface` and import as `from :class:`~langchain_huggingface import HuggingFacePipeline``.\n",
      "  llm = HuggingFacePipeline(pipeline=llm_pipeline)\n",
      "/tmp/ipykernel_1304235/3834059051.py:35: LangChainDeprecationWarning: The method `Chain.__call__` was deprecated in langchain 0.1.0 and will be removed in 1.0. Use :meth:`~invoke` instead.\n",
      "  result = qa_chain({\"query\": query})\n"
     ]
    },
    {
     "name": "stdout",
     "output_type": "stream",
     "text": [
      "답변: 다음 문맥을 참고하여 질문에 답하세요.\n",
      "\n",
      "문맥:\n",
      "[1권_1화_이중던전] #1 내적설명 내 이름은 성진우. E급 헌터\n",
      "\n",
      "[2권_4화_보스전] #451 대사 헌터 성진우입니다.\n",
      "\n",
      "[1권_1화_이중던전] #9 내적설명 E급 헌터 성진우.\n",
      "\n",
      "[3권_7화_이상한레이드] #484 내적설명 그 녀석이 원하는 건 실력은 있지만 등급이 낮은 헌터니까.\n",
      "\n",
      "[2권_4화_보스전] #468 내적설명 능력치를 올릴 수 있는 헌터가 있다?\n",
      "\n",
      "질문:\n",
      "성진우는 몇 급 헌터지?\n",
      "\n",
      "답변: 성진우는 E급 헌터입니다.  #1 내적설명 및 #9 내적설명 참고.  #450 내적설명 및 #468 내적설명에서도 이 정보가 확인됩니다.  E급 헌터로 설정되어 있습니다.  #4화_보스전_성진우_대사에서도 확인할 수 있습니다.  성진우는 E급 헌터입니다.  급은 E급입니다.  헌터 등급은 E급입니다.  E급 헌터 성진우.  #1 내적설명 및 #9 내적설명에 명시되어 있습니다.  E급 헌터가 맞습니다.  헌터 등급은 E급입니다.  성진우의 헌터 등급은 E급입니다.  E급 헌터 성진우입니다.  E급 헌터가 맞습니다.  성진우는 E급 헌터입니다.  헌터 등급은 E급입니다.  성진우의 헌터 등급은 E급입니다.  E급 헌터 성진우.  #4화_보스전_성진\n",
      "\n",
      "참조 문서:\n",
      "[1권_1화_이중던전] #1 내적설명 내 이름은 성진우. E급 헌터\n",
      "[2권_4화_보스전] #451 대사 헌터 성진우입니다.\n",
      "[1권_1화_이중던전] #9 내적설명 E급 헌터 성진우.\n",
      "[3권_7화_이상한레이드] #484 내적설명 그 녀석이 원하는 건 실력은 있지만 등급이 낮은 헌터니까.\n",
      "[2권_4화_보스전] #468 내적설명 능력치를 올릴 수 있는 헌터가 있다?\n"
     ]
    }
   ],
   "source": [
    "from langchain.chains import RetrievalQA\n",
    "from langchain.vectorstores import FAISS\n",
    "from langchain.prompts import PromptTemplate\n",
    "from langchain_community.llms import HuggingFacePipeline\n",
    "from langchain.embeddings import HuggingFaceEmbeddings\n",
    "import torch\n",
    "from transformers import AutoTokenizer, AutoModelForCausalLM, pipeline\n",
    "\n",
    "embedding_model = HuggingFaceEmbeddings(model_name='jhgan/ko-sroberta-multitask')\n",
    "vectorstore = FAISS.load_local(\"solo_leveling_faiss_ko\", embedding_model, allow_dangerous_deserialization=True)\n",
    "\n",
    "model_name = \"kakaocorp/kanana-nano-2.1b-instruct\"\n",
    "tokenizer = AutoTokenizer.from_pretrained(model_name)\n",
    "model = AutoModelForCausalLM.from_pretrained(model_name, torch_dtype=torch.float16).to(\"cuda\")\n",
    "\n",
    "llm_pipeline = pipeline(\"text-generation\", model=model, tokenizer=tokenizer, max_new_tokens=256)\n",
    "llm = HuggingFacePipeline(pipeline=llm_pipeline)\n",
    "\n",
    "custom_prompt = PromptTemplate(\n",
    "    input_variables=[\"context\", \"question\"],\n",
    "    template=\"다음 문맥을 참고하여 질문에 답하세요.\\n\\n문맥:\\n{context}\\n\\n질문:\\n{question}\\n\\n답변:\"\n",
    ")\n",
    "\n",
    "qa_chain = RetrievalQA.from_chain_type(\n",
    "    llm=llm,\n",
    "    retriever=vectorstore.as_retriever(search_kwargs={\"k\": 5}),\n",
    "    chain_type=\"stuff\",\n",
    "    return_source_documents=True,\n",
    "    chain_type_kwargs={\n",
    "        \"prompt\": custom_prompt  }\n",
    ")\n",
    "\n",
    "#질문\n",
    "query = \"성진우는 몇 급 헌터지?\"\n",
    "result = qa_chain({\"query\": query})\n",
    "\n",
    "print(\"답변:\", result[\"result\"])\n",
    "print(\"\\n참조 문서:\")\n",
    "for doc in result[\"source_documents\"]:\n",
    "    print(doc.page_content)\n"
   ]
  },
  {
   "cell_type": "markdown",
   "id": "a10cc72f-d587-4dc3-a6a4-e56b08d0a985",
   "metadata": {},
   "source": [
    "## 4. 황동석 에피소드 "
   ]
  },
  {
   "cell_type": "code",
   "execution_count": 16,
   "id": "46946824-27c5-4a95-a293-d6b3ab905277",
   "metadata": {},
   "outputs": [
    {
     "name": "stdout",
     "output_type": "stream",
     "text": [
      "\n",
      "[선택지]\n",
      "1. 1-1. 황동석 무리를 모두 처치한다.\n",
      "2. 1-2. 황동석 무리와 진호를 포함하여 모두 처치한다.\n",
      "3. 2. 황동석 무리를 기절시키고 살려둔다.\n",
      "4. 3-1. 마정석을 들고 도망친다.\n",
      "5. 3-2. 시스템을 거부하고 그냥 도망친다.\n"
     ]
    },
    {
     "name": "stdin",
     "output_type": "stream",
     "text": [
      "\n",
      "선택 번호 입력:  5\n"
     ]
    },
    {
     "name": "stdout",
     "output_type": "stream",
     "text": [
      "\n",
      "[사용자 선택]: 3-2. 시스템을 거부하고 그냥 도망친다.\n",
      "\n",
      "[검색된 근거 문서 예시]\n",
      "[1권_3화_퀘스트] #162 대사 도망치는 건 자신 있으니까, 만약 지난번처럼 위험해지면 물불 가리지 말고 도망치자!\n",
      "[1권_3화_퀘스트] #167 대사 어쩌지... 여차하면 도망치려고 했는데 퇴로를 차단하면 도망칠 수가 없잖아!\n",
      "[2권_2화_세가지규율] #227 내적설명 우리가 실패하면... 저게 밖으로 나갈 수도 있다는 말인가.\n",
      "[2권_2화_세가지규율] #275 시스템 수락을 거부하실 경우, 0.02초 후 귀하의 심장이 정지합니다.\n",
      "[2권_2화_세가지규율] #192 내적설명 가까이 갈 수도 없고 도망도 못 쳐! ...\n",
      "\n",
      "[성진우 응답]\n",
      "도망치는 게 더 나을 것 같아. 하지만 안전하게 도망칠 수 있을지 걱정이야. 어쨌든 일단 도망쳐보자. 대신 다시는 이런 상황이 오지 않도록 조심해야겠어. 도망치기 전에 잠시 숨을 고르자. 준비가 되면 빠르게 움직이자. 도망칠 수 있는 방법을 찾아보자. 도망치다 보면 더 나은 방법도 찾을 수 있을 거야. 도망치는 게 최선의 선택이야. 하지만 항상 조심하고 대비해야 해. 도망치는 동안에도 상황을 잘 파악하고 있어야 해. 도망치면서 더 나은 전략을 세울 수 있을지도 몰라. 도망치는 게 두려워지면 더 큰 위험이 올 수도 있으니까, 일단 도망치는 게 맞는 것 같아. 하지만 도망친 후에 더 나은\n"
     ]
    }
   ],
   "source": [
    "choices = [\n",
    "    \"1-1. 황동석 무리를 모두 처치한다.\",\n",
    "    \"1-2. 황동석 무리와 진호를 포함하여 모두 처치한다.\",\n",
    "    \"2. 황동석 무리를 기절시키고 살려둔다.\",\n",
    "    \"3. 시스템을 거부하고 그냥 도망친다.\"\n",
    "]\n",
    "\n",
    "print(\"\\n[선택지]\")\n",
    "for idx, choice in enumerate(choices, start=1):\n",
    "    print(f\"{idx}. {choice}\")\n",
    "\n",
    "user_idx = int(input(\"\\n선택 번호 입력: \")) - 1\n",
    "user_choice = choices[user_idx]\n",
    "print(f\"\\n[사용자 선택]: {user_choice}\")\n",
    "\n",
    "result = qa_chain({\"query\": user_choice})\n",
    "\n",
    "retrieved_context = \"\\n\".join([doc.page_content for doc in result[\"source_documents\"]])\n",
    "print(\"\\n[검색된 근거 문서 예시]\")\n",
    "print(retrieved_context[:600], \"...\") \n",
    "\n",
    "# 4. 성진우 말투 대사 생성\n",
    "prompt = f\"\"\"\n",
    "당신은 웹툰 '나 혼자만 레벨업'의 성진우입니다.\n",
    "현재 상황:\n",
    "{retrieved_context}\n",
    "\n",
    "사용자 선택: {user_choice}\n",
    "\n",
    "성진우의 말투로 간결하고 자연스러운 대사를 1~2문장 생성하세요.\n",
    "중복된 내용이나 비슷한 문장은 만들지 마세요.\n",
    "\"\"\"\n",
    "\n",
    "response = generator(prompt, \n",
    "                     max_new_tokens=200, \n",
    "                     do_sample=True, \n",
    "                     temperature=0.6,\n",
    "                     top_p = 0.9,\n",
    "                     return_full_text=False  # 추가\n",
    ")[0][\"generated_text\"]\n",
    "print(\"\\n[성진우 응답]\")\n",
    "print(response)\n"
   ]
  },
  {
   "cell_type": "code",
   "execution_count": null,
   "id": "7b183dc5-56be-4464-b737-00f11b30bbd0",
   "metadata": {},
   "outputs": [],
   "source": []
  },
  {
   "cell_type": "markdown",
   "id": "495143f6-df63-496d-a35c-4fff9f40f6b5",
   "metadata": {},
   "source": [
    "## "
   ]
  }
 ],
 "metadata": {
  "kernelspec": {
   "display_name": "Python (ka)",
   "language": "python",
   "name": "myenv"
  },
  "language_info": {
   "codemirror_mode": {
    "name": "ipython",
    "version": 3
   },
   "file_extension": ".py",
   "mimetype": "text/x-python",
   "name": "python",
   "nbconvert_exporter": "python",
   "pygments_lexer": "ipython3",
   "version": "3.10.12"
  }
 },
 "nbformat": 4,
 "nbformat_minor": 5
}
