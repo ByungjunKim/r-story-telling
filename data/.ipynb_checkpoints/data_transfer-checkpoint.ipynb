{
 "cells": [
  {
   "cell_type": "code",
   "execution_count": 4,
   "id": "bb48a0d3-aabc-4649-a4b8-7d16770b72e3",
   "metadata": {},
   "outputs": [],
   "source": [
    "import pandas as pd\n",
    "\n",
    "# 데이터 불러오기\n",
    "df = pd.read_csv(\"Solo_Leveling_webtoon - full_data.tsv\", sep=\"\\t\")\n",
    "\n",
    "# 컬럼 이름 통일\n",
    "df = df.rename(columns={\n",
    "    '대사':'dialogue',\n",
    "    '내적설명':'monologue',\n",
    "    '시스템':'system'\n",
    "})\n",
    "\n",
    "# melt로 세로로 변환\n",
    "long_df = df.melt(\n",
    "    id_vars=['에피소드명'],  # 화수 또는 episode 컬럼\n",
    "    value_vars=['dialogue', 'monologue', 'system'],\n",
    "    var_name='type',\n",
    "    value_name='content'\n",
    ")\n",
    "\n",
    "# NaN 제거\n",
    "long_df = long_df.dropna(subset=['content']).reset_index(drop=True)\n",
    "\n",
    "# type 한국어화\n",
    "long_df['type'] = long_df['type'].map({\n",
    "    'dialogue':'대사', \n",
    "    'monologue':'내적설명',\n",
    "    'system':'시스템'\n",
    "})\n",
    "\n",
    "# 저장\n",
    "long_df.to_csv(\"full_data_cleaned.tsv\", sep=\"\\t\", index=False)\n"
   ]
  },
  {
   "cell_type": "code",
   "execution_count": 1,
   "id": "8c559a12-6e85-42fe-ad54-ffcfedf63904",
   "metadata": {},
   "outputs": [
    {
     "name": "stdout",
     "output_type": "stream",
     "text": [
      " sl_dialogue.tsv      sl_skill.tsv                             untitled.txt\n",
      " sl_personality.tsv  'Solo_Leveling_webtoon - full_data.tsv'\n",
      " sl_situation.tsv     Untitled.ipynb\n"
     ]
    }
   ],
   "source": [
    "ls"
   ]
  },
  {
   "cell_type": "code",
   "execution_count": 7,
   "id": "c09c0d9c-77b1-4640-9ce7-43d97b16f0cc",
   "metadata": {},
   "outputs": [
    {
     "name": "stdout",
     "output_type": "stream",
     "text": [
      "변환 완료! 저장 위치: Solo_Leveling_webtoon - sequential.tsv\n",
      "         에피소드                     scene_text  type\n",
      "0  1권_1화_이중던전    네, 김상식 아저씨. 신경 써 주셔서 감사합니다.    대사\n",
      "1  1권_1화_이중던전               내 이름은 성진우. E급 헌터  내적설명\n",
      "2  1권_1화_이중던전         뭘요 하하... 오늘도 잘 부탁드릴게요.    대사\n",
      "3  1권_1화_이중던전    헌터협회 소속 중 가장 낮은 계급, 최약의 헌터.  내적설명\n",
      "4  1권_1화_이중던전  어? 안녕하세요. 주희 씨도 이번 레이드 가시는군요.    대사\n",
      "5  1권_1화_이중던전   나에게 이런 일이 일어날 줄은...상상도 못 했다.  내적설명\n",
      "6  1권_1화_이중던전            어쩌다보니 그렇게 됐네요 하하...    대사\n",
      "7  1권_1화_이중던전                        대한민국 서울  내적설명\n",
      "8  1권_1화_이중던전         E급 던전이었는데 저만 다쳐서 나왔어요.    대사\n",
      "9  1권_1화_이중던전                     E급 헌터 성진우.  내적설명\n"
     ]
    }
   ],
   "source": [
    "import pandas as pd\n",
    "\n",
    "# 1. 데이터 불러오기\n",
    "input_path = \"Solo_Leveling_webtoon - full_data.tsv\"\n",
    "output_path = \"Solo_Leveling_webtoon - sequential.tsv\"\n",
    "\n",
    "# TSV 읽기\n",
    "df = pd.read_csv(input_path, sep='\\t', encoding='utf-8')\n",
    "\n",
    "# 결측치(NaN)를 빈 문자열로 변환\n",
    "df = df.fillna(\"\")\n",
    "\n",
    "# 2. 열 이름 확인 (연구원님 파일에 맞춰 조정)\n",
    "cols = ['에피소드명', '대사', '내적설명', '시스템']\n",
    "\n",
    "# 3. Sequential Interleaving 변환\n",
    "rows = []\n",
    "for ep, group in df.groupby('에피소드명'):\n",
    "    for idx, row in group.iterrows():\n",
    "        # 대사, 내적설명, 시스템 순서대로 이어 붙임\n",
    "        for col in ['대사', '내적설명', '시스템']:\n",
    "            text = row[col].strip()\n",
    "            if text:  # 빈 칸은 건너뛴다\n",
    "                rows.append({\n",
    "                    '에피소드': ep,\n",
    "                    'scene_text': text,\n",
    "                    'type': col  \n",
    "                })\n",
    "\n",
    "seq_df = pd.DataFrame(rows)\n",
    "\n",
    "# 4. 저장\n",
    "seq_df.to_csv(output_path, sep='\\t', index=False, encoding='utf-8')\n",
    "\n",
    "print(\"변환 완료! 저장 위치:\", output_path)\n",
    "print(seq_df.head(10))\n"
   ]
  },
  {
   "cell_type": "code",
   "execution_count": 9,
   "id": "16ff8f80-44df-4dc3-8c71-1095290ba9d0",
   "metadata": {},
   "outputs": [
    {
     "name": "stderr",
     "output_type": "stream",
     "text": [
      "Device set to use cuda:0\n"
     ]
    },
    {
     "name": "stdout",
     "output_type": "stream",
     "text": [
      "당신은 성진우입니다.\n",
      "다음은 과거의 행동과 대사 기록입니다:\n",
      "생각 이상으로 체력이 깎여 있었나?\n",
      "혹시... 능력치가 올라갈수록 가중치가 붙는 걸까?\n",
      "강해지려고 여기까지 왔잖아.\n",
      "\n",
      "현재 상황: 황동석 무리를 만났을 때 어떻게 행동할까?\n",
      "성진우답게 한 문장으로 대답하세요.\n",
      "황동석 무리를 무력화시킬 계획을 세울 것입니다.   답은 정해져 있지 않지만, 성진우의 성격상 강력한 전략을 구사할 것으로 예상됩니다.   #성진우 #황동석무리 #전략 #강력한계획 #성격 #무력화 #앞으로의행동 #의지 #고등학생 #캐릭터 #역할 #이야기 #게임\n"
     ]
    }
   ],
   "source": [
    "import pandas as pd\n",
    "from sentence_transformers import SentenceTransformer\n",
    "import faiss\n",
    "from transformers import pipeline\n",
    "\n",
    "# 1️⃣ 데이터 로드\n",
    "df = pd.read_csv(\"sl_webtoon_full_data_sequential.tsv\", sep=\"\\t\")\n",
    "texts = df['scene_text'].fillna(\"\").tolist()\n",
    "\n",
    "# 2️⃣ 문장 임베딩 & 벡터 DB 구축\n",
    "model = SentenceTransformer(\"all-MiniLM-L6-v2\")  # CPU/GPU 모두 가능\n",
    "embeddings = model.encode(texts, convert_to_tensor=False)\n",
    "\n",
    "index = faiss.IndexFlatL2(embeddings.shape[1])\n",
    "index.add(embeddings)\n",
    "\n",
    "# 3️⃣ 카나나 모델 로드\n",
    "generator = pipeline(\n",
    "    \"text-generation\",\n",
    "    model=\"kakaocorp/kanana-nano-2.1b-instruct\",\n",
    "    device=0  # GPU 사용\n",
    ")\n",
    "\n",
    "# 4️⃣ 질의 → 유사 문장 검색\n",
    "def retrieve_context(query, top_k=3):\n",
    "    q_emb = model.encode([query], convert_to_tensor=False)\n",
    "    distances, indices = index.search(q_emb, top_k)\n",
    "    return [texts[i] for i in indices[0]]\n",
    "\n",
    "# 5️⃣ 카나나 프롬프트 생성 및 응답\n",
    "def ask_kanana(query):\n",
    "    context = \"\\n\".join(retrieve_context(query))\n",
    "    prompt = f\"\"\"당신은 성진우입니다.\n",
    "다음은 과거의 행동과 대사 기록입니다:\n",
    "{context}\n",
    "\n",
    "현재 상황: {query}\n",
    "성진우답게 한 문장으로 대답하세요.\n",
    "\"\"\"\n",
    "    result = generator(prompt, max_new_tokens=100, temperature=0.7, do_sample=True)\n",
    "    return result[0]['generated_text']\n",
    "\n",
    "# 🔹 테스트\n",
    "print(ask_kanana(\"황동석 무리를 만났을 때 어떻게 행동할까?\"))\n"
   ]
  },
  {
   "cell_type": "code",
   "execution_count": 5,
   "id": "bae1a74d-b669-482e-95c7-9ad3d7ecb52c",
   "metadata": {},
   "outputs": [
    {
     "name": "stdout",
     "output_type": "stream",
     "text": [
      "RAG DB 구축 완료, 총 문장 수: 549\n"
     ]
    }
   ],
   "source": [
    "\n",
    "import pandas as pd\n",
    "from sentence_transformers import SentenceTransformer\n",
    "import faiss\n",
    "import numpy as np\n",
    "import pickle\n",
    "\n",
    "data_path = \"sl_webtoon_full_data_sequential.tsv\"\n",
    "df = pd.read_csv(data_path, sep=\"\\t\")\n",
    "\n",
    "df[\"text\"] = df[[\"에피소드\", \"scene_text\", \"type\"]].fillna(\"\").agg(\" \".join, axis=1)\n",
    "\n",
    "model = SentenceTransformer('sentence-transformers/paraphrase-multilingual-MiniLM-L12-v2')\n",
    "embeddings = model.encode(df[\"text\"].tolist(), convert_to_numpy=True)\n",
    "\n",
    "#FAISS 인덱스 구축\n",
    "dim = embeddings.shape[1]\n",
    "index = faiss.IndexFlatL2(dim)  \n",
    "index.add(embeddings)\n",
    "\n",
    "faiss.write_index(index, \"solo_leveling_faiss.index\")\n",
    "with open(\"solo_leveling_texts.pkl\", \"wb\") as f:\n",
    "    pickle.dump(df[\"text\"].tolist(), f)\n",
    "\n",
    "print(\"RAG DB 구축 완료, 총 문장 수:\", len(df))\n"
   ]
  },
  {
   "cell_type": "code",
   "execution_count": 11,
   "id": "d4a30fca-d526-4902-91a6-d1ec4c8004b3",
   "metadata": {},
   "outputs": [
    {
     "name": "stdout",
     "output_type": "stream",
     "text": [
      "✅ 새 RAG DB 구축 완료, 문장 수: 549\n"
     ]
    }
   ],
   "source": [
    "import pandas as pd\n",
    "import numpy as np\n",
    "import faiss\n",
    "import pickle\n",
    "from sentence_transformers import SentenceTransformer\n",
    "\n",
    "data_path = \"sl_webtoon_full_data_sequential.tsv\"\n",
    "\n",
    "# 1. 데이터 로드\n",
    "df = pd.read_csv(data_path, sep=\"\\t\")\n",
    "df[\"text\"] = df[[\"에피소드\", \"scene_text\", \"type\"]].fillna(\"\").agg(\" \".join, axis=1)\n",
    "\n",
    "# 2. 한국어 임베딩 모델\n",
    "model = SentenceTransformer('jhgan/ko-sroberta-multitask')\n",
    "\n",
    "# 3. 임베딩 생성\n",
    "embeddings = model.encode(df[\"text\"].tolist(), convert_to_numpy=True)\n",
    "\n",
    "# 4. 새로운 FAISS 인덱스 구축\n",
    "dim = embeddings.shape[1]  # 모델 출력 차원 자동 확인\n",
    "index = faiss.IndexFlatL2(dim)\n",
    "index.add(embeddings)\n",
    "\n",
    "# 5. 저장\n",
    "faiss.write_index(index, \"solo_leveling_faiss_ko.index\")\n",
    "with open(\"solo_leveling_texts.pkl\", \"wb\") as f:\n",
    "    pickle.dump(df[\"text\"].tolist(), f)\n",
    "\n",
    "print(\"✅ 새 RAG DB 구축 완료, 문장 수:\", len(df))\n"
   ]
  },
  {
   "cell_type": "code",
   "execution_count": 16,
   "id": "b7f841c6-ba70-45ee-970e-98199090275e",
   "metadata": {},
   "outputs": [
    {
     "name": "stdout",
     "output_type": "stream",
     "text": [
      "🔹 유사 장면 Top 10 🔹\n",
      "\n",
      "[점수: 83.3571] 1권_1화_이중던전 내 이름은 성진우. E급 헌터 내적설명\n",
      "[점수: 88.2755] 2권_4화_보스전 헌터 성진우입니다. 대사\n",
      "[점수: 93.2208] 1권_1화_이중던전 E급 헌터 성진우. 내적설명\n",
      "[점수: 99.7465] 3권_7화_이상한레이드 그 녀석이 원하는 건 실력은 있지만 등급이 낮은 헌터니까. 내적설명\n",
      "[점수: 102.8061] 3권_7화_이상한레이드 S급 헌터인 황동수를 말하는 겁니까? 대사\n",
      "[점수: 109.0561] 2권_4화_보스전 능력치를 올릴 수 있는 헌터가 있다? 내적설명\n",
      "[점수: 109.9106] 1권_1화_이중던전 헌터협회 소속 중 가장 낮은 계급, 최약의 헌터. 내적설명\n",
      "[점수: 110.5650] 2권_2화_세가지규율 여기서 기다리고 있으면 다른 헌터들이 구조하러 올까요? 대사\n",
      "[점수: 114.7391] 1권_1화_이중던전 목숨을 거는 위험한 직업 '헌터'. 나라고 좋아서 이 일을 하는 건 아니다. 내적설명\n",
      "[점수: 119.2824] 1권_1화_이중던전 고졸 출신에 딱히 잘하는 것도 없는 내게, 헌터라는 직업은 피할 수 없는 선택이었다. 내적설명\n"
     ]
    }
   ],
   "source": [
    "import faiss\n",
    "import pickle\n",
    "from sentence_transformers import SentenceTransformer\n",
    "\n",
    "# 1. 인덱스와 텍스트 불러오기\n",
    "index = faiss.read_index(\"solo_leveling_faiss_ko.index\")\n",
    "with open(\"solo_leveling_texts.pkl\", \"rb\") as f:\n",
    "    texts = pickle.load(f)\n",
    "\n",
    "model = SentenceTransformer('jhgan/ko-sroberta-multitask')\n",
    "\n",
    "# 2. 검색어 입력\n",
    "query = \"성진우는 몇 급 헌터?\"\n",
    "\n",
    "# 3. 임베딩 생성 및 검색\n",
    "query_vec = model.encode([query])\n",
    "D, I = index.search(query_vec, k=10)  # 상위 5개\n",
    "\n",
    "# 4. 결과 출력\n",
    "print(\"🔹 유사 장면 Top 10 🔹\\n\")\n",
    "for idx, score in zip(I[0], D[0]):\n",
    "    print(f\"[점수: {score:.4f}] {texts[idx]}\")\n"
   ]
  },
  {
   "cell_type": "code",
   "execution_count": 20,
   "id": "4a758d87-767b-43d6-b9fe-957b405d6f67",
   "metadata": {},
   "outputs": [
    {
     "ename": "ValueError",
     "evalue": "too many values to unpack (expected 2)",
     "output_type": "error",
     "traceback": [
      "\u001b[0;31m---------------------------------------------------------------------------\u001b[0m",
      "\u001b[0;31mValueError\u001b[0m                                Traceback (most recent call last)",
      "Cell \u001b[0;32mIn[20], line 7\u001b[0m\n\u001b[1;32m      5\u001b[0m \u001b[38;5;66;03m# 1. 벡터 DB 로드\u001b[39;00m\n\u001b[1;32m      6\u001b[0m embedding \u001b[38;5;241m=\u001b[39m HuggingFaceEmbeddings(model_name\u001b[38;5;241m=\u001b[39m\u001b[38;5;124m'\u001b[39m\u001b[38;5;124mjhgan/ko-sroberta-multitask\u001b[39m\u001b[38;5;124m'\u001b[39m)\n\u001b[0;32m----> 7\u001b[0m db \u001b[38;5;241m=\u001b[39m \u001b[43mFAISS\u001b[49m\u001b[38;5;241;43m.\u001b[39;49m\u001b[43mload_local\u001b[49m\u001b[43m(\u001b[49m\u001b[38;5;124;43m\"\u001b[39;49m\u001b[38;5;124;43msolo_leveling_faiss_ko\u001b[39;49m\u001b[38;5;124;43m\"\u001b[39;49m\u001b[43m,\u001b[49m\u001b[43m \u001b[49m\u001b[43membedding\u001b[49m\u001b[43m,\u001b[49m\u001b[43m \u001b[49m\u001b[43mallow_dangerous_deserialization\u001b[49m\u001b[38;5;241;43m=\u001b[39;49m\u001b[38;5;28;43;01mTrue\u001b[39;49;00m\u001b[43m)\u001b[49m  \u001b[38;5;66;03m# 🔹 이 옵션 추가\u001b[39;00m\n\u001b[1;32m     10\u001b[0m \u001b[38;5;66;03m# 2. 예시 질의\u001b[39;00m\n\u001b[1;32m     11\u001b[0m query \u001b[38;5;241m=\u001b[39m \u001b[38;5;124m\"\u001b[39m\u001b[38;5;124m성진우는 황동석과 처음 만난 장면에서 무엇을 했어?\u001b[39m\u001b[38;5;124m\"\u001b[39m\n",
      "File \u001b[0;32m~/.local/lib/python3.10/site-packages/langchain_community/vectorstores/faiss.py:1209\u001b[0m, in \u001b[0;36mFAISS.load_local\u001b[0;34m(cls, folder_path, embeddings, index_name, allow_dangerous_deserialization, **kwargs)\u001b[0m\n\u001b[1;32m   1207\u001b[0m \u001b[38;5;66;03m# load docstore and index_to_docstore_id\u001b[39;00m\n\u001b[1;32m   1208\u001b[0m \u001b[38;5;28;01mwith\u001b[39;00m \u001b[38;5;28mopen\u001b[39m(path \u001b[38;5;241m/\u001b[39m \u001b[38;5;124mf\u001b[39m\u001b[38;5;124m\"\u001b[39m\u001b[38;5;132;01m{\u001b[39;00mindex_name\u001b[38;5;132;01m}\u001b[39;00m\u001b[38;5;124m.pkl\u001b[39m\u001b[38;5;124m\"\u001b[39m, \u001b[38;5;124m\"\u001b[39m\u001b[38;5;124mrb\u001b[39m\u001b[38;5;124m\"\u001b[39m) \u001b[38;5;28;01mas\u001b[39;00m f:\n\u001b[0;32m-> 1209\u001b[0m     (\n\u001b[1;32m   1210\u001b[0m         docstore,\n\u001b[1;32m   1211\u001b[0m         index_to_docstore_id,\n\u001b[1;32m   1212\u001b[0m     ) \u001b[38;5;241m=\u001b[39m pickle\u001b[38;5;241m.\u001b[39mload(  \u001b[38;5;66;03m# ignore[pickle]: explicit-opt-in\u001b[39;00m\n\u001b[1;32m   1213\u001b[0m         f\n\u001b[1;32m   1214\u001b[0m     )\n\u001b[1;32m   1216\u001b[0m \u001b[38;5;28;01mreturn\u001b[39;00m \u001b[38;5;28mcls\u001b[39m(embeddings, index, docstore, index_to_docstore_id, \u001b[38;5;241m*\u001b[39m\u001b[38;5;241m*\u001b[39mkwargs)\n",
      "\u001b[0;31mValueError\u001b[0m: too many values to unpack (expected 2)"
     ]
    }
   ],
   "source": [
    "from langchain.vectorstores import FAISS\n",
    "from langchain.embeddings import HuggingFaceEmbeddings\n",
    "import pickle\n",
    "\n",
    "# 1. 벡터 DB 로드\n",
    "embedding = HuggingFaceEmbeddings(model_name='jhgan/ko-sroberta-multitask')\n",
    "db = FAISS.load_local(\"solo_leveling_faiss_ko\", embedding, allow_dangerous_deserialization=True)  # 🔹 이 옵션 추가\n",
    "\n",
    "\n",
    "# 2. 예시 질의\n",
    "query = \"성진우는 황동석과 처음 만난 장면에서 무엇을 했어?\"\n",
    "docs = db.similarity_search(query, k=3)\n",
    "\n",
    "for i, doc in enumerate(docs, 1):\n",
    "    print(f\"[{i}] {doc.page_content}\")\n",
    "from langchain.vectorstores import FAISS\n",
    "from langchain.embeddings import HuggingFaceEmbeddings\n",
    "import pickle\n",
    "\n",
    "# 1. 벡터 DB 로드\n",
    "embedding = HuggingFaceEmbeddings(model_name='jhgan/ko-sroberta-multitask')\n",
    "db = FAISS.load_local(\"solo_leveling_faiss_ko\", embedding)\n",
    "\n",
    "# 2. 예시 질의\n",
    "query = \"성진우는 황동석과 처음 만난 장면에서 무엇을 했어?\"\n",
    "docs = db.similarity_search(query, k=3)\n",
    "\n",
    "for i, doc in enumerate(docs, 1):\n",
    "    print(f\"[{i}] {doc.page_content}\")\n"
   ]
  },
  {
   "cell_type": "code",
   "execution_count": 21,
   "id": "ac05aed2-9dae-4f2f-b3a1-eee03a1f5c81",
   "metadata": {},
   "outputs": [
    {
     "ename": "RuntimeError",
     "evalue": "Error in faiss::FileIOReader::FileIOReader(const char*) at /project/faiss/faiss/impl/io.cpp:67: Error: 'f' failed: could not open solo_leveling_faiss_ko.index for reading: No such file or directory",
     "output_type": "error",
     "traceback": [
      "\u001b[0;31m---------------------------------------------------------------------------\u001b[0m",
      "\u001b[0;31mRuntimeError\u001b[0m                              Traceback (most recent call last)",
      "\u001b[0;32m/tmp/ipykernel_1084854/3007134425.py\u001b[0m in \u001b[0;36m?\u001b[0;34m()\u001b[0m\n\u001b[1;32m      8\u001b[0m \u001b[0;31m# 1. 기존 데이터 로드\u001b[0m\u001b[0;34m\u001b[0m\u001b[0;34m\u001b[0m\u001b[0m\n\u001b[1;32m      9\u001b[0m \u001b[0mindex_path\u001b[0m \u001b[0;34m=\u001b[0m \u001b[0;34m\"solo_leveling_faiss_ko.index\"\u001b[0m\u001b[0;34m\u001b[0m\u001b[0;34m\u001b[0m\u001b[0m\n\u001b[1;32m     10\u001b[0m \u001b[0mtexts_path\u001b[0m \u001b[0;34m=\u001b[0m \u001b[0;34m\"solo_leveling_texts.pkl\"\u001b[0m\u001b[0;34m\u001b[0m\u001b[0;34m\u001b[0m\u001b[0m\n\u001b[1;32m     11\u001b[0m \u001b[0;34m\u001b[0m\u001b[0m\n\u001b[0;32m---> 12\u001b[0;31m \u001b[0mindex\u001b[0m \u001b[0;34m=\u001b[0m \u001b[0mfaiss\u001b[0m\u001b[0;34m.\u001b[0m\u001b[0mread_index\u001b[0m\u001b[0;34m(\u001b[0m\u001b[0mindex_path\u001b[0m\u001b[0;34m)\u001b[0m\u001b[0;34m\u001b[0m\u001b[0;34m\u001b[0m\u001b[0m\n\u001b[0m\u001b[1;32m     13\u001b[0m \u001b[0;32mwith\u001b[0m \u001b[0mopen\u001b[0m\u001b[0;34m(\u001b[0m\u001b[0mtexts_path\u001b[0m\u001b[0;34m,\u001b[0m \u001b[0;34m\"rb\"\u001b[0m\u001b[0;34m)\u001b[0m \u001b[0;32mas\u001b[0m \u001b[0mf\u001b[0m\u001b[0;34m:\u001b[0m\u001b[0;34m\u001b[0m\u001b[0;34m\u001b[0m\u001b[0m\n\u001b[1;32m     14\u001b[0m     \u001b[0mtexts\u001b[0m \u001b[0;34m=\u001b[0m \u001b[0mpickle\u001b[0m\u001b[0;34m.\u001b[0m\u001b[0mload\u001b[0m\u001b[0;34m(\u001b[0m\u001b[0mf\u001b[0m\u001b[0;34m)\u001b[0m\u001b[0;34m\u001b[0m\u001b[0;34m\u001b[0m\u001b[0m\n\u001b[1;32m     15\u001b[0m \u001b[0;34m\u001b[0m\u001b[0m\n",
      "\u001b[0;32m~/.local/lib/python3.10/site-packages/faiss/swigfaiss_avx512.py\u001b[0m in \u001b[0;36m?\u001b[0;34m(*args)\u001b[0m\n\u001b[1;32m  11640\u001b[0m \u001b[0;32mdef\u001b[0m \u001b[0mread_index\u001b[0m\u001b[0;34m(\u001b[0m\u001b[0;34m*\u001b[0m\u001b[0margs\u001b[0m\u001b[0;34m)\u001b[0m\u001b[0;34m:\u001b[0m\u001b[0;34m\u001b[0m\u001b[0;34m\u001b[0m\u001b[0m\n\u001b[0;32m> 11641\u001b[0;31m     \u001b[0;32mreturn\u001b[0m \u001b[0m_swigfaiss_avx512\u001b[0m\u001b[0;34m.\u001b[0m\u001b[0mread_index\u001b[0m\u001b[0;34m(\u001b[0m\u001b[0;34m*\u001b[0m\u001b[0margs\u001b[0m\u001b[0;34m)\u001b[0m\u001b[0;34m\u001b[0m\u001b[0;34m\u001b[0m\u001b[0m\n\u001b[0m",
      "\u001b[0;31mRuntimeError\u001b[0m: Error in faiss::FileIOReader::FileIOReader(const char*) at /project/faiss/faiss/impl/io.cpp:67: Error: 'f' failed: could not open solo_leveling_faiss_ko.index for reading: No such file or directory"
     ]
    }
   ],
   "source": [
    "from langchain.vectorstores import FAISS\n",
    "from langchain.docstore.in_memory import InMemoryDocstore\n",
    "from langchain.docstore.document import Document\n",
    "from langchain.embeddings import HuggingFaceEmbeddings\n",
    "import faiss\n",
    "import pickle\n",
    "\n",
    "# 1. 기존 데이터 로드\n",
    "index_path = \"solo_leveling_faiss_ko.index\"\n",
    "texts_path = \"solo_leveling_texts.pkl\"\n",
    "\n",
    "index = faiss.read_index(index_path)\n",
    "with open(texts_path, \"rb\") as f:\n",
    "    texts = pickle.load(f)\n",
    "\n",
    "# 2. 임베딩 모델 준비\n",
    "embedding = HuggingFaceEmbeddings(model_name='jhgan/ko-sroberta-multitask')\n",
    "\n",
    "# 3. LangChain 문서화\n",
    "docs = [Document(page_content=text) for text in texts]\n",
    "docstore = InMemoryDocstore({str(i): doc for i, doc in enumerate(docs)})\n",
    "index_to_docstore_id = {i: str(i) for i in range(len(docs))}\n",
    "\n",
    "db = FAISS(\n",
    "    embedding_function=embedding,\n",
    "    index=index,\n",
    "    docstore=docstore,\n",
    "    index_to_docstore_id=index_to_docstore_id\n",
    ")\n",
    "\n",
    "# 4. LangChain 호환 구조로 저장\n",
    "db.save_local(\"solo_leveling_faiss_langchain\")\n",
    "print(\"변환 완료: solo_leveling_faiss_langchain 폴더 생성됨\")\n"
   ]
  },
  {
   "cell_type": "markdown",
   "id": "cc27fe9f-c69a-4dab-8d9f-603c7079cad6",
   "metadata": {},
   "source": [
    "## 1. tsv full data load"
   ]
  },
  {
   "cell_type": "code",
   "execution_count": 29,
   "id": "60146aa5-f97a-4931-a4f2-7f8d33136f6b",
   "metadata": {},
   "outputs": [
    {
     "name": "stdout",
     "output_type": "stream",
     "text": [
      "         에피소드                     scene_text  type\n",
      "0  1권_1화_이중던전    네, 김상식 아저씨. 신경 써 주셔서 감사합니다.    대사\n",
      "1  1권_1화_이중던전               내 이름은 성진우. E급 헌터  내적설명\n",
      "2  1권_1화_이중던전         뭘요 하하... 오늘도 잘 부탁드릴게요.    대사\n",
      "3  1권_1화_이중던전    헌터협회 소속 중 가장 낮은 계급, 최약의 헌터.  내적설명\n",
      "4  1권_1화_이중던전  어? 안녕하세요. 주희 씨도 이번 레이드 가시는군요.    대사\n",
      "전체 문장 수: 549\n",
      "컬럼 목록: ['에피소드', 'scene_text', 'type']\n"
     ]
    }
   ],
   "source": [
    "import pandas as pd\n",
    "\n",
    "\n",
    "df = pd.read_csv(\"sl_webtoon_full_data_sequential.tsv\", sep=\"\\t\")\n",
    "\n",
    "\n",
    "print(df.head())\n",
    "print(\"전체 문장 수:\", len(df))\n",
    "print(\"컬럼 목록:\", df.columns.tolist())\n",
    "\n",
    "# 549\n",
    "#에피소드, scene_text, type"
   ]
  },
  {
   "cell_type": "code",
   "execution_count": 30,
   "id": "fd35b473-3d92-4d9d-a8ee-5565dff05e76",
   "metadata": {},
   "outputs": [
    {
     "name": "stdout",
     "output_type": "stream",
     "text": [
      "         에피소드                   scene_text  type\n",
      "0  1권_1화_이중던전  네, 김상식 아저씨. 신경 써 주셔서 감사합니다.    대사\n",
      "1  1권_1화_이중던전             내 이름은 성진우. E급 헌터  내적설명\n",
      "2  1권_1화_이중던전       뭘요 하하... 오늘도 잘 부탁드릴게요.    대사\n",
      "컬럼: ['에피소드', 'scene_text', 'type'] 전체 행: 549\n"
     ]
    }
   ],
   "source": [
    "import pandas as pd\n",
    "\n",
    "df = pd.read_csv(\"sl_webtoon_full_data_sequential.tsv\", sep=\"\\t\")\n",
    "print(df.head(3))\n",
    "print(\"컬럼:\", df.columns.tolist(), \"전체 행:\", len(df))\n"
   ]
  },
  {
   "cell_type": "code",
   "execution_count": 31,
   "id": "fa5db259-991a-48b1-859f-2308432737c5",
   "metadata": {},
   "outputs": [
    {
     "name": "stdout",
     "output_type": "stream",
     "text": [
      "['[1권_1화_이중던전] #0 대사 네, 김상식 아저씨. 신경 써 주셔서 감사합니다.', '[1권_1화_이중던전] #1 내적설명 내 이름은 성진우. E급 헌터', '[1권_1화_이중던전] #2 대사 뭘요 하하... 오늘도 잘 부탁드릴게요.']\n"
     ]
    }
   ],
   "source": [
    "# ① 인덱스 컬럼 추가 (원본 추적용)\n",
    "df['row_id'] = df.index\n",
    "\n",
    "# ② 최종 RAG 문장 컬럼 생성\n",
    "df['text'] = df.apply(\n",
    "    lambda x: f\"[{x['에피소드']}] #{x['row_id']} {x['type']} {x['scene_text']}\",\n",
    "    axis=1\n",
    ")\n",
    "\n",
    "# ③ 확인\n",
    "print(df['text'].head(3).tolist())\n"
   ]
  },
  {
   "cell_type": "code",
   "execution_count": 32,
   "id": "0b95c977-5485-4fdf-b5d8-fb837a0a8cf7",
   "metadata": {},
   "outputs": [
    {
     "name": "stdout",
     "output_type": "stream",
     "text": [
      "최종 문장 수: 549\n"
     ]
    }
   ],
   "source": [
    "texts = df['text'].tolist()\n",
    "print(\"최종 문장 수:\", len(texts))\n"
   ]
  },
  {
   "cell_type": "code",
   "execution_count": 34,
   "id": "49cc9b2e-d035-433a-9b65-94278a783e39",
   "metadata": {},
   "outputs": [
    {
     "name": "stdout",
     "output_type": "stream",
     "text": [
      "예시 5개:\n",
      "- [1권_1화_이중던전] #0 대사 네, 김상식 아저씨. 신경 써 주셔서 감사합니다.\n",
      "- [1권_1화_이중던전] #1 내적설명 내 이름은 성진우. E급 헌터\n",
      "- [1권_1화_이중던전] #2 대사 뭘요 하하... 오늘도 잘 부탁드릴게요.\n",
      "- [1권_1화_이중던전] #3 내적설명 헌터협회 소속 중 가장 낮은 계급, 최약의 헌터.\n",
      "- [1권_1화_이중던전] #4 대사 어? 안녕하세요. 주희 씨도 이번 레이드 가시는군요.\n",
      "\n",
      "최종 문장 수: 549\n"
     ]
    }
   ],
   "source": [
    "# 2단계: 최종 RAG 문장 생성\n",
    "df['row_id'] = df.index  # 원본 추적용 인덱스\n",
    "df['text'] = df.apply(\n",
    "    lambda x: f\"[{x['에피소드']}] #{x['row_id']} {x['type']} {x['scene_text']}\",\n",
    "    axis=1\n",
    ")\n",
    "\n",
    "# 확인용 출력\n",
    "print(\"예시 5개:\")\n",
    "for t in df['text'].head(5).tolist():\n",
    "    print(\"-\", t)\n",
    "\n",
    "# 3단계: 리스트 변환\n",
    "texts = df['text'].tolist()\n",
    "print(\"\\n최종 문장 수:\", len(texts))\n"
   ]
  },
  {
   "cell_type": "code",
   "execution_count": 35,
   "id": "6ef1ac89-0931-48a8-9024-26150004b81d",
   "metadata": {},
   "outputs": [
    {
     "name": "stdout",
     "output_type": "stream",
     "text": [
      "✅ 벡터DB 생성 완료. 총 문장 수: 549\n",
      "💾 'solo_leveling_faiss_ko' 폴더에 저장 완료\n"
     ]
    }
   ],
   "source": [
    "from langchain.vectorstores import FAISS\n",
    "from langchain.embeddings import HuggingFaceEmbeddings\n",
    "\n",
    "# 1. 한국어 멀티태스크 임베딩 모델 로드\n",
    "embedding_model = HuggingFaceEmbeddings(model_name='jhgan/ko-sroberta-multitask')\n",
    "\n",
    "# 2. 벡터DB 생성\n",
    "db = FAISS.from_texts(texts, embedding_model)\n",
    "print(\"✅ 벡터DB 생성 완료. 총 문장 수:\", len(texts))\n",
    "\n",
    "# 3. 로컬에 저장\n",
    "db.save_local(\"solo_leveling_faiss_ko\")\n",
    "print(\"💾 'solo_leveling_faiss_ko' 폴더에 저장 완료\")\n"
   ]
  },
  {
   "cell_type": "code",
   "execution_count": 2,
   "id": "a6acad70-ae02-4808-800e-fee4c2a36153",
   "metadata": {},
   "outputs": [
    {
     "name": "stdout",
     "output_type": "stream",
     "text": [
      "[1] [1권_1화_이중던전] #1 내적설명 내 이름은 성진우. E급 헌터\n",
      "[2] [2권_4화_보스전] #451 대사 헌터 성진우입니다.\n",
      "[3] [1권_1화_이중던전] #9 내적설명 E급 헌터 성진우.\n"
     ]
    }
   ],
   "source": [
    "# 저장된 DB 로드\n",
    "db = FAISS.load_local(\"solo_leveling_faiss_ko\", embedding_model, allow_dangerous_deserialization=True)\n",
    "\n",
    "# 예시 질의\n",
    "query = \"이중던전에서 성진우는 뭐했지?\"\n",
    "docs = db.similarity_search(query, k=3)\n",
    "\n",
    "for i, doc in enumerate(docs, 1):\n",
    "    print(f\"[{i}] {doc.page_content}\")\n"
   ]
  },
  {
   "cell_type": "code",
   "execution_count": 6,
   "id": "2ef2966e-c110-4565-8ddf-1a1bee864934",
   "metadata": {},
   "outputs": [
    {
     "name": "stderr",
     "output_type": "stream",
     "text": [
      "Device set to use cuda:0\n"
     ]
    },
    {
     "name": "stdout",
     "output_type": "stream",
     "text": [
      "답변: 다음 문맥을 참고하여 질문에 답하세요.\n",
      "\n",
      "문맥:\n",
      "[2권_3화_퀘스트 ] #340 대사 하지만 이 던전... 대략 E급 던전 아닐까? 그렇다면 그다지 값어치가 높진 않겠다.\n",
      "\n",
      "[2권_4화_보스전] #451 대사 헌터 성진우입니다.\n",
      "\n",
      "[1권_3화_퀘스트] #170 대사 E급 마수한테도 쩔쩔매던 게 엊그제인데, 혼자서 던전을 클리어하려고?\n",
      "\n",
      "[2권_3화_퀘스트 ] #307 내적설명 이중 던전에서 김상식 아저씨가 놓고 간 이 검!\n",
      "\n",
      "[1권_1화_이중던전] #84 대사 아저씨... 이 던전엔 룰이 있어요.\n",
      "\n",
      "질문:\n",
      "이중 던전에서 성진우가 클리어를 시도했다는 게 무슨 의미지?\n",
      "\n",
      "답변: 이중 던전에서 성진우가 클리어를 시도했다는 것은 그가 이전에 배웠던 던전의 규칙이나 방법을 떠올리며 어려움을 극복하려 했다는 것을 의미합니다. 이는 성진우가 던전 클리어 능력을 향상시키기 위해 노력하고 있음을 나타냅니다. 또한, 이는 그가 단순히 E급 던전을 클리어할 수 있을 정도로 성장했음을 시사합니다.  (성진우가 던전 클리어를 시도했다는 것은 그가 높은 수준의 난이도를 극복할 준비가 되어 있음을 보여주며, 이는 그의 성장과 능력 향상을 의미합니다.)  따라서, 성진우가 E급 던전을 클리어하려는 시도는 그의 성장과 도전 정신을 나타내는 중요한 장면입니다.   (성진우가 E급 던전을 클리어하려고 시도한 것은 그의 능력과 자신감이 향상되었음을 나타내며, 이는 이야기에 중요한 전환점이 됩니다.)  (이 장면은 성진우가 단순한 기초적인 던전 클리어\n",
      "\n",
      "참조 문서:\n",
      "[2권_3화_퀘스트 ] #340 대사 하지만 이 던전... 대략 E급 던전 아닐까? 그렇다면 그다지 값어치가 높진 않겠다.\n",
      "[2권_4화_보스전] #451 대사 헌터 성진우입니다.\n",
      "[1권_3화_퀘스트] #170 대사 E급 마수한테도 쩔쩔매던 게 엊그제인데, 혼자서 던전을 클리어하려고?\n",
      "[2권_3화_퀘스트 ] #307 내적설명 이중 던전에서 김상식 아저씨가 놓고 간 이 검!\n",
      "[1권_1화_이중던전] #84 대사 아저씨... 이 던전엔 룰이 있어요.\n"
     ]
    }
   ],
   "source": [
    "from langchain.chains import RetrievalQA\n",
    "from langchain.vectorstores import FAISS\n",
    "from langchain.prompts import PromptTemplate\n",
    "from langchain_community.llms import HuggingFacePipeline\n",
    "from langchain.embeddings import HuggingFaceEmbeddings\n",
    "import torch\n",
    "from transformers import AutoTokenizer, AutoModelForCausalLM, pipeline\n",
    "\n",
    "embedding_model = HuggingFaceEmbeddings(model_name='jhgan/ko-sroberta-multitask')\n",
    "vectorstore = FAISS.load_local(\"solo_leveling_faiss_ko\", embedding_model, allow_dangerous_deserialization=True)\n",
    "\n",
    "model_name = \"kakaocorp/kanana-nano-2.1b-instruct\"\n",
    "tokenizer = AutoTokenizer.from_pretrained(model_name)\n",
    "model = AutoModelForCausalLM.from_pretrained(model_name, torch_dtype=torch.float16).to(\"cuda\")\n",
    "\n",
    "llm_pipeline = pipeline(\"text-generation\", model=model, tokenizer=tokenizer, max_new_tokens=256)\n",
    "llm = HuggingFacePipeline(pipeline=llm_pipeline)\n",
    "\n",
    "custom_prompt = PromptTemplate(\n",
    "    input_variables=[\"context\", \"question\"],\n",
    "    template=\"다음 문맥을 참고하여 질문에 답하세요.\\n\\n문맥:\\n{context}\\n\\n질문:\\n{question}\\n\\n답변:\"\n",
    ")\n",
    "\n",
    "qa_chain = RetrievalQA.from_chain_type(\n",
    "    llm=llm,\n",
    "    retriever=vectorstore.as_retriever(search_kwargs={\"k\": 5}),\n",
    "    chain_type=\"stuff\",\n",
    "    return_source_documents=True,\n",
    "    chain_type_kwargs={\n",
    "        \"prompt\": custom_prompt  }\n",
    ")\n",
    "\n",
    "\n",
    "#예시 질문\n",
    "query = \"이중 던전에서 성진우가 클리어를 시도했다는 게 무슨 의미지?\"\n",
    "result = qa_chain({\"query\": query})\n",
    "\n",
    "print(\"답변:\", result[\"result\"])\n",
    "print(\"\\n참조 문서:\")\n",
    "for doc in result[\"source_documents\"]:\n",
    "    print(doc.page_content)\n"
   ]
  },
  {
   "cell_type": "code",
   "execution_count": 13,
   "id": "898571b8-a683-4081-9815-76aa5b82e81a",
   "metadata": {},
   "outputs": [
    {
     "name": "stderr",
     "output_type": "stream",
     "text": [
      "/tmp/ipykernel_1089716/3543207748.py:9: FutureWarning: DataFrame.fillna with 'method' is deprecated and will raise in a future version. Use obj.ffill() or obj.bfill() instead.\n",
      "  df.fillna(method='ffill', inplace=True)\n"
     ]
    },
    {
     "name": "stdout",
     "output_type": "stream",
     "text": [
      "=== 황동석 편 시뮬레이션 ===\n",
      "1. 1-1. 황동석 무리를 모두 처치한다.\n",
      "2. 1-2. 황동석 무리와 진호를 포함하여 모두 처치한다.\n",
      "3. 2. 적을 무력화하거나 기절시키고 살려둔다.\n",
      "4. 3-1. 마정석을 들고 도망친다.\n",
      "5. 3-2. 시스템을 거부하고 그냥 도망친다.\n"
     ]
    },
    {
     "name": "stdin",
     "output_type": "stream",
     "text": [
      "선택 번호를 입력하세요:  2.\n"
     ]
    },
    {
     "ename": "ValueError",
     "evalue": "invalid literal for int() with base 10: '2.'",
     "output_type": "error",
     "traceback": [
      "\u001b[0;31m---------------------------------------------------------------------------\u001b[0m",
      "\u001b[0;31mValueError\u001b[0m                                Traceback (most recent call last)",
      "Cell \u001b[0;32mIn[13], line 26\u001b[0m\n\u001b[1;32m     23\u001b[0m \u001b[38;5;28;01mfor\u001b[39;00m idx, choice \u001b[38;5;129;01min\u001b[39;00m \u001b[38;5;28menumerate\u001b[39m(choices, start\u001b[38;5;241m=\u001b[39m\u001b[38;5;241m1\u001b[39m):\n\u001b[1;32m     24\u001b[0m     \u001b[38;5;28mprint\u001b[39m(\u001b[38;5;124mf\u001b[39m\u001b[38;5;124m\"\u001b[39m\u001b[38;5;132;01m{\u001b[39;00midx\u001b[38;5;132;01m}\u001b[39;00m\u001b[38;5;124m. \u001b[39m\u001b[38;5;132;01m{\u001b[39;00mchoice\u001b[38;5;132;01m}\u001b[39;00m\u001b[38;5;124m\"\u001b[39m)\n\u001b[0;32m---> 26\u001b[0m user_choice \u001b[38;5;241m=\u001b[39m \u001b[38;5;28;43mint\u001b[39;49m\u001b[43m(\u001b[49m\u001b[38;5;28;43minput\u001b[39;49m\u001b[43m(\u001b[49m\u001b[38;5;124;43m\"\u001b[39;49m\u001b[38;5;124;43m선택 번호를 입력하세요: \u001b[39;49m\u001b[38;5;124;43m\"\u001b[39;49m\u001b[43m)\u001b[49m\u001b[43m)\u001b[49m\n\u001b[1;32m     27\u001b[0m selected \u001b[38;5;241m=\u001b[39m choices[user_choice\u001b[38;5;241m-\u001b[39m\u001b[38;5;241m1\u001b[39m]\n\u001b[1;32m     28\u001b[0m \u001b[38;5;28mprint\u001b[39m(\u001b[38;5;124mf\u001b[39m\u001b[38;5;124m\"\u001b[39m\u001b[38;5;130;01m\\n\u001b[39;00m\u001b[38;5;124m[선택]: \u001b[39m\u001b[38;5;132;01m{\u001b[39;00mselected\u001b[38;5;132;01m}\u001b[39;00m\u001b[38;5;124m\"\u001b[39m)\n",
      "\u001b[0;31mValueError\u001b[0m: invalid literal for int() with base 10: '2.'"
     ]
    }
   ],
   "source": [
    "import pandas as pd\n",
    "from transformers import pipeline\n",
    "\n",
    "# ======================\n",
    "# 1. TSV 데이터 로드\n",
    "# ======================\n",
    "file_path = \"Sl_lizard.tsv\"\n",
    "df = pd.read_csv(file_path, sep=\"\\t\")\n",
    "df.fillna(method='ffill', inplace=True)\n",
    "\n",
    "# ======================\n",
    "# 2. 선택지 정의\n",
    "# ======================\n",
    "choices = [\n",
    "    \"1-1. 황동석 무리를 모두 처치한다.\",\n",
    "    \"1-2. 황동석 무리와 진호를 포함하여 모두 처치한다.\",\n",
    "    \"2. 적을 무력화하거나 기절시키고 살려둔다.\",\n",
    "    \"3-1. 마정석을 들고 도망친다.\",\n",
    "    \"3-2. 시스템을 거부하고 그냥 도망친다.\"\n",
    "]\n",
    "\n",
    "print(\"=== 황동석 편 시뮬레이션 ===\")\n",
    "for idx, choice in enumerate(choices, start=1):\n",
    "    print(f\"{idx}. {choice}\")\n",
    "\n",
    "user_choice = int(input(\"선택 번호를 입력하세요: \"))\n",
    "selected = choices[user_choice-1]\n",
    "print(f\"\\n[선택]: {selected}\")\n",
    "\n",
    "# ======================\n",
    "# 3. 근거 검색 (단순 키워드 기반)\n",
    "# ======================\n",
    "# 선택지에서 핵심 단어 추출 (예: 도망, 처치, 기절)\n",
    "keywords = [\"처치\", \"살려\", \"도망\", \"거부\"]\n",
    "matched_kw = None\n",
    "for kw in keywords:\n",
    "    if kw in selected:\n",
    "        matched_kw = kw\n",
    "        break\n",
    "\n",
    "if matched_kw:\n",
    "    related = df[df['상황'].str.contains(matched_kw, na=False) | df['대사'].str.contains(matched_kw, na=False)]\n",
    "else:\n",
    "    related = df\n",
    "\n",
    "print(\"\\n--- 관련 근거 상황 ---\")\n",
    "print(related[['상황', '대사']].head(5))\n",
    "\n",
    "# ======================\n",
    "# 4. 카나나 모델 연결\n",
    "# ======================\n",
    "generator = pipeline(\n",
    "    \"text-generation\",\n",
    "    model=\"kakaocorp/kanana-nano-2.1b-instruct\",\n",
    "    device=0,  # GPU 사용\n",
    ")\n",
    "\n",
    "context_text = \"\\n\".join(\n",
    "    (related['상황'].head(3).tolist() + related['대사'].head(3).tolist())\n",
    ")\n",
    "\n",
    "prompt = f\"\"\"\n",
    "상황: {context_text}\n",
    "사용자 선택: {selected}\n",
    "\n",
    "성진우의 말투로, 해당 상황에서 한 줄 대사를 생성하라.\n",
    "\"\"\"\n",
    "\n",
    "output = generator(\n",
    "    prompt,\n",
    "    max_new_tokens=80,\n",
    "    do_sample=True,\n",
    "    temperature=0.7,\n",
    "    top_p=0.9,\n",
    ")[0][\"generated_text\"]\n",
    "\n",
    "print(\"\\n[성진우 대사 생성]\")\n",
    "print(output)\n"
   ]
  },
  {
   "cell_type": "code",
   "execution_count": null,
   "id": "46946824-27c5-4a95-a293-d6b3ab905277",
   "metadata": {},
   "outputs": [],
   "source": []
  }
 ],
 "metadata": {
  "kernelspec": {
   "display_name": "Python (ka)",
   "language": "python",
   "name": "myenv"
  },
  "language_info": {
   "codemirror_mode": {
    "name": "ipython",
    "version": 3
   },
   "file_extension": ".py",
   "mimetype": "text/x-python",
   "name": "python",
   "nbconvert_exporter": "python",
   "pygments_lexer": "ipython3",
   "version": "3.10.12"
  }
 },
 "nbformat": 4,
 "nbformat_minor": 5
}
