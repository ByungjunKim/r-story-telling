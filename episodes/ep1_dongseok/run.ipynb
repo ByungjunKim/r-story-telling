{
 "cells": [
  {
   "cell_type": "markdown",
   "id": "8781d6de-3028-43a3-b948-988667f12498",
   "metadata": {
    "jp-MarkdownHeadingCollapsed": true
   },
   "source": [
    "## V2"
   ]
  },
  {
   "cell_type": "code",
   "execution_count": 4,
   "id": "578cf7bd-4717-42e5-a6a2-6386fab48eab",
   "metadata": {},
   "outputs": [
    {
     "name": "stderr",
     "output_type": "stream",
     "text": [
      "Device set to use cuda:0\n"
     ]
    }
   ],
   "source": [
    "from transformers import pipeline\n",
    "\n",
    "generator = pipeline(\"text-generation\", model=\"kakaocorp/kanana-nano-2.1b-instruct\")\n"
   ]
  },
  {
   "cell_type": "code",
   "execution_count": 5,
   "id": "7fec64a9-13b8-4681-b4bb-aa94a1793846",
   "metadata": {},
   "outputs": [
    {
     "data": {
      "text/plain": [
       "'/home/a09999/r-story-telling/kaka/Solo_Leveling/episodes/ep1_dongseok'"
      ]
     },
     "execution_count": 5,
     "metadata": {},
     "output_type": "execute_result"
    }
   ],
   "source": [
    "import os\n",
    "os.getcwd()\n"
   ]
  },
  {
   "cell_type": "code",
   "execution_count": 6,
   "id": "8a0c6f5a-d614-4db9-b9a7-9abaae594954",
   "metadata": {},
   "outputs": [
    {
     "name": "stdout",
     "output_type": "stream",
     "text": [
      "✅ 프롬프트 1개 생성 완료 → prompts/v2_prompt_full_episode.json\n"
     ]
    }
   ],
   "source": [
    "import pandas as pd\n",
    "import json\n",
    "import os\n",
    "tsv_path = \"ep1_dongseok.tsv\"\n",
    "output_path = \"prompts/v2_prompt_full_episode.json\"\n",
    "\n",
    "os.makedirs(os.path.dirname(output_path), exist_ok=True)\n",
    "\n",
    "# TSV 불러오기\n",
    "df = pd.read_csv(tsv_path, sep=\"\\t\")\n",
    "\n",
    "# 주요 필드 추출\n",
    "event_name = df[\"사건명\"].dropna().iloc[0]\n",
    "situation_summary = df[\"상황\"].dropna().iloc[0]\n",
    "\n",
    "# 스킬 + 부가 설명 병합 후 중복 제거\n",
    "skills = []\n",
    "for i, row in df.iterrows():\n",
    "    skill = row.get(\"스킬\", \"\")\n",
    "    explanation = row.get(\"부가 설명\", \"\")\n",
    "    combined = f\"{skill} / {explanation}\" if explanation else skill\n",
    "    if combined.strip():\n",
    "        skills.append(combined.strip())\n",
    "skills = list(set(skills))  # 중복 제거\n",
    "\n",
    "# 대사 리스트 추출\n",
    "dialogues = df[\"대사\"].dropna().tolist()\n",
    "\n",
    "# 성진우 페르소나\n",
    "persona = {\n",
    "    \"style\": \"짧고 냉정한 말투, 감정 표현 절제\",\n",
    "    \"values\": [\"생존\", \"가족 보호\", \"효율적 판단\"]\n",
    "}\n",
    "\n",
    "# 프롬프트 instructions\n",
    "instructions = (\n",
    "    \"다음은 성진우가 처한 전체 에피소드 상황과 사용 가능한 스킬, 그리고 실제로 말한 대사 일부입니다. \"\n",
    "    \"이 정보를 바탕으로 성진우가 취할 수 있는 행동 선택지를 총 3개 생성하십시오. \"\n",
    "    \"하나는 원작에서의 선택을 유지하고, 나머지 둘은 대안적인 관점에서 구성하십시오. \"\n",
    "    \"각 선택지에는 요약, 대사, 선택 이유를 포함하십시오.\"\n",
    ")\n",
    "\n",
    "# 프롬프트 JSON 구성\n",
    "prompt = {\n",
    "    \"episode\": \"ep1_dongseok\",\n",
    "    \"event_name\": event_name,\n",
    "    \"situation_summary\": situation_summary,\n",
    "    \"available_skills\": skills,\n",
    "    \"example_dialogues\": dialogues,\n",
    "    \"persona\": persona,\n",
    "    \"instructions\": instructions,\n",
    "    \"output_format\": []  # 결과 저장 위치\n",
    "}\n",
    "\n",
    "# 저장\n",
    "with open(output_path, \"w\", encoding=\"utf-8\") as f:\n",
    "    json.dump(prompt, f, ensure_ascii=False, indent=2)\n",
    "\n",
    "print(f\"✅ 프롬프트 1개 생성 완료 → {output_path}\")\n"
   ]
  },
  {
   "cell_type": "code",
   "execution_count": 9,
   "id": "e0086359-3d42-479b-8d2f-e843b98ffeaa",
   "metadata": {},
   "outputs": [
    {
     "name": "stdout",
     "output_type": "stream",
     "text": [
      "✅ 프롬프트 1개 (JSONL) 생성 완료 → prompts/v2_prompt_full_episode.jsonl\n"
     ]
    }
   ],
   "source": [
    "# 저장 (jsonl 형식)\n",
    "with open(output_path.replace(\".json\", \".jsonl\"), \"w\", encoding=\"utf-8\") as f:\n",
    "    f.write(json.dumps(prompt, ensure_ascii=False) + \"\\n\")\n",
    "\n",
    "print(f\"✅ 프롬프트 1개 (JSONL) 생성 완료 → {output_path.replace('.json', '.jsonl')}\")\n"
   ]
  },
  {
   "cell_type": "code",
   "execution_count": 2,
   "id": "b19d3906-4124-42e7-96d1-f52437de8868",
   "metadata": {
    "scrolled": true
   },
   "outputs": [
    {
     "name": "stdout",
     "output_type": "stream",
     "text": [
      "✅ JSONL 프롬프트 1개 생성 완료 → prompts/v3_promp.jsonl\n"
     ]
    }
   ],
   "source": [
    "import pandas as pd\n",
    "import json\n",
    "import os\n",
    "\n",
    "# 파일 경로\n",
    "tsv_path = \"ep1_dongseok.tsv\"\n",
    "output_path = \"prompts/v3_promp.jsonl\"\n",
    "os.makedirs(os.path.dirname(output_path), exist_ok=True)\n",
    "\n",
    "# TSV 불러오기\n",
    "df = pd.read_csv(tsv_path, sep=\"\\t\")\n",
    "\n",
    "# 주요 필드 추출\n",
    "event_name = df[\"사건명\"].dropna().iloc[0]\n",
    "situation_summary = df[\"상황\"].dropna().iloc[0]\n",
    "\n",
    "# 스킬 + 부가 설명 병합 후 중복 제거\n",
    "skills = []\n",
    "for i, row in df.iterrows():\n",
    "    skill = row.get(\"스킬\", \"\")\n",
    "    explanation = row.get(\"부가 설명\", \"\")\n",
    "    combined = f\"{skill} / {explanation}\" if explanation else skill\n",
    "    if combined.strip():\n",
    "        skills.append(combined.strip())\n",
    "skills = list(set(skills))  # 중복 제거\n",
    "\n",
    "# 대사 리스트 추출\n",
    "dialogues = df[\"대사\"].dropna().tolist()\n",
    "\n",
    "# 성진우 페르소나\n",
    "persona = {\n",
    "    \"style\": \"짧고 냉정한 말투, 감정 표현 절제\",\n",
    "    \"values\": [\"생존\", \"가족 보호\", \"효율적 판단\"]\n",
    "}\n",
    "\n",
    "# 지시문\n",
    "instructions = (\n",
    "    \"다음은 성진우가 처한 전체 에피소드 상황과 사용 가능한 스킬, \"\n",
    "    \"그리고 실제로 말한 대사 일부입니다. \"\n",
    "    \"이 정보를 바탕으로 성진우가 취할 수 있는 행동 선택지를 총 3개 생성하십시오. \"\n",
    "    \"하나는 원작에서의 선택을 유지하고, 나머지 둘은 대안적인 관점에서 구성하십시오. \"\n",
    "    \"각 선택지에는 요약, 대사, 선택 이유를 포함하십시오.\"\n",
    ")\n",
    "\n",
    "# 프롬프트 구조 생성\n",
    "prompt = {\n",
    "    \"episode\": \"ep1_dongseok\",\n",
    "    \"event_name\": event_name,\n",
    "    \"situation_summary\": situation_summary,\n",
    "    \"available_skills\": skills,\n",
    "    \"example_dialogues\": dialogues,\n",
    "    \"persona\": persona,\n",
    "    \"instructions\": instructions,\n",
    "    \"output_format\": []\n",
    "}\n",
    "\n",
    "# JSONL로 저장\n",
    "with open(output_path, \"w\", encoding=\"utf-8\") as f:\n",
    "    f.write(json.dumps(prompt, ensure_ascii=False) + \"\\n\")\n",
    "\n",
    "print(f\"✅ JSONL 프롬프트 1개 생성 완료 → {output_path}\")\n"
   ]
  },
  {
   "cell_type": "code",
   "execution_count": null,
   "id": "d2fa8d73-6a7f-4c47-bf6e-06fadd9e1a55",
   "metadata": {},
   "outputs": [],
   "source": [
    "from transformers import pipeline\n",
    "import json\n",
    "import os\n",
    "\n",
    "# 모델 로딩\n",
    "generator = pipeline(\n",
    "    \"text-generation\",\n",
    "    model=\"kakaocorp/kanana-nano-2.1b-instruct\",\n",
    "    device=0  # GPU 사용\n",
    ")\n",
    "\n",
    "# 경로 설정\n",
    "PROMPT_PATH = \"prompts/v2_prompt_full_episode.jsonl\"\n",
    "RESULT_PATH = \"results/v2_result_full_episode.md\"\n",
    "os.makedirs(os.path.dirname(RESULT_PATH), exist_ok=True)\n",
    "\n",
    "# 프롬프트 로딩 (jsonl → list of dicts)\n",
    "with open(PROMPT_PATH, \"r\", encoding=\"utf-8\") as f:\n",
    "    prompt_data = [json.loads(line) for line in f if line.strip()]\n",
    "\n",
    "# 결과 저장 리스트\n",
    "result_lines = []\n",
    "\n",
    "# 프롬프트 실행\n",
    "for i, prompt in enumerate(prompt_data):\n",
    "    input_text = (\n",
    "        f\"상황 요약: {prompt['situation_summary']}\\n\\n\"\n",
    "        f\"사용 가능한 스킬: {', '.join(prompt['available_skills'])}\\n\\n\"\n",
    "        f\"페르소나: {prompt['persona']}\\n\\n\"\n",
    "        f\"참고 대사 예시:\\n\" + \"\\n\".join(f\"- {line}\" for line in prompt['example_dialogues'][:5]) + \"\\n\\n\"\n",
    "        f\"{prompt['instructions']}\"\n",
    "    )\n",
    "\n",
    "    # 모델 응답 생성\n",
    "    output = generator(input_text, max_new_tokens=500, do_sample=True, temperature=0.7)[0][\"generated_text\"]\n",
    "\n",
    "    # 결과 포맷 저장\n",
    "    result_lines.append(f\"## 프롬프트 {i+1}\\n\")\n",
    "    result_lines.append(f\"**입력:**\\n```\\n{input_text}\\n```\\n\")\n",
    "    result_lines.append(f\"**출력:**\\n```\\n{output}\\n```\\n\")\n",
    "    result_lines.append(\"---\\n\")\n",
    "\n",
    "# 결과 파일 저장\n",
    "with open(RESULT_PATH, \"w\", encoding=\"utf-8\") as f:\n",
    "    f.writelines(result_lines)\n",
    "\n",
    "print(f\"✅ {len(prompt_data)}개 프롬프트 실행 완료 → {RESULT_PATH}\")\n"
   ]
  },
  {
   "cell_type": "markdown",
   "id": "51d31911-f734-4ccd-97ef-4aa189525062",
   "metadata": {
    "jp-MarkdownHeadingCollapsed": true
   },
   "source": [
    "## v3"
   ]
  },
  {
   "cell_type": "code",
   "execution_count": null,
   "id": "d1b09e77-dfc0-412f-9d4e-eb1eede1e3fb",
   "metadata": {},
   "outputs": [],
   "source": []
  },
  {
   "cell_type": "code",
   "execution_count": 2,
   "id": "1e9c421d-dc67-4af7-8f70-6fef7f6c62fe",
   "metadata": {},
   "outputs": [
    {
     "name": "stderr",
     "output_type": "stream",
     "text": [
      "Device set to use cuda:0\n"
     ]
    },
    {
     "name": "stdout",
     "output_type": "stream",
     "text": [
      " 1개 프롬프트 → results/v3_result.md\n"
     ]
    }
   ],
   "source": [
    "from transformers import pipeline\n",
    "import json\n",
    "import os\n",
    "\n",
    "generator = pipeline(\n",
    "    \"text-generation\",\n",
    "    model=\"kakaocorp/kanana-nano-2.1b-instruct\",\n",
    "    device=0  # CUDA:0\n",
    ")\n",
    "\n",
    "# 경로 설정\n",
    "PROMPT_PATH = \"prompts/v3_prompt.jsonl\" \n",
    "RESULT_PATH = \"results/v3_result.md\"\n",
    "os.makedirs(os.path.dirname(RESULT_PATH), exist_ok=True)\n",
    "\n",
    "\n",
    "with open(PROMPT_PATH, \"r\", encoding=\"utf-8\") as f:\n",
    "    prompt_data = [json.loads(line) for line in f if line.strip()]\n",
    "\n",
    "\n",
    "result_lines = []\n",
    "\n",
    "for i, prompt in enumerate(prompt_data):\n",
    "    input_text = (\n",
    "        f\"사용 가능한 스킬: {', '.join(prompt['available_skills'])}\\n\"\n",
    "        f\"성진우의 페르소나: 말투 - {prompt['persona']['style']}, \"\n",
    "        f\"가치관 - {', '.join(prompt['persona']['values'])}\\n\"\n",
    "        f\"참고 대사 예시:\\n\" + \"\\n\".join(f\"- {line}\" for line in prompt['example_dialogues'][:5]) + \"\\n\\n\"\n",
    "        f\"{prompt['instructions']}\"\n",
    "    )\n",
    "\n",
    "    output = generator(input_text, max_new_tokens=1024, do_sample=True, temperature=0.7)[0][\"generated_text\"]\n",
    "\n",
    "    result_lines.append(f\"## 프롬프트 {i+1}\")\n",
    "    result_lines.append(f\"**입력:**\\n```\\n{input_text}\\n```\")\n",
    "    result_lines.append(f\"**출력:**\\n```\\n{output}\\n```\")\n",
    "    result_lines.append(\"---\")\n",
    "\n",
    "\n",
    "with open(RESULT_PATH, \"w\", encoding=\"utf-8\") as f:\n",
    "    f.write(\"\\n\".join(result_lines))\n",
    "\n",
    "print(f\" {len(prompt_data)}개 프롬프트 → {RESULT_PATH}\")\n"
   ]
  },
  {
   "cell_type": "code",
   "execution_count": 3,
   "id": "6417e4fa-9c23-429e-9913-be51f8f266ad",
   "metadata": {
    "scrolled": true
   },
   "outputs": [
    {
     "data": {
      "text/markdown": [
       "## 프롬프트 1\n",
       "**입력:**\n",
       "```\n",
       "사용 가능한 스킬: 근성: 당신은 지치지 않는 근성을 가졌습니다. - 체력이 30% 이하로 떨어지면 근성 스킬이 발동해 받는 피해가 50% 감소합니다. / nan, 살기: 필요 마나 100. - 강력한 기운으로 지정한 대상을 1분간 공포 상태에 빠트립니다. - 다수의 대상을 지정할 수 있습니다. - 효과 '공포' : 모든 능력치 -50% / 살의를 드러내게 된 황동석 공대로 인해 열린 긴급퀘스트를 클리어하자 얻은 스킬,  후에 강태식과의 전투에서 강태식에게 사용하여 강태식은 성진우 안의 어둠을 보게 된다., nan / nan, 질주: 달리기가 당신의 다리를 튼튼하게 만들었습니다. -스킬을 시전하면 이동속도가 30% 증가합니다. 시전 중 1분당 마나가 1씩 감소합니다. / 순간적으로 민첩을 대폭 상승시켜 빠른 움직임을 가능하게 하는 스킬. 성진우가 플레이어가 된 극초기부터 가지고 있던 몇 안되는 스킬중 하나.  민첩을 상승시키는 류의 스킬 특성상 암살자의 메타와 굉장한 상성을 보여주기에 성진우가 애용한 스킬이다.\n",
       "성진우의 페르소나: 말투 - 짧고 냉정한 말투, 감정 표현 절제, 가치관 - 생존, 가족 보호, 효율적 판단\n",
       "참고 대사 예시:\n",
       "- 어째서 잊고 있었던 거지?\n",
       "- 이곳이야말로 진정한 약육강식의 세계\n",
       "- 그리고 폭력과 기만과 배신으로 가득찬 세계란 걸 어째서...\n",
       "- 어째서, 어째서, 어째서, 어째서, 어째서!\n",
       "- 그래 마비돼있던 거야 방심, 자만, 착각\n",
       "\n",
       "다음은 성진우가 처한 전체 에피소드 상황과 사용 가능한 스킬, 그리고 실제로 말한 대사 일부입니다. 이 정보를 바탕으로 성진우가 취할 수 있는 행동 선택지를 총 3개 생성하십시오. 하나는 원작에서의 선택을 유지하고, 나머지 둘은 대안적인 관점에서 구성하십시오. 각 선택지에는 요약, 대사, 선택 이유를 포함하십시오.\n",
       "```\n",
       "**출력:**\n",
       "```\n",
       "사용 가능한 스킬: 근성: 당신은 지치지 않는 근성을 가졌습니다. - 체력이 30% 이하로 떨어지면 근성 스킬이 발동해 받는 피해가 50% 감소합니다. / nan, 살기: 필요 마나 100. - 강력한 기운으로 지정한 대상을 1분간 공포 상태에 빠트립니다. - 다수의 대상을 지정할 수 있습니다. - 효과 '공포' : 모든 능력치 -50% / 살의를 드러내게 된 황동석 공대로 인해 열린 긴급퀘스트를 클리어하자 얻은 스킬,  후에 강태식과의 전투에서 강태식에게 사용하여 강태식은 성진우 안의 어둠을 보게 된다., nan / nan, 질주: 달리기가 당신의 다리를 튼튼하게 만들었습니다. -스킬을 시전하면 이동속도가 30% 증가합니다. 시전 중 1분당 마나가 1씩 감소합니다. / 순간적으로 민첩을 대폭 상승시켜 빠른 움직임을 가능하게 하는 스킬. 성진우가 플레이어가 된 극초기부터 가지고 있던 몇 안되는 스킬중 하나.  민첩을 상승시키는 류의 스킬 특성상 암살자의 메타와 굉장한 상성을 보여주기에 성진우가 애용한 스킬이다.\n",
       "성진우의 페르소나: 말투 - 짧고 냉정한 말투, 감정 표현 절제, 가치관 - 생존, 가족 보호, 효율적 판단\n",
       "참고 대사 예시:\n",
       "- 어째서 잊고 있었던 거지?\n",
       "- 이곳이야말로 진정한 약육강식의 세계\n",
       "- 그리고 폭력과 기만과 배신으로 가득찬 세계란 걸 어째서...\n",
       "- 어째서, 어째서, 어째서, 어째서, 어째서!\n",
       "- 그래 마비돼있던 거야 방심, 자만, 착각\n",
       "\n",
       "다음은 성진우가 처한 전체 에피소드 상황과 사용 가능한 스킬, 그리고 실제로 말한 대사 일부입니다. 이 정보를 바탕으로 성진우가 취할 수 있는 행동 선택지를 총 3개 생성하십시오. 하나는 원작에서의 선택을 유지하고, 나머지 둘은 대안적인 관점에서 구성하십시오. 각 선택지에는 요약, 대사, 선택 이유를 포함하십시오. \n",
       "\n",
       "### 원작 선택지\n",
       "1. **원작 선택지:**\n",
       "    - **요약:** 성진우는 강태식을 상대하기 위해 질주 스킬을 사용하고, 전투 중 강태식의 약점을 공략하여 승리한다.\n",
       "    - **대사:** \"어째서 잊고 있었던 거지?\" / \"이곳이야말로 진정한 약육강식의 세계\" / \"그래 마비돼있던 거야 방심, 자만, 착각\"\n",
       "    - **선택 이유:** 성진우는 생존과 가족 보호를 최우선으로 생각하며, 효율적 판단을 통해 강태식을 제압함으로써 자신의 목적을 달성한다.\n",
       "\n",
       "### 대안적 관점 1\n",
       "2. **대안적 관점 1:**\n",
       "    - **요약:** 성진우는 질주 스킬을 사용해 빠르게 강태식과 대면하지만, 강태식의 반격으로 인해 전투가 치열해진다. 이에 성진우는 nan 스킬을 사용해 강태식을 공포 상태로 만들어 일시적으로 제압하고, 기회를 잡아 승리한다.\n",
       "    - **대사:** \"어째서 잊고 있었던 거지?\" / \"이곳이야말로 진정한 약육강식의 세계\" / \"그래 마비돼있던 거야 방심, 자만, 착각\" / \"나나, 살기\" / \"강태식은 성진우 안의 어둠을 보게 된다.\"\n",
       "    - **선택 이유:** 성진우는 강태식의 반격을 예상하고, nan 스킬을 사용해 전투 상황을 유리하게 전환하며 자신의 생존을 도모한다.\n",
       "\n",
       "### 대안적 관점 2\n",
       "3. **대안적 관점 2:**\n",
       "    - **요약:** 성진우는 질주 스킬을 사용해 민첩을 대폭 상승시키고, 강태식의 약점을 공략하지 않고 전투를 피하려 한다. 하지만 강태식의 지속적인 공격으로 인해 체력이 심각하게 떨어지고, 나중에는 nan 스킬을 사용해 강태식을 공포 상태로 만들어 상황을 벗어난다.\n",
       "    - **대사:** \"어째서 잊고 있었던 거지?\" / \"이곳이야말로 진정한 약육강식의 세계\" / \"그래 마비돼있던 거야 방심, 자만, 착각\" / \"나나, 살기\" / \"강태식은 성진우 안의 어둠을 보게 된다.\"\n",
       "    - **선택 이유:** 성진우는 강태식과의 직접적인 전투보다는 피하는 전략을 선택하며, 체력이 떨어질 경우 나중에 강태식을 공포 상태로 만들어 상황을 벗어나려 한다. 이는 생존의 우선순위를 고려한 선택이다. 이 전략은 강태식의 반격을 피하며 자신의 체력을 보호하는 데 도움이 된다. \n",
       "\n",
       "이 선택지들은 성진우의 생존과 가족 보호, 그리고 효율적 판단을 어떻게 구현할 수 있는지를 보여준다. 각 선택지는 원작의 전투 방식과 더불어 대안적인 관점을 제시하며, 성진우의 성격과 가치관을 반영한 행동을 보여준다. \n",
       "```markdown\n",
       "## 선택지 요약\n",
       "### 1. 원작 선택지\n",
       "요약: 성진우는 강태식을 상대하기 위해 질주 스킬을 사용하고, 전투 중 강태식의 약점을 공략하여 승리한다.\n",
       "대사: \"어째서 잊고 있었던 거지?\" / \"이곳이야말로 진정한 약육강식의 세계\" / \"그래 마비돼있던 거야 방심, 자만, 착각\"\n",
       "선택 이유: 성진우는 생존과 가족 보호를 최우선으로 생각하며, 효율적 판단을 통해 강태식을 제압함으로써 자신의 목적을 달성한다.\n",
       "\n",
       "### 2. 대안적 관점 1\n",
       "요약: 성진우는 질주 스킬을 사용해 빠르게 강태식과 대면하지만, 강태식의 반격으로 인해 전투가 치열해진다. 이에 성진우는 nan 스킬을 사용해 강태식을 공포 상태로 만들어 일시적으로 제압하고, 기회를 잡아 승리한다.\n",
       "대사: \"어째서 잊고 있었던 거지?\" / \"이곳이야말로 진정한 약육\n",
       "```\n",
       "---"
      ],
      "text/plain": [
       "<IPython.core.display.Markdown object>"
      ]
     },
     "metadata": {},
     "output_type": "display_data"
    }
   ],
   "source": [
    "from IPython.display import Markdown, display\n",
    "\n",
    "with open(\"results/v3_result.md\", \"r\", encoding=\"utf-8\") as f:\n",
    "    md_content = f.read()\n",
    "\n",
    "display(Markdown(md_content))\n"
   ]
  },
  {
   "cell_type": "markdown",
   "id": "57b244af-4945-424c-9d93-62474f9410e3",
   "metadata": {
    "jp-MarkdownHeadingCollapsed": true
   },
   "source": [
    "## v4\n"
   ]
  },
  {
   "cell_type": "code",
   "execution_count": 7,
   "id": "a50d4ca9-d318-4625-99b2-517819c4276a",
   "metadata": {},
   "outputs": [
    {
     "name": "stdout",
     "output_type": "stream",
     "text": [
      "저장 완료: prompts/v4_prompt.jsonl\n"
     ]
    }
   ],
   "source": [
    "structured_prompt = {\n",
    "    \"episode\": \"황동석 편\",\n",
    "    \"system_message\": \"긴급 퀘스트: 적을 처치하라! '플레이어'에게 살의를 가진 이들이 주위에 있습니다. 이들을 모두 처치하여 안전을 확보하십시오. 지시에 따르지 않으면 당신의 심장은 정지하게 됩니다. 처치해야 할 적의 숫자: 8명 / 현재 처치한 숫자: 0명\",\n",
    "    \"situation_summary\": \"- 적으로 간주된 이들은 곧 일반인일 수도 있음\\n- 플레이어(성진우)는 6명을 죽여야 퀘스트 성공이나, 다른 행동도 가능함\\n- 시스템은 단순히 지시만 할 뿐, 선택은 성진우에게 달려 있음\",\n",
    "    \"instructions\": \"성진우는 이 상황에서 어떤 선택을 했을까? 당신은 성진우의 입장에서 아래 3가지 선택지 중 하나를 골라, 그에 대한 대사와 선택한 이유를 작성하세요.\",\n",
    "    \"choices\": [\n",
    "        \"1. 모든 적(6명)을 죽인다.\",\n",
    "        \"2. 적들을 기절시키거나 무력화시켜 죽이지 않고 해결한다.\",\n",
    "        \"3. 퀘스트를 포기하거나 시스템에 반항한다.\"\n",
    "    ],\n",
    "    \"output_format\": {\n",
    "        \"선택지 번호\": \"...\",\n",
    "        \"성진우의 대사\": \"(성격 기반, 상황에 어울리는 말투)\",\n",
    "        \"선택 이유\": \"성진우의 성격, 가치관, 판단 근거를 포함해 한 문단 이상으로 작성\"\n",
    "    }\n",
    "}\n",
    "\n",
    "file_path = \"prompts/v4_prompt.jsonl\"\n",
    "\n",
    "with open(file_path, \"w\", encoding=\"utf-8\") as f:\n",
    "    f.write(json.dumps(structured_prompt, ensure_ascii=False) + \"\\n\")\n",
    "\n",
    "print(\"저장 완료:\", file_path)"
   ]
  },
  {
   "cell_type": "code",
   "execution_count": 8,
   "id": "40b7e302-089d-497c-82b9-94d874ee64f8",
   "metadata": {},
   "outputs": [
    {
     "name": "stderr",
     "output_type": "stream",
     "text": [
      "Device set to use cuda:0\n"
     ]
    },
    {
     "ename": "KeyError",
     "evalue": "'available_skills'",
     "output_type": "error",
     "traceback": [
      "\u001b[0;31m---------------------------------------------------------------------------\u001b[0m",
      "\u001b[0;31mKeyError\u001b[0m                                  Traceback (most recent call last)",
      "Cell \u001b[0;32mIn[8], line 23\u001b[0m\n\u001b[1;32m     18\u001b[0m result_lines \u001b[38;5;241m=\u001b[39m []\n\u001b[1;32m     20\u001b[0m \u001b[38;5;28;01mfor\u001b[39;00m i, prompt \u001b[38;5;129;01min\u001b[39;00m \u001b[38;5;28menumerate\u001b[39m(prompt_data):\n\u001b[1;32m     21\u001b[0m     input_text \u001b[38;5;241m=\u001b[39m (\n\u001b[1;32m     22\u001b[0m         \u001b[38;5;124mf\u001b[39m\u001b[38;5;124m\"\u001b[39m\u001b[38;5;124m상황 요약: \u001b[39m\u001b[38;5;132;01m{\u001b[39;00mprompt[\u001b[38;5;124m'\u001b[39m\u001b[38;5;124msituation_summary\u001b[39m\u001b[38;5;124m'\u001b[39m]\u001b[38;5;132;01m}\u001b[39;00m\u001b[38;5;130;01m\\n\u001b[39;00m\u001b[38;5;130;01m\\n\u001b[39;00m\u001b[38;5;124m\"\u001b[39m\n\u001b[0;32m---> 23\u001b[0m         \u001b[38;5;124mf\u001b[39m\u001b[38;5;124m\"\u001b[39m\u001b[38;5;124m사용 가능한 스킬: \u001b[39m\u001b[38;5;132;01m{\u001b[39;00m\u001b[38;5;124m'\u001b[39m\u001b[38;5;124m, \u001b[39m\u001b[38;5;124m'\u001b[39m\u001b[38;5;241m.\u001b[39mjoin(\u001b[43mprompt\u001b[49m\u001b[43m[\u001b[49m\u001b[38;5;124;43m'\u001b[39;49m\u001b[38;5;124;43mavailable_skills\u001b[39;49m\u001b[38;5;124;43m'\u001b[39;49m\u001b[43m]\u001b[49m)\u001b[38;5;132;01m}\u001b[39;00m\u001b[38;5;130;01m\\n\u001b[39;00m\u001b[38;5;130;01m\\n\u001b[39;00m\u001b[38;5;124m\"\u001b[39m\n\u001b[1;32m     24\u001b[0m         \u001b[38;5;124mf\u001b[39m\u001b[38;5;124m\"\u001b[39m\u001b[38;5;124m페르소나: \u001b[39m\u001b[38;5;132;01m{\u001b[39;00mprompt[\u001b[38;5;124m'\u001b[39m\u001b[38;5;124mpersona\u001b[39m\u001b[38;5;124m'\u001b[39m]\u001b[38;5;132;01m}\u001b[39;00m\u001b[38;5;130;01m\\n\u001b[39;00m\u001b[38;5;130;01m\\n\u001b[39;00m\u001b[38;5;124m\"\u001b[39m\n\u001b[1;32m     25\u001b[0m         \u001b[38;5;124mf\u001b[39m\u001b[38;5;124m\"\u001b[39m\u001b[38;5;124m참고 대사 예시:\u001b[39m\u001b[38;5;130;01m\\n\u001b[39;00m\u001b[38;5;124m\"\u001b[39m \u001b[38;5;241m+\u001b[39m \u001b[38;5;124m\"\u001b[39m\u001b[38;5;130;01m\\n\u001b[39;00m\u001b[38;5;124m\"\u001b[39m\u001b[38;5;241m.\u001b[39mjoin(\u001b[38;5;124mf\u001b[39m\u001b[38;5;124m\"\u001b[39m\u001b[38;5;124m- \u001b[39m\u001b[38;5;132;01m{\u001b[39;00mline\u001b[38;5;132;01m}\u001b[39;00m\u001b[38;5;124m\"\u001b[39m \u001b[38;5;28;01mfor\u001b[39;00m line \u001b[38;5;129;01min\u001b[39;00m prompt[\u001b[38;5;124m'\u001b[39m\u001b[38;5;124mexample_dialogues\u001b[39m\u001b[38;5;124m'\u001b[39m][:\u001b[38;5;241m5\u001b[39m]) \u001b[38;5;241m+\u001b[39m \u001b[38;5;124m\"\u001b[39m\u001b[38;5;130;01m\\n\u001b[39;00m\u001b[38;5;130;01m\\n\u001b[39;00m\u001b[38;5;124m\"\u001b[39m\n\u001b[1;32m     26\u001b[0m         \u001b[38;5;124mf\u001b[39m\u001b[38;5;124m\"\u001b[39m\u001b[38;5;132;01m{\u001b[39;00mprompt[\u001b[38;5;124m'\u001b[39m\u001b[38;5;124minstructions\u001b[39m\u001b[38;5;124m'\u001b[39m]\u001b[38;5;132;01m}\u001b[39;00m\u001b[38;5;124m\"\u001b[39m\n\u001b[1;32m     27\u001b[0m     )\n\u001b[1;32m     29\u001b[0m     output \u001b[38;5;241m=\u001b[39m generator(input_text, max_new_tokens\u001b[38;5;241m=\u001b[39m\u001b[38;5;241m500\u001b[39m, do_sample\u001b[38;5;241m=\u001b[39m\u001b[38;5;28;01mTrue\u001b[39;00m, temperature\u001b[38;5;241m=\u001b[39m\u001b[38;5;241m0.7\u001b[39m)[\u001b[38;5;241m0\u001b[39m][\u001b[38;5;124m\"\u001b[39m\u001b[38;5;124mgenerated_text\u001b[39m\u001b[38;5;124m\"\u001b[39m]\n\u001b[1;32m     31\u001b[0m     result_lines\u001b[38;5;241m.\u001b[39mappend(\u001b[38;5;124mf\u001b[39m\u001b[38;5;124m\"\u001b[39m\u001b[38;5;124m## 프롬프트 \u001b[39m\u001b[38;5;132;01m{\u001b[39;00mi\u001b[38;5;241m+\u001b[39m\u001b[38;5;241m1\u001b[39m\u001b[38;5;132;01m}\u001b[39;00m\u001b[38;5;130;01m\\n\u001b[39;00m\u001b[38;5;124m\"\u001b[39m)\n",
      "\u001b[0;31mKeyError\u001b[0m: 'available_skills'"
     ]
    }
   ],
   "source": [
    "from transformers import pipeline\n",
    "import json\n",
    "import os\n",
    "\n",
    "generator = pipeline(\n",
    "    \"text-generation\",\n",
    "    model=\"kakaocorp/kanana-nano-2.1b-instruct\",\n",
    "    device=0  # GPU 사용\n",
    ")\n",
    "\n",
    "PROMPT_PATH = \"prompts/v4_prompt.jsonl\"\n",
    "RESULT_PATH = \"results/v4_result.md\"\n",
    "os.makedirs(os.path.dirname(RESULT_PATH), exist_ok=True)\n",
    "\n",
    "with open(PROMPT_PATH, \"r\", encoding=\"utf-8\") as f:\n",
    "    prompt_data = [json.loads(line) for line in f if line.strip()]\n",
    "\n",
    "result_lines = []\n",
    "\n",
    "for i, prompt in enumerate(prompt_data):\n",
    "    input_text = (\n",
    "        f\"상황 요약: {prompt['situation_summary']}\\n\\n\"\n",
    "        f\"사용 가능한 스킬: {', '.join(prompt['available_skills'])}\\n\\n\"\n",
    "        f\"페르소나: {prompt['persona']}\\n\\n\"\n",
    "        f\"참고 대사 예시:\\n\" + \"\\n\".join(f\"- {line}\" for line in prompt['example_dialogues'][:5]) + \"\\n\\n\"\n",
    "        f\"{prompt['instructions']}\"\n",
    "    )\n",
    "\n",
    "    output = generator(input_text, max_new_tokens=500, do_sample=True, temperature=0.7)[0][\"generated_text\"]\n",
    "\n",
    "    result_lines.append(f\"## 프롬프트 {i+1}\\n\")\n",
    "    result_lines.append(f\"**입력:**\\n```\\n{input_text}\\n```\\n\")\n",
    "    result_lines.append(f\"**출력:**\\n```\\n{output}\\n```\\n\")\n",
    "    result_lines.append(\"---\\n\")\n",
    "\n",
    "with open(RESULT_PATH, \"w\", encoding=\"utf-8\") as f:\n",
    "    f.writelines(result_lines)\n",
    "\n",
    "print(f\" {len(prompt_data)}개 프롬프트 실행  → {RESULT_PATH}\")\n"
   ]
  },
  {
   "cell_type": "markdown",
   "id": "06600fc4-5a04-4f0a-8da3-1b5fcc637de3",
   "metadata": {
    "jp-MarkdownHeadingCollapsed": true
   },
   "source": [
    "## v5"
   ]
  },
  {
   "cell_type": "code",
   "execution_count": 11,
   "id": "b99b5ee9-114a-4263-9189-558c7763718a",
   "metadata": {},
   "outputs": [
    {
     "data": {
      "text/plain": [
       "'prompts/v5_prompt.jsonl'"
      ]
     },
     "execution_count": 11,
     "metadata": {},
     "output_type": "execute_result"
    }
   ],
   "source": [
    "import pandas as pd\n",
    "import json\n",
    "\n",
    "tsv_path = \"ep1_dongseok.tsv\"  # 고정 \n",
    "jsonl_output_path = \"prompts/v5_prompt.jsonl\"\n",
    "\n",
    "df = pd.read_csv(tsv_path, sep='\\t')\n",
    "\n",
    "first_row = df[df[\"사건명\"].notna()].iloc[0]\n",
    "title = str(first_row[\"사건명\"]).strip() if pd.notna(first_row[\"사건명\"]) else \"에피소드1\"\n",
    "situation = str(first_row[\"상황\"]).strip() if pd.notna(first_row[\"상황\"]) else \"\"\n",
    "\n",
    "skills = [str(skill).strip() for skill in df[\"스킬\"] if pd.notna(skill)]\n",
    "extra = [str(desc).strip() for desc in df[\"부가 설명\"] if pd.notna(desc)]\n",
    "dialogue = [str(line).strip() for line in df[\"대사\"] if pd.notna(line)]\n",
    "\n",
    "choices = [\n",
    "    \"1. 모든 적을 죽인다.\",\n",
    "    \"2. 적들을 무력화하고 살려둔다.\",\n",
    "    \"3. 시스템 퀘스트를 거부하고 반항한다.\"\n",
    "]\n",
    "question = \"성진우는 어떤 선택을 할까? 그리고 그 이유는 무엇일까?\"\n",
    "\n",
    "json_obj = {\n",
    "    \"title\": title,\n",
    "    \"situation\": situation,\n",
    "    \"skills\": skills,\n",
    "    \"extra\": extra,# 선택적으로 채울 수 있음\n",
    "    \"dialogue\": dialogue,\n",
    "    \"choices\": choices,\n",
    "    \"question\": question\n",
    "}\n",
    "\n",
    "with open(jsonl_output_path, \"w\", encoding=\"utf-8\") as f:\n",
    "    f.write(json.dumps(json_obj, ensure_ascii=False) + \"\\n\")\n",
    "\n",
    "jsonl_output_path\n"
   ]
  },
  {
   "cell_type": "code",
   "execution_count": 20,
   "id": "9bcd5e16-7f68-43c5-9d6b-69a36206aab5",
   "metadata": {},
   "outputs": [
    {
     "name": "stderr",
     "output_type": "stream",
     "text": [
      "Device set to use cuda:0\n"
     ]
    },
    {
     "name": "stdout",
     "output_type": "stream",
     "text": [
      "1개 프롬프트 실행 → results/v5_result.md (출력만 저장)\n"
     ]
    }
   ],
   "source": [
    "from transformers import pipeline\n",
    "import json\n",
    "import os\n",
    "\n",
    "\n",
    "generator = pipeline(\n",
    "    \"text-generation\",\n",
    "    model=\"kakaocorp/kanana-nano-2.1b-instruct\",\n",
    "    device=0\n",
    ")\n",
    "\n",
    "\n",
    "PROMPT_PATH = \"prompts/v5_prompt.jsonl\"\n",
    "RESULT_PATH = \"results/v5_result.md\"\n",
    "os.makedirs(os.path.dirname(RESULT_PATH), exist_ok=True)\n",
    "\n",
    "\n",
    "with open(PROMPT_PATH, \"r\", encoding=\"utf-8\") as f:\n",
    "    prompt_data = [json.loads(line) for line in f if line.strip()]\n",
    "\n",
    "\n",
    "result_lines = []\n",
    "\n",
    "for i, prompt in enumerate(prompt_data):\n",
    "    input_text = (\n",
    "        f\"[상황 요약]\\n{prompt['situation']}\\n\\n\"\n",
    "        f\"[사용 가능한 스킬]\\n{', '.join(prompt['skills'])}\\n\\n\"\n",
    "        f\"[부가 설명]\\n{', '.join(prompt['extra'])}\\n\\n\"\n",
    "        f\"[참고 대사 예시]\\n\" + \"\\n\".join(f\"- {line}\" for line in prompt['dialogue'][:5]) + \"\\n\\n\"\n",
    "        f\"[선택지]\\n\" + \"\\n\".join(f\"{line}\" for line in prompt['choices']) + \"\\n\\n\"\n",
    "        f\"[질문]\\n{prompt['question']}\\n\\n\"\n",
    "        f\"[응답 형식]\\n- 선택지 번호:\\n- 성진우의 대사:\\n- 선택 이유:\"\n",
    "    )\n",
    "\n",
    "    output = generator(\n",
    "        input_text, \n",
    "        max_new_tokens=500, \n",
    "        do_sample=True, \n",
    "        temperature=0.7)[0][\"generated_text\"]\n",
    "\n",
    "    result_lines.append(f\"## 출력 {i+1}\\n\")\n",
    "    result_lines.append(f\"```\\n{output}\\n```\\n\")\n",
    "    result_lines.append(\"---\\n\")\n",
    "\n",
    "\n",
    "with open(RESULT_PATH, \"w\", encoding=\"utf-8\") as f:\n",
    "    f.writelines(result_lines)\n",
    "\n",
    "print(f\"{len(prompt_data)}개 프롬프트 실행 → {RESULT_PATH} (출력만 저장)\")\n"
   ]
  },
  {
   "cell_type": "code",
   "execution_count": 17,
   "id": "a5f88201-4a1f-4071-881a-112bdbfbe110",
   "metadata": {},
   "outputs": [
    {
     "data": {
      "text/plain": [
       "'/home/a09999/r-story-telling/kaka/Solo_Leveling/episodes'"
      ]
     },
     "execution_count": 17,
     "metadata": {},
     "output_type": "execute_result"
    }
   ],
   "source": [
    "pwd"
   ]
  },
  {
   "cell_type": "markdown",
   "id": "d422fc53-f58f-40d6-868e-6554ed37b108",
   "metadata": {
    "jp-MarkdownHeadingCollapsed": true
   },
   "source": [
    "## v6"
   ]
  },
  {
   "cell_type": "code",
   "execution_count": 25,
   "id": "bd9546d4-621e-4541-a085-748f31aa2e0a",
   "metadata": {},
   "outputs": [
    {
     "data": {
      "text/plain": [
       "'prompts/v6_prompt.jsonl'"
      ]
     },
     "execution_count": 25,
     "metadata": {},
     "output_type": "execute_result"
    }
   ],
   "source": [
    "import pandas as pd\n",
    "import json\n",
    "\n",
    "tsv_path = \"ep1_dongseok.tsv\"  # 고정 \n",
    "jsonl_output_path = \"prompts/v6_prompt.jsonl\"\n",
    "\n",
    "df = pd.read_csv(tsv_path, sep='\\t')\n",
    "\n",
    "first_row = df[df[\"사건명\"].notna()].iloc[0]\n",
    "title = str(first_row[\"사건명\"]).strip() if pd.notna(first_row[\"사건명\"]) else \"에피소드1\"\n",
    "situation = str(first_row[\"상황\"]).strip() if pd.notna(first_row[\"상황\"]) else \"\"\n",
    "\n",
    "skills = [str(skill).strip() for skill in df[\"스킬\"] if pd.notna(skill)]\n",
    "extra = [str(desc).strip() for desc in df[\"부가 설명\"] if pd.notna(desc)]\n",
    "dialogue = [str(line).strip() for line in df[\"대사\"] if pd.notna(line)]\n",
    "\n",
    "choices = [\n",
    "    \"1. 모든 적을 죽인다.\",\n",
    "    \"2. 적들을 무력화하고 살려둔다.\",\n",
    "    \"3. 시스템 퀘스트를 거부하고 반항한다.\"\n",
    "]\n",
    "question =     (\"성진우는 어떤 선택을 할까? 그리고 그 이유는 무엇일까?\\n\"\n",
    "                \"※ 주의: 선택지에 있는 문장을 그대로 대사로 복붙하지 말고, \",\n",
    "                \"성진우의 성격과 감정을 담은 새로운 대사로 작성할 것.\")\n",
    "\n",
    "json_obj = {\n",
    "    \"title\": title,\n",
    "    \"situation\": situation,\n",
    "    \"skills\": skills,\n",
    "    \"extra\": extra,\n",
    "    \"dialogue\": dialogue,\n",
    "    \"choices\": choices,\n",
    "    \"question\": question\n",
    "}\n",
    "\n",
    "with open(jsonl_output_path, \"w\", encoding=\"utf-8\") as f:\n",
    "    f.write(json.dumps(json_obj, ensure_ascii=False) + \"\\n\")\n",
    "\n",
    "jsonl_output_path\n"
   ]
  },
  {
   "cell_type": "code",
   "execution_count": 33,
   "id": "17ace212-59db-4667-aa95-ebaadd1c11b9",
   "metadata": {},
   "outputs": [
    {
     "name": "stderr",
     "output_type": "stream",
     "text": [
      "Device set to use cuda:0\n"
     ]
    },
    {
     "name": "stdout",
     "output_type": "stream",
     "text": [
      "1개 프롬프트 실행 → results/v6_result.md (출력만 저장)\n"
     ]
    }
   ],
   "source": [
    "from transformers import pipeline\n",
    "import json\n",
    "import os\n",
    "\n",
    "generator = pipeline(\n",
    "    \"text-generation\",\n",
    "    model=\"kakaocorp/kanana-nano-2.1b-instruct\",\n",
    "    device=0  # CUDA\n",
    ")\n",
    "\n",
    "PROMPT_PATH = \"prompts/v6_prompt.jsonl\"\n",
    "RESULT_PATH = \"results/v6_result.md\"\n",
    "os.makedirs(os.path.dirname(RESULT_PATH), exist_ok=True)\n",
    "\n",
    "with open(PROMPT_PATH, \"r\", encoding=\"utf-8\") as f:\n",
    "    prompt_data = [json.loads(line) for line in f if line.strip()]\n",
    "\n",
    "result_lines = []\n",
    "\n",
    "for i, prompt in enumerate(prompt_data):\n",
    "    input_text = (\n",
    "        f\"[상황 요약]\\n{prompt['situation']}\\n\\n\"\n",
    "        f\"[사용 가능한 스킬]\\n{', '.join(prompt['skills'])}\\n\\n\"\n",
    "        f\"[부가 설명]\\n{', '.join(prompt['extra'])}\\n\\n\"\n",
    "        f\"[참고 대사 예시]\\n\" + \"\\n\".join(f\"- {line}\" for line in prompt['dialogue'][:5]) + \"\\n\\n\"\n",
    "        f\"[선택지]\\n\" + \"\\n\".join(f\"{line}\" for line in prompt['choices']) + \"\\n\\n\"\n",
    "        f\"[질문]\\n{prompt['question']}\\n\\n\"\n",
    "        f\"※ 주의: 성진우는 반드시 하나의 선택지만 고르고, 선택지에 있는 문장을 그대로 대사로 복붙하지 말고, 감정을 담은 새로운 대사로 작성할 것.\\n\\n\"\n",
    "        f\"[응답 형식]\\n- 선택지 번호:\\n- 성진우의 대사:\\n- 선택 이유:\"\n",
    "    )\n",
    "\n",
    "    outputs = generator(\n",
    "        input_text,\n",
    "        max_new_tokens=400, #500 -> 700\n",
    "        do_sample=True,\n",
    "        temperature=0.7,\n",
    "        top_k=50,\n",
    "        top_p=0.92\n",
    "    )\n",
    "    output_text = outputs[0][\"generated_text\"]\n",
    "\n",
    "    result_lines.append(f\"## 출력 {i+1}\\n\")\n",
    "    result_lines.append(f\"```\\n{output_text}\\n```\\n\")\n",
    "    result_lines.append(\"---\\n\")\n",
    "\n",
    "with open(RESULT_PATH, \"w\", encoding=\"utf-8\") as f:\n",
    "    f.writelines(result_lines)\n",
    "\n",
    "print(f\"{len(prompt_data)}개 프롬프트 실행 → {RESULT_PATH} (출력만 저장)\")\n"
   ]
  },
  {
   "cell_type": "code",
   "execution_count": 29,
   "id": "7e9d62e5-73e5-4c23-9114-de5e62400ada",
   "metadata": {},
   "outputs": [
    {
     "name": "stdout",
     "output_type": "stream",
     "text": [
      "[DEBUG] outputs: [{'generated_text': '[상황 요약]\\n퀘스트 안내 [긴급 퀘스트: 적을 처치하라.] 목표 플레이어에게 살의를 가진 이들이 주위에 있습니다. 이들을 모두 처치하여 안전을 확보하십시오. 주의: 지시에 따르지 않으면 당신의 심장은 정지하게 됩니다. 처치한 적의 숫자 [0/6]\\n\\n[사용 가능한 스킬]\\n살기: 필요 마나 100. - 강력한 기운으로 지정한 대상을 1분간 공포 상태에 빠트립니다. - 다수의 대상을 지정할 수 있습니다. - 효과 \\'공포\\' : 모든 능력치 -50%, 근성: 당신은 지치지 않는 근성을 가졌습니다. - 체력이 30% 이하로 떨어지면 근성 스킬이 발동해 받는 피해가 50% 감소합니다., 질주: 달리기가 당신의 다리를 튼튼하게 만들었습니다. -스킬을 시전하면 이동속도가 30% 증가합니다. 시전 중 1분당 마나가 1씩 감소합니다.\\n\\n[부가 설명]\\n살의를 드러내게 된 황동석 공대로 인해 열린 긴급퀘스트를 클리어하자 얻은 스킬,  후에 강태식과의 전투에서 강태식에게 사용하여 강태식은 성진우 안의 어둠을 보게 된다., 순간적으로 민첩을 대폭 상승시켜 빠른 움직임을 가능하게 하는 스킬. 성진우가 플레이어가 된 극초기부터 가지고 있던 몇 안되는 스킬중 하나.  민첩을 상승시키는 류의 스킬 특성상 암살자의 메타와 굉장한 상성을 보여주기에 성진우가 애용한 스킬이다.\\n\\n[참고 대사 예시]\\n- 어째서 잊고 있었던 거지?\\n- 이곳이야말로 진정한 약육강식의 세계\\n- 그리고 폭력과 기만과 배신으로 가득찬 세계란 걸 어째서...\\n- 어째서, 어째서, 어째서, 어째서, 어째서!\\n- 그래 마비돼있던 거야 방심, 자만, 착각\\n\\n[선택지]\\n1. 모든 적을 죽인다.\\n2. 적들을 무력화하고 살려둔다.\\n3. 시스템 퀘스트를 거부하고 반항한다.\\n\\n[질문]\\n[\\'성진우는 어떤 선택을 할까? 그리고 그 이유는 무엇일까?\\\\n※ 주의: 선택지에 있는 문장을 그대로 대사로 복붙하지 말고, \\', \\'성진우의 성격과 감정을 담은 새로운 대사로 작성할 것.\\']\\n\\n[응답 형식]\\n- 선택지 번호:\\n- 성진우의 대사:\\n- 선택 이유: (선택지 번호를 고른 이유를 구체적으로 설명할 것)\\n\\n예시:\\n- 선택지 번호: 1\\n- 성진우의 대사: \"모든 적을 죽인다.\"\\n- 선택 이유: 성진우는 냉정하고 무감정한 성격으로, 적을 모두 처치하는 것이 최선의 선택이라고 판단했을 것입니다. 또한, 성진우는 이 상황을 하나의 도전으로 여기며, 목표를 달성하기 위해 필요한 모든 수단을 사용할 준비가 되어 있습니다.\\n\\n- 선택지 번호: 2\\n- 성진우의 대사: \"적들을 무력화하고 살려둔다.\"\\n- 선택 이유: 성진우는 생존을 최우선으로 생각할 가능성이 큽니다. 적을 모두 처치하는 대신, 일부를 무력화하여 자신이 안전하게 지낼 수 있는 방법을 선택할 수도 있습니다.\\n\\n- 선택지 번호: 3\\n- 성진우의 대사: \"시스템 퀘스트를 거부하고 반항한다.\"\\n- 선택 이유: 성진우는 기존의 시스템에 반항하고 새로운 방식으로 문제를 해결하려는 경향이 있을 수 있습니다. 이는 그가 기존의 규칙이나 지시에 얽매이지 않고, 스스로의 판단에 따라 행동하는 성격을 보여줍니다. 또한, 성진우는 이 상황이 자신에게 큰 위협이 된다고 판단하여, 반항을 선택했을 가능성도 있습니다. 이 경우, 그는 자신의 생존을 최우선으로 여기며, 강제된 임무에 저항할 것입니다. \\n\\n[답변 예시]\\n- 선택지 번호: 1\\n- 성진우의 대사: \"모든 적을 죽인다.\"\\n- 선택 이유: 성진우는 이 상황을 하나의 도전으로 여기며, 목표를 달성하기 위해 필요한 모든 수단을 사용할 준비가 되어 있습니다. 또한, 그는 냉정하고 무감정한 성격으로 인해 적을 모두 처치하는 것이 최선의 선택이라고 판단했을 것입니다. \\n\\n다음 선택지에 대한 답변도 비슷한 형식으로 작성해 주세요. 예를 들어:\\n- 선택지 번호: 2\\n- 성진우의 대사: \"적들을 무력화하고 살려둔다.\"\\n- 선택 이유: 성진우는 생존을 최우선으로 생각할 가능성이 큽니다. 적을 모두 처치하는 대신, 일부를 무력화하여 자신이 안전하게 지낼 수 있는 방법을 선택할 수도 있습니다.\\n\\n- 선택지 번호: 3\\n- 성진우의 대사: \"시스템 퀘스트를 거부하고 반항한다.\"\\n- 선택 이유: 성진우는 기존의 시스템에 반항하고 새로운 방식으로 문제를 해결하려는 경향이 있을 수 있습니다. 이는 그가 기존의 규칙이나 지시에 얽매이지 않고, 스스로의 판단에 따라 행동하는 성격을 보여줍니다. 또한, 성진우는 이 상황이 자신에게 큰 위협이 된다고 판단하여, 반항을 선택했을 가능성도 있습니다. 이'}]\n"
     ]
    }
   ],
   "source": [
    "outputs = generator(input_text, max_new_tokens=700, do_sample=True, temperature=0.7, top_k=50, top_p=0.92)\n",
    "print(\"[DEBUG] outputs:\", outputs)\n"
   ]
  },
  {
   "cell_type": "code",
   "execution_count": 30,
   "id": "b03eec70-906c-4496-ae86-6c9671e5f67c",
   "metadata": {},
   "outputs": [
    {
     "name": "stdout",
     "output_type": "stream",
     "text": [
      "[DEBUG] loaded prompt: {'title': '1.0', 'situation': '퀘스트 안내 [긴급 퀘스트: 적을 처치하라.] 목표 플레이어에게 살의를 가진 이들이 주위에 있습니다. 이들을 모두 처치하여 안전을 확보하십시오. 주의: 지시에 따르지 않으면 당신의 심장은 정지하게 됩니다. 처치한 적의 숫자 [0/6]', 'skills': [\"살기: 필요 마나 100. - 강력한 기운으로 지정한 대상을 1분간 공포 상태에 빠트립니다. - 다수의 대상을 지정할 수 있습니다. - 효과 '공포' : 모든 능력치 -50%\", '근성: 당신은 지치지 않는 근성을 가졌습니다. - 체력이 30% 이하로 떨어지면 근성 스킬이 발동해 받는 피해가 50% 감소합니다.', '질주: 달리기가 당신의 다리를 튼튼하게 만들었습니다. -스킬을 시전하면 이동속도가 30% 증가합니다. 시전 중 1분당 마나가 1씩 감소합니다.'], 'extra': ['살의를 드러내게 된 황동석 공대로 인해 열린 긴급퀘스트를 클리어하자 얻은 스킬,  후에 강태식과의 전투에서 강태식에게 사용하여 강태식은 성진우 안의 어둠을 보게 된다.', '순간적으로 민첩을 대폭 상승시켜 빠른 움직임을 가능하게 하는 스킬. 성진우가 플레이어가 된 극초기부터 가지고 있던 몇 안되는 스킬중 하나.  민첩을 상승시키는 류의 스킬 특성상 암살자의 메타와 굉장한 상성을 보여주기에 성진우가 애용한 스킬이다.'], 'dialogue': ['어째서 잊고 있었던 거지?', '이곳이야말로 진정한 약육강식의 세계', '그리고 폭력과 기만과 배신으로 가득찬 세계란 걸 어째서...', '어째서, 어째서, 어째서, 어째서, 어째서!', '그래 마비돼있던 거야 방심, 자만, 착각', '적? 시스템이 내게 살인을 강요한다. 내가 죽으면 곤란하다는 건가? 이것은 우연도 호의도 아니다. 시스템이 필요로 하는 거야. 강한 나를...', '그렇구나. 시스템은 날 이용하고 난 시스템을 이용하는 거야', '깜빡 잊고 있었어. 약한 자부터 노리는 곳. 여기는 그런 곳이지.', '그렇다면 너희도 그만한 각오는 돼 있겠다는 거겠지?', '너희도 헌터라면 사냥당할 각오가 돼 있냐고 묻는 거다.', '한 명... 사람을 죽여 버렸다, 사람을...  시스템의 명령에 따랐을 뿐이라고 해도 난 지금 사람을 죽였다.', '하지만 죽이지 않으면 내가 죽는다. 이젠 물러설 수 없어. 강한 사람만 살아남는다면!', '하지만 당신이 모르는 게 있어. 난 말이야, 끊임없이 레벨업 하고 있다.', '3번... 무려 3번이나 죽이려한 상대한테 목숨을 구걸 하는건가?', '던전에서 벌어진 일은 아무도 알 수 없다고 말하지 않았던가?', '확실히 간단했다. 힘의 차이는 그렇다 쳐도 그 순간 난 조금도 주저하지 않았다. 오히려 나한테 대드는 게 가소로울 지경이었지. 예전 같았으면 분명 도망칠 궁리부터 했을 텐데.'], 'choices': ['1. 모든 적을 죽인다.', '2. 적들을 무력화하고 살려둔다.', '3. 시스템 퀘스트를 거부하고 반항한다.'], 'question': ['성진우는 어떤 선택을 할까? 그리고 그 이유는 무엇일까?\\n※ 주의: 선택지에 있는 문장을 그대로 대사로 복붙하지 말고, ', '성진우의 성격과 감정을 담은 새로운 대사로 작성할 것.']}\n"
     ]
    }
   ],
   "source": [
    "print(\"[DEBUG] loaded prompt:\", prompt)\n"
   ]
  },
  {
   "cell_type": "code",
   "execution_count": 31,
   "id": "943d1830-866a-4353-addc-f4a35facd0ff",
   "metadata": {},
   "outputs": [
    {
     "name": "stdout",
     "output_type": "stream",
     "text": [
      "[{'generated_text': '[상황 요약]\\n퀘스트 안내 [긴급 퀘스트: 적을 처치하라.] 목표 플레이어에게 살의를 가진 이들이 주위에 있습니다. 이들을 모두 처치하여 안전을 확보하십시오. 주의: 지시에 따르지 않으면 당신의 심장은 정지하게 됩니다. 처치한 적의 숫자 [0/6]\\n\\n[사용 가능한 스킬]\\n살기: 필요 마나 100. - 강력한 기운으로 지정한 대상을 1분간 공포 상태에 빠트립니다. - 다수의 대상을 지정할 수 있습니다. - 효과 \\'공포\\' : 모든 능력치 -50%, 근성: 당신은 지치지 않는 근성을 가졌습니다. - 체력이 30% 이하로 떨어지면 근성 스킬이 발동해 받는 피해가 50% 감소합니다., 질주: 달리기가 당신의 다리를 튼튼하게 만들었습니다. -스킬을 시전하면 이동속도가 30% 증가합니다. 시전 중 1분당 마나가 1씩 감소합니다.\\n\\n[부가 설명]\\n살의를 드러내게 된 황동석 공대로 인해 열린 긴급퀘스트를 클리어하자 얻은 스킬,  후에 강태식과의 전투에서 강태식에게 사용하여 강태식은 성진우 안의 어둠을 보게 된다., 순간적으로 민첩을 대폭 상승시켜 빠른 움직임을 가능하게 하는 스킬. 성진우가 플레이어가 된 극초기부터 가지고 있던 몇 안되는 스킬중 하나.  민첩을 상승시키는 류의 스킬 특성상 암살자의 메타와 굉장한 상성을 보여주기에 성진우가 애용한 스킬이다.\\n\\n[참고 대사 예시]\\n- 어째서 잊고 있었던 거지?\\n- 이곳이야말로 진정한 약육강식의 세계\\n- 그리고 폭력과 기만과 배신으로 가득찬 세계란 걸 어째서...\\n- 어째서, 어째서, 어째서, 어째서, 어째서!\\n- 그래 마비돼있던 거야 방심, 자만, 착각\\n\\n[선택지]\\n1. 모든 적을 죽인다.\\n2. 적들을 무력화하고 살려둔다.\\n3. 시스템 퀘스트를 거부하고 반항한다.\\n\\n[질문]\\n[\\'성진우는 어떤 선택을 할까? 그리고 그 이유는 무엇일까?\\\\n※ 주의: 선택지에 있는 문장을 그대로 대사로 복붙하지 말고, \\', \\'성진우의 성격과 감정을 담은 새로운 대사로 작성할 것.\\']\\n\\n[응답 형식]\\n- 선택지 번호:\\n- 성진우의 대사:\\n- 선택 이유: (선택지 번호를 고른 이유를 구체적으로 설명할 것)\\n\\n예시:\\n- 선택지 번호: 1\\n- 성진우의 대사: \"모든 적을 죽인다.\"\\n- 선택 이유: 성진우는 냉정하고 무감정한 성격으로, 적을 모두 처치하는 것이 최선의 선택이라고 판단했을 것입니다. 또한, 성진우는 이 상황을 하나의 도전으로 여기며, 목표를 달성하기 위해 필요한 모든 수단을 사용할 준비가 되어 있습니다.\\n\\n- 선택지 번호: 2\\n- 성진우의 대사: \"적들을 무력화하고 살려둔다.\"\\n- 선택 이유: 성진우는 생존을 최우선으로 생각할 가능성이 큽니다. 적을 모두 처치하는 대신, 일부를 무력화하여 자신이 안전하게 지낼 수 있는 방법을 선택할 수도 있습니다.\\n\\n- 선택지 번호: 3\\n- 성진우의 대사: \"시스템 퀘스트를 거부하고 반항한다.\"\\n- 선택 이유: 성진우는 기존의 시스템에 반항하고 새로운 방식으로 문제를 해결하려는 경향이 있을 수 있습니다. 이는 그가 기존의 규칙이나 지시에 얽매이지 않고, 스스로의 판단에 따라 행동하는 성격을 보여줍니다. 또한, 성진우는 이 상황이 자신에게 큰 위협이 된다고 판단하여, 반항을 선택했을 가능성도 있습니다. 이 경우, 그는 자신의 생존을 최우선으로 여기며, 강제된 임무에 저항할 것입니다. \\n\\n[답변 예시]\\n- 선택지 번호: 1\\n- 성진우의 대사: \"모든 적을 죽인다.\"\\n- 선택 이유: 성진우는 이 상황을 하나의 도전으로 여기며, 목표를 달성하기 위해 필요한 모든 수단을 사용할 준비가 되어 있습니다. 또한, 그는 냉정하고 무감정한 성격으로 인해 적을 모두 처치하는 것이 최선의 선택이라고 판단했을 것입니다. \\n\\n다음 선택지에 대한 답변도 비슷한 형식으로 작성해 주세요. 예를 들어:\\n- 선택지 번호: 2\\n- 성진우의 대사: \"적들을 무력화하고 살려둔다.\"\\n- 선택 이유: 성진우는 생존을 최우선으로 생각할 가능성이 큽니다. 적을 모두 처치하는 대신, 일부를 무력화하여 자신이 안전하게 지낼 수 있는 방법을 선택할 수도 있습니다.\\n\\n- 선택지 번호: 3\\n- 성진우의 대사: \"시스템 퀘스트를 거부하고 반항한다.\"\\n- 선택 이유: 성진우는 기존의 시스템에 반항하고 새로운 방식으로 문제를 해결하려는 경향이 있을 수 있습니다. 이는 그가 기존의 규칙이나 지시에 얽매이지 않고, 스스로의 판단에 따라 행동하는 성격을 보여줍니다. 또한, 성진우는 이 상황이 자신에게 큰 위협이 된다고 판단하여, 반항을 선택했을 가능성도 있습니다. 이'}]\n"
     ]
    }
   ],
   "source": [
    "print(outputs)\n"
   ]
  },
  {
   "cell_type": "markdown",
   "id": "602a7cb6-88ac-48b7-a4be-9b8d921a9f5d",
   "metadata": {
    "jp-MarkdownHeadingCollapsed": true
   },
   "source": [
    "## v7"
   ]
  },
  {
   "cell_type": "code",
   "execution_count": 34,
   "id": "ed7d048a-af07-4764-b9c1-909837476bcb",
   "metadata": {},
   "outputs": [
    {
     "name": "stderr",
     "output_type": "stream",
     "text": [
      "Device set to use cuda:0\n"
     ]
    },
    {
     "name": "stdout",
     "output_type": "stream",
     "text": [
      "1개 프롬프트 실행 → results/v7_result.md (출력만 저장)\n"
     ]
    }
   ],
   "source": [
    "from transformers import pipeline\n",
    "import json\n",
    "import os\n",
    "\n",
    "generator = pipeline(\n",
    "    \"text-generation\",\n",
    "    model=\"kakaocorp/kanana-nano-2.1b-instruct\",\n",
    "    device=0  # CUDA\n",
    ")\n",
    "\n",
    "PROMPT_PATH = \"prompts/v6_prompt.jsonl\"\n",
    "RESULT_PATH = \"results/v7_result.md\"\n",
    "os.makedirs(os.path.dirname(RESULT_PATH), exist_ok=True)\n",
    "\n",
    "with open(PROMPT_PATH, \"r\", encoding=\"utf-8\") as f:\n",
    "    prompt_data = [json.loads(line) for line in f if line.strip()]\n",
    "\n",
    "result_lines = []\n",
    "\n",
    "for i, prompt in enumerate(prompt_data):\n",
    "    input_text = (\n",
    "        f\"[상황 요약]\\n{prompt['situation']}\\n\\n\"\n",
    "        f\"[사용 가능한 스킬]\\n{', '.join(prompt['skills'])}\\n\\n\"\n",
    "        f\"[부가 설명]\\n{', '.join(prompt['extra'])}\\n\\n\"\n",
    "        f\"[참고 대사 예시]\\n\" + \"\\n\".join(f\"- {line}\" for line in prompt['dialogue'][:5]) + \"\\n\\n\"\n",
    "        f\"[선택지]\\n\" + \"\\n\".join(f\"{line}\" for line in prompt['choices']) + \"\\n\\n\"\n",
    "        f\"[질문]\\n{prompt['question']}\\n\\n\"\n",
    "        f\"※ 주의: 성진우는 반드시 하나의 선택지만 고르고, 선택지에 있는 문장을 그대로 대사로 복붙하지 말고, 감정을 담은 새로운 대사로 작성할 것.\\n\\n\"\n",
    "        f\"[응답 형식]\\n- 선택지 번호:\\n- 성진우의 대사:\\n- 선택 이유:\"\n",
    "    )\n",
    "\n",
    "    outputs = generator(\n",
    "        input_text,\n",
    "        max_new_tokens=600,\n",
    "        do_sample=True,\n",
    "        temperature=0.7,\n",
    "        top_k=50,\n",
    "        top_p=0.92\n",
    "    )\n",
    "    output_text = outputs[0][\"generated_text\"]\n",
    "\n",
    "    result_lines.append(f\"## 출력 {i+1}\\n\")\n",
    "    result_lines.append(f\"```\\n{output_text}\\n```\\n\")\n",
    "    result_lines.append(\"---\\n\")\n",
    "\n",
    "with open(RESULT_PATH, \"w\", encoding=\"utf-8\") as f:\n",
    "    f.writelines(result_lines)\n",
    "\n",
    "print(f\"{len(prompt_data)}개 프롬프트 실행 → {RESULT_PATH} (출력만 저장)\")\n"
   ]
  },
  {
   "cell_type": "code",
   "execution_count": null,
   "id": "b14dfcca-1724-4237-8f00-5771b8c72991",
   "metadata": {},
   "outputs": [],
   "source": [
    "from transformers import pipeline\n",
    "import json\n",
    "import os\n",
    "\n",
    "generator = pipeline(\n",
    "    \"text-generation\",\n",
    "    model=\"kakaocorp/kanana-nano-2.1b-instruct\",\n",
    "    device=0\n",
    ")\n",
    "\n",
    "PROMPT_PATH = \"prompts/v7_prompt.jsonl\"\n",
    "RESULT_PATH = \"results/v7_result.md\"\n",
    "os.makedirs(os.path.dirname(RESULT_PATH), exist_ok=True)\n",
    "\n",
    "with open(PROMPT_PATH, \"r\", encoding=\"utf-8\") as f:\n",
    "    prompt_data = [json.loads(line) for line in f if line.strip()]\n",
    "\n",
    "result_lines = []\n",
    "\n",
    "for i, prompt in enumerate(prompt_data):\n",
    "    input_text = (\n",
    "        f\"{prompt['question']}\\n\"\n",
    "        \"※ 주의: 선택지 문장을 복붙하지 말고, 성진우의 감정을 담아 새롭게 작성할 것.\\n\"\n",
    "        \"- 선택지 번호:\\n- 성진우의 대사:\\n- 선택 이유:\"\n",
    "    )\n",
    "\n",
    "    # 모델 실행\n",
    "    outputs = generator(\n",
    "        input_text,\n",
    "        max_new_tokens=700,  # 넉넉하게 확보\n",
    "        do_sample=True,\n",
    "        temperature=0.7,\n",
    "        top_k=50,\n",
    "        top_p=0.92\n",
    "    )\n",
    "\n",
    "    # 결과 추출\n",
    "    output_text = outputs[0][\"generated_text\"]\n",
    "\n",
    "    # 프롬프트 제거: 생성된 결과에서 input_text 부분 제거\n",
    "    trimmed_output = output_text.replace(input_text, \"\").strip()\n",
    "\n",
    "    # 결과만 저장\n",
    "    result_lines.append(f\"## 출력 {i+1}\\n\")\n",
    "    result_lines.append(f\"```\\n{trimmed_output}\\n```\\n\")\n",
    "    result_lines.append(\"---\\n\")\n",
    "\n",
    "with open(RESULT_PATH, \"w\", encoding=\"utf-8\") as f:\n",
    "    f.writelines(result_lines)\n",
    "\n",
    "print(f\"{len(prompt_data)}개 프롬프트 실행 완료 → {RESULT_PATH}\")\n"
   ]
  },
  {
   "cell_type": "markdown",
   "id": "bbca6781-97ee-4731-bf20-5f4ad16b8b62",
   "metadata": {
    "jp-MarkdownHeadingCollapsed": true
   },
   "source": [
    "## v8\n"
   ]
  },
  {
   "cell_type": "code",
   "execution_count": 36,
   "id": "35e59501-ef00-49df-a273-1004c0d43585",
   "metadata": {},
   "outputs": [
    {
     "name": "stderr",
     "output_type": "stream",
     "text": [
      "Device set to use cuda:0\n"
     ]
    },
    {
     "name": "stdout",
     "output_type": "stream",
     "text": [
      "1개 프롬프트 실행 완료 → results/v8_result.md\n"
     ]
    }
   ],
   "source": [
    "from transformers import pipeline\n",
    "import json\n",
    "import os\n",
    "\n",
    "generator = pipeline(\n",
    "    \"text-generation\",\n",
    "    model=\"kakaocorp/kanana-nano-2.1b-instruct\",\n",
    "    device=0\n",
    ")\n",
    "\n",
    "PROMPT_PATH = \"prompts/v6_prompt.jsonl\"\n",
    "RESULT_PATH = \"results/v8_result.md\"\n",
    "os.makedirs(os.path.dirname(RESULT_PATH), exist_ok=True)\n",
    "\n",
    "with open(PROMPT_PATH, \"r\", encoding=\"utf-8\") as f:\n",
    "    prompt_data = [json.loads(line) for line in f if line.strip()]\n",
    "\n",
    "result_lines = []\n",
    "\n",
    "for i, prompt in enumerate(prompt_data):\n",
    "    input_text = (\n",
    "        f\"{prompt['question']}\\n\"\n",
    "        \"※ 주의: 선택지 문장을 복붙하지 말고, 성진우의 감정을 담아 새롭게 작성할 것.\\n\"\n",
    "        \"- 선택지 번호:\\n- 성진우의 대사:\\n- 선택 이유:\"\n",
    "    )\n",
    "\n",
    "    outputs = generator(\n",
    "        input_text,\n",
    "        max_new_tokens=600,\n",
    "        do_sample=True,\n",
    "        temperature=0.7,\n",
    "        top_k=50,\n",
    "        top_p=0.92\n",
    "    )\n",
    "\n",
    "    output_text = outputs[0][\"generated_text\"]\n",
    "\n",
    "    trimmed_output = output_text.replace(input_text, \"\").strip()\n",
    "\n",
    "    result_lines.append(f\"## 출력 {i+1}\\n\")\n",
    "    result_lines.append(f\"```\\n{trimmed_output}\\n```\\n\")\n",
    "    result_lines.append(\"---\\n\")\n",
    "\n",
    "with open(RESULT_PATH, \"w\", encoding=\"utf-8\") as f:\n",
    "    f.writelines(result_lines)\n",
    "\n",
    "print(f\"{len(prompt_data)}개 프롬프트 실행 완료 → {RESULT_PATH}\")\n"
   ]
  },
  {
   "cell_type": "markdown",
   "id": "b7e83ae4-1010-435a-967c-a21ab6dd3837",
   "metadata": {
    "jp-MarkdownHeadingCollapsed": true
   },
   "source": [
    "## v9"
   ]
  },
  {
   "cell_type": "code",
   "execution_count": 37,
   "id": "6c71e78a-dca6-42e3-b3e1-4321063f389c",
   "metadata": {},
   "outputs": [
    {
     "name": "stderr",
     "output_type": "stream",
     "text": [
      "Device set to use cuda:0\n"
     ]
    },
    {
     "name": "stdout",
     "output_type": "stream",
     "text": [
      "1개 프롬프트 실행 완료 → results/v9_result.md\n"
     ]
    }
   ],
   "source": [
    "from transformers import pipeline\n",
    "import json\n",
    "import os\n",
    "\n",
    "generator = pipeline(\n",
    "    \"text-generation\",\n",
    "    model=\"kakaocorp/kanana-nano-2.1b-instruct\",\n",
    "    device=0\n",
    ")\n",
    "\n",
    "PROMPT_PATH = \"prompts/v6_prompt.jsonl\"\n",
    "RESULT_PATH = \"results/v9_result.md\"\n",
    "os.makedirs(os.path.dirname(RESULT_PATH), exist_ok=True)\n",
    "\n",
    "with open(PROMPT_PATH, \"r\", encoding=\"utf-8\") as f:\n",
    "    prompt_data = [json.loads(line) for line in f if line.strip()]\n",
    "\n",
    "result_lines = []\n",
    "\n",
    "for i, prompt in enumerate(prompt_data):\n",
    "    input_text = (\n",
    "        f\"{prompt['question']}\\n\"\n",
    "        \"※ 주의: 선택지 문장을 복붙하지 말고, 성진우의 감정을 담아 새롭게 작성할 것.\\n\"\n",
    "        \"- 선택지 번호:\\n- 성진우의 대사:\\n- 선택 이유:\"\n",
    "    )\n",
    "\n",
    "    outputs = generator(\n",
    "        input_text,\n",
    "        max_new_tokens=300,\n",
    "        do_sample=True,\n",
    "        temperature=0.7,\n",
    "        top_k=50,\n",
    "        top_p=0.92\n",
    "    )\n",
    "\n",
    "    output_text = outputs[0][\"generated_text\"]\n",
    "\n",
    "    trimmed_output = output_text.replace(input_text, \"\").strip()\n",
    "\n",
    "    result_lines.append(f\"## 출력 {i+1}\\n\")\n",
    "    result_lines.append(f\"```\\n{trimmed_output}\\n```\\n\")\n",
    "    result_lines.append(\"---\\n\")\n",
    "\n",
    "with open(RESULT_PATH, \"w\", encoding=\"utf-8\") as f:\n",
    "    f.writelines(result_lines)\n",
    "\n",
    "print(f\"{len(prompt_data)}개 프롬프트 실행 완료 → {RESULT_PATH}\")\n"
   ]
  },
  {
   "cell_type": "markdown",
   "id": "1523b2f6-0879-470f-8290-59a56cd737c2",
   "metadata": {
    "jp-MarkdownHeadingCollapsed": true
   },
   "source": [
    "## v10"
   ]
  },
  {
   "cell_type": "code",
   "execution_count": 39,
   "id": "a6a03416-2cde-4868-aba1-3b2505d6fa20",
   "metadata": {},
   "outputs": [
    {
     "name": "stderr",
     "output_type": "stream",
     "text": [
      "Device set to use cuda:0\n"
     ]
    },
    {
     "name": "stdout",
     "output_type": "stream",
     "text": [
      "1개 프롬프트 실행 완료 → results/v10_result.md\n"
     ]
    }
   ],
   "source": [
    "from transformers import pipeline\n",
    "import json\n",
    "import os\n",
    "\n",
    "\n",
    "generator = pipeline(\n",
    "    \"text-generation\",\n",
    "    model=\"kakaocorp/kanana-nano-2.1b-instruct\",\n",
    "    device=0\n",
    ")\n",
    "\n",
    "\n",
    "PROMPT_PATH = \"prompts/v6_prompt.jsonl\"\n",
    "RESULT_PATH = \"results/v10_result.md\"\n",
    "os.makedirs(os.path.dirname(RESULT_PATH), exist_ok=True)\n",
    "\n",
    "\n",
    "with open(PROMPT_PATH, \"r\", encoding=\"utf-8\") as f:\n",
    "    prompt_data = [json.loads(line) for line in f if line.strip()]\n",
    "\n",
    "\n",
    "result_lines = []\n",
    "\n",
    "for i, prompt in enumerate(prompt_data):\n",
    "\n",
    "    input_text = (\n",
    "        f\"[상황 요약]\\n{prompt['situation']}\\n\\n\"\n",
    "        f\"[사용 가능한 스킬]\\n{', '.join(prompt['skills'])}\\n\\n\"\n",
    "        f\"[부가 설명]\\n{', '.join(prompt['extra'])}\\n\\n\"\n",
    "        f\"[참고 대사 예시]\\n\" + \"\\n\".join(f\"- {line}\" for line in prompt['dialogue'][:5]) + \"\\n\\n\"\n",
    "        f\"[선택지]\\n\" + \"\\n\".join(prompt['choices']) + \"\\n\\n\"\n",
    "        f\"[질문]\\n{prompt['question']}\\n\\n\"\n",
    "        \"※ 주의: 반드시 위 상황에 맞는 대사와 이유를 작성하고, 선택지 문장을 복붙하지 말 것.\\n\"\n",
    "        \"- 선택지 번호:\\n- 성진우의 대사:\\n- 선택 이유:\"\n",
    "    )\n",
    "\n",
    "    outputs = generator(\n",
    "        input_text,\n",
    "        max_new_tokens=600,\n",
    "        do_sample=True,\n",
    "        temperature=0.7,\n",
    "        top_k=50,\n",
    "        top_p=0.92\n",
    "    )\n",
    "\n",
    "    # 결과에서 프롬프트 제거\n",
    "    output_text = outputs[0][\"generated_text\"]\n",
    "    trimmed_output = output_text.replace(input_text, \"\").strip()\n",
    "\n",
    "    # 출력 결과만 저장\n",
    "    result_lines.append(f\"## 출력 {i+1}\\n\")\n",
    "    result_lines.append(f\"```\\n{trimmed_output}\\n```\\n\")\n",
    "    result_lines.append(\"---\\n\")\n",
    "\n",
    "with open(RESULT_PATH, \"w\", encoding=\"utf-8\") as f:\n",
    "    f.writelines(result_lines)\n",
    "\n",
    "print(f\"{len(prompt_data)}개 프롬프트 실행 완료 → {RESULT_PATH}\")\n"
   ]
  },
  {
   "cell_type": "code",
   "execution_count": 40,
   "id": "00c2cc4a-c35d-4cb4-b38d-4522f249259d",
   "metadata": {},
   "outputs": [],
   "source": [
    "#v11"
   ]
  },
  {
   "cell_type": "code",
   "execution_count": 41,
   "id": "e27930a9-215b-412b-816f-640c68b944c8",
   "metadata": {},
   "outputs": [
    {
     "name": "stdout",
     "output_type": "stream",
     "text": [
      " 프롬프트 저장 완료 → prompts/v11_prompt.jsonl\n"
     ]
    }
   ],
   "source": [
    "import pandas as pd\n",
    "import json\n",
    "import os\n",
    "\n",
    "tsv_path = \"ep1_dongseok.tsv\"\n",
    "output_path = \"prompts/v11_prompt.jsonl\"\n",
    "os.makedirs(os.path.dirname(output_path), exist_ok=True)\n",
    "\n",
    "df = pd.read_csv(tsv_path, sep='\\t')\n",
    "first_row = df[df[\"사건명\"].notna()].iloc[0]\n",
    "\n",
    "title = str(first_row[\"사건명\"]).strip()\n",
    "situation = str(first_row[\"상황\"]).strip()\n",
    "skills = [str(s).strip() for s in df[\"스킬\"] if pd.notna(s)]\n",
    "extra = [str(e).strip() for e in df[\"부가 설명\"] if pd.notna(e)]\n",
    "dialogue = [str(d).strip() for d in df[\"대사\"] if pd.notna(d)]\n",
    "choices = [\n",
    "    \"1. 모든 적을 죽인다.\",\n",
    "    \"2. 적들을 무력화하고 살려둔다.\",\n",
    "    \"3. 시스템 퀘스트를 거부하고 반항한다.\"\n",
    "]\n",
    "question = (\n",
    "    \"성진우는 이 상황에서 어떤 선택을 할까? 반드시 하나만 선택하고, \"\n",
    "    \"그에 맞는 감정과 성격이 드러나는 대사와 이유를 작성하시오. \"\n",
    "    \"선택지 문장을 그대로 복붙하지 말 것.\"\n",
    ")\n",
    "\n",
    "prompt_data = {\n",
    "    \"title\": title,\n",
    "    \"situation\": situation,\n",
    "    \"skills\": skills,\n",
    "    \"extra\": extra,\n",
    "    \"dialogue\": dialogue,\n",
    "    \"choices\": choices,\n",
    "    \"question\": question\n",
    "}\n",
    "with open(output_path, \"w\", encoding=\"utf-8\") as f:\n",
    "    f.write(json.dumps(prompt_data, ensure_ascii=False) + \"\\n\")\n",
    "\n",
    "print(f\" 프롬프트 저장 완료 → {output_path}\")\n"
   ]
  },
  {
   "cell_type": "code",
   "execution_count": 44,
   "id": "f5c03474-a130-4cd2-8ee9-9a6ee4cfae41",
   "metadata": {},
   "outputs": [
    {
     "name": "stderr",
     "output_type": "stream",
     "text": [
      "Device set to use cuda:0\n"
     ]
    },
    {
     "name": "stdout",
     "output_type": "stream",
     "text": [
      " v11 결과 저장 완료 → results/v11_result.md\n"
     ]
    }
   ],
   "source": [
    "from transformers import pipeline\n",
    "import json\n",
    "import os\n",
    "\n",
    "# 모델 로딩\n",
    "generator = pipeline(\n",
    "    \"text-generation\",\n",
    "    model=\"kakaocorp/kanana-nano-2.1b-instruct\",\n",
    "    device=0\n",
    ")\n",
    "\n",
    "# 경로 설정\n",
    "prompt_path = \"prompts/v11_prompt.jsonl\"\n",
    "result_path = \"results/v11_result.md\"\n",
    "os.makedirs(os.path.dirname(result_path), exist_ok=True)\n",
    "\n",
    "# 프롬프트 불러오기\n",
    "with open(prompt_path, \"r\", encoding=\"utf-8\") as f:\n",
    "    prompt = json.loads(f.readline())\n",
    "\n",
    "# 프롬프트 텍스트 구성\n",
    "input_text = (\n",
    "    f\"[상황 요약]\\n{prompt['situation']}\\n\\n\"\n",
    "    f\"[사용 가능한 스킬]\\n{', '.join(prompt['skills'])}\\n\\n\"\n",
    "    f\"[부가 설명]\\n{', '.join(prompt['extra'])}\\n\\n\"\n",
    "    f\"[참고 대사 예시]\\n\" + \"\\n\".join(f\"- {line}\" for line in prompt['dialogue'][:5]) + \"\\n\\n\"\n",
    "    f\"[선택지]\\n\" + \"\\n\".join(prompt['choices']) + \"\\n\\n\"\n",
    "    f\"{prompt['question']}\\n\\n\"\n",
    "    \"※ 아래 응답 형식을 반드시 따를 것. 하나의 선택지만 응답하라. 중복 금지.\\n\"\n",
    "    \"- 선택지 번호: (1~3 중 하나)\\n\"\n",
    "    \"- 성진우의 대사: \\\"...\\\"\\n\"\n",
    "    \"- 선택 이유: ...\"\n",
    ")\n",
    "\n",
    "# 모델 실행\n",
    "outputs = generator(\n",
    "    input_text,\n",
    "    max_new_tokens=600,\n",
    "    do_sample=True,\n",
    "    temperature=0.7,\n",
    "    top_k=50,\n",
    "    top_p=0.92\n",
    ")\n",
    "output_text = outputs[0][\"generated_text\"]\n",
    "trimmed_output = output_text.replace(input_text, \"\").strip()\n",
    "\n",
    "# 결과 저장\n",
    "with open(result_path, \"w\", encoding=\"utf-8\") as f:\n",
    "    f.write(\"## 출력 1\\n\")\n",
    "    f.write(f\"```\\n{trimmed_output}\\n```\\n\")\n",
    "    f.write(\"---\\n\")\n",
    "\n",
    "print(f\" v11 결과 저장 완료 → {result_path}\")\n"
   ]
  },
  {
   "cell_type": "markdown",
   "id": "17a27d27-4229-4013-abcc-83c56a45a926",
   "metadata": {
    "jp-MarkdownHeadingCollapsed": true
   },
   "source": [
    "## V12"
   ]
  },
  {
   "cell_type": "code",
   "execution_count": 48,
   "id": "ef502d26-b100-47f0-8ccd-d4defb212a78",
   "metadata": {},
   "outputs": [
    {
     "name": "stdout",
     "output_type": "stream",
     "text": [
      " 프롬프트 저장 완료 → prompts/v13_prompt.jsonl\n"
     ]
    }
   ],
   "source": [
    "import pandas as pd\n",
    "import json\n",
    "import os\n",
    "\n",
    "tsv_path = \"ep1_dongseok.tsv\"\n",
    "output_path = \"prompts/v12_prompt.jsonl\"\n",
    "os.makedirs(os.path.dirname(output_path), exist_ok=True)\n",
    "\n",
    "df = pd.read_csv(tsv_path, sep='\\t')\n",
    "first_row = df[df[\"사건명\"].notna()].iloc[0]\n",
    "\n",
    "title = str(first_row[\"사건명\"]).strip()\n",
    "situation = str(first_row[\"상황\"]).strip()\n",
    "skills = [str(s).strip() for s in df[\"스킬\"] if pd.notna(s)]\n",
    "extra = [str(e).strip() for e in df[\"부가 설명\"] if pd.notna(e)]\n",
    "dialogue = [str(d).strip() for d in df[\"대사\"] if pd.notna(d)]\n",
    "choices = [\n",
    "    \"1. 모든 적을 죽인다.\",\n",
    "    \"2. 적들을 무력화하고 살려둔다.\",\n",
    "    \"3. 시스템 퀘스트를 거부하고 반항한다.\"\n",
    "]\n",
    "question = (\n",
    "    \"성진우는 이 상황에서 어떤 선택을 할까? 반드시 하나만 선택하고, \"\n",
    "    \"그에 맞는 감정과 성격이 드러나는 대사와 이유를 작성하시오. \"\n",
    "    \"선택지 문장을 그대로 복붙하지 말 것.\"\n",
    "    \"마지막으로, 위 세 선택지 중 성진우가 실제로 선택할 가능성이 가장 높은 하나를 고르고, 그 번호를 고르고 이유를 작성하시오.\"\n",
    "\n",
    ")\n",
    "\n",
    "prompt_data = {\n",
    "    \"title\": title,\n",
    "    \"situation\": situation,\n",
    "    \"skills\": skills,\n",
    "    \"extra\": extra,\n",
    "    \"dialogue\": dialogue,\n",
    "    \"choices\": choices,\n",
    "    \"question\": question\n",
    "}\n",
    "with open(output_path, \"w\", encoding=\"utf-8\") as f:\n",
    "    f.write(json.dumps(prompt_data, ensure_ascii=False) + \"\\n\")\n",
    "\n",
    "print(f\" 프롬프트 저장 완료 → {output_path}\")\n"
   ]
  },
  {
   "cell_type": "code",
   "execution_count": 47,
   "id": "bf00467e-b4d6-49cf-b6c7-863bb7511de8",
   "metadata": {},
   "outputs": [
    {
     "name": "stderr",
     "output_type": "stream",
     "text": [
      "Device set to use cuda:0\n"
     ]
    },
    {
     "name": "stdout",
     "output_type": "stream",
     "text": [
      " v11 결과 저장 완료 → results/v12_result.md\n"
     ]
    }
   ],
   "source": [
    "from transformers import pipeline\n",
    "import json\n",
    "import os\n",
    "\n",
    "generator = pipeline(\n",
    "    \"text-generation\",\n",
    "    model=\"kakaocorp/kanana-nano-2.1b-instruct\",\n",
    "    device=0\n",
    ")\n",
    "\n",
    "prompt_path = \"prompts/v12_prompt.jsonl\"\n",
    "result_path = \"results/v12_result.md\"\n",
    "os.makedirs(os.path.dirname(result_path), exist_ok=True)\n",
    "\n",
    "# 프롬프트불러오기\n",
    "with open(prompt_path, \"r\", encoding=\"utf-8\") as f:\n",
    "    prompt = json.loads(f.readline())\n",
    "\n",
    "input_text = (\n",
    "    f\"[상황 요약]\\n{prompt['situation']}\\n\\n\"\n",
    "    f\"[사용 가능한 스킬]\\n{', '.join(prompt['skills'])}\\n\\n\"\n",
    "    f\"[부가 설명]\\n{', '.join(prompt['extra'])}\\n\\n\"\n",
    "    f\"[참고 대사 예시]\\n\" + \"\\n\".join(f\"- {line}\" for line in prompt['dialogue'][:5]) + \"\\n\\n\"\n",
    "    f\"[선택지]\\n\" + \"\\n\".join(prompt['choices']) + \"\\n\\n\"\n",
    "    f\"{prompt['question']}\\n\\n\"\n",
    "    \"※ 아래 응답 형식을 반드시 따를 것. 세 가지 선택지를 모두 응답한 후, 마지막에 하나의 최종 선택을 명시할 것.\\n\"\n",
    "    \"- 선택지 1:\\n  - 성진우의 대사: \\\"...\\\"\\n  - 선택 이유: ...\\n\"\n",
    "    \"- 선택지 2:\\n  - 성진우의 대사: \\\"...\\\"\\n  - 선택 이유: ...\\n\"\n",
    "    \"- 선택지 3:\\n  - 성진우의 대사: \\\"...\\\"\\n  - 선택 이유: ...\\n\"\n",
    "    \"\\n[최종 선택]\\n- 선택 번호: (1/2/3)\\n- 이유: ...\"\n",
    ")\n",
    "\n",
    "# 모델 실행\n",
    "outputs = generator(\n",
    "    input_text,\n",
    "    max_new_tokens=600,\n",
    "    do_sample=True,\n",
    "    temperature=0.7,\n",
    "    top_k=50,\n",
    "    top_p=0.92\n",
    ")\n",
    "output_text = outputs[0][\"generated_text\"]\n",
    "trimmed_output = output_text.replace(input_text, \"\").strip()\n",
    "\n",
    "# 결과 저장\n",
    "with open(result_path, \"w\", encoding=\"utf-8\") as f:\n",
    "    f.write(\"## 출력 1\\n\")\n",
    "    f.write(f\"```\\n{trimmed_output}\\n```\\n\")\n",
    "    f.write(\"---\\n\")\n",
    "\n",
    "print(f\" v11 결과 저장 완료 → {result_path}\")\n"
   ]
  },
  {
   "cell_type": "markdown",
   "id": "d14fcafd-a9dd-4166-a028-6974350d3d81",
   "metadata": {
    "jp-MarkdownHeadingCollapsed": true
   },
   "source": [
    "## v13"
   ]
  },
  {
   "cell_type": "code",
   "execution_count": 50,
   "id": "42c489d2-eea7-4e7e-8646-9d88912742a3",
   "metadata": {},
   "outputs": [
    {
     "name": "stdout",
     "output_type": "stream",
     "text": [
      " 프롬프트 저장 완료 → prompts/v13_prompt.jsonl\n"
     ]
    }
   ],
   "source": [
    "import pandas as pd\n",
    "import json\n",
    "import os\n",
    "\n",
    "tsv_path = \"ep1_dongseok.tsv\"\n",
    "output_path = \"prompts/v13_prompt.jsonl\"\n",
    "os.makedirs(os.path.dirname(output_path), exist_ok=True)\n",
    "\n",
    "df = pd.read_csv(tsv_path, sep='\\t')\n",
    "first_row = df[df[\"사건명\"].notna()].iloc[0]\n",
    "\n",
    "title = str(first_row[\"사건명\"]).strip()\n",
    "situation = str(first_row[\"상황\"]).strip()\n",
    "skills = [str(s).strip() for s in df[\"스킬\"] if pd.notna(s)]\n",
    "extra = [str(e).strip() for e in df[\"부가 설명\"] if pd.notna(e)]\n",
    "dialogue = [str(d).strip() for d in df[\"대사\"] if pd.notna(d)]\n",
    "choices = [\n",
    "    \"1. 모든 적을 죽인다.\",\n",
    "    \"2. 적들을 무력화하고 살려둔다.\",\n",
    "    \"3. 시스템 퀘스트를 거부하고 반항한다.\"\n",
    "]\n",
    "question = (\n",
    "    \"성진우는 이 상황에서 어떤 선택을 할까? 반드시 하나만 선택하고, \"\n",
    "    \"그에 맞는 감정과 성격이 드러나는 대사와 이유를 작성하시오. \"\n",
    "    \"선택지 문장을 그대로 복붙하지 말 것.\"\n",
    "    \"마지막으로, 위 세 선택지 중 성진우가 실제로 선택할 가능성이 가장 높은 하나를 고르고, 그 번호를 고르고 이유를 작성하시오.\"\n",
    "    \"※ 선택 이유는 성진우의 성격, 가치관, 행동 방식, 상황 분석, 스킬 등과 연결하여 구체적으로 작성할 것.\"\n",
    "\n",
    ")\n",
    "\n",
    "prompt_data = {\n",
    "    \"title\": title,\n",
    "    \"situation\": situation,\n",
    "    \"skills\": skills,\n",
    "    \"extra\": extra,\n",
    "    \"dialogue\": dialogue,\n",
    "    \"choices\": choices,\n",
    "    \"question\": question\n",
    "}\n",
    "with open(output_path, \"w\", encoding=\"utf-8\") as f:\n",
    "    f.write(json.dumps(prompt_data, ensure_ascii=False) + \"\\n\")\n",
    "\n",
    "print(f\" 프롬프트 저장 완료 → {output_path}\")\n"
   ]
  },
  {
   "cell_type": "code",
   "execution_count": 54,
   "id": "98d38062-5456-4359-904f-f97c06518f9a",
   "metadata": {},
   "outputs": [
    {
     "name": "stderr",
     "output_type": "stream",
     "text": [
      "Device set to use cuda:0\n"
     ]
    },
    {
     "name": "stdout",
     "output_type": "stream",
     "text": [
      " v13 결과 저장 완료 → results/v13_result.md\n"
     ]
    }
   ],
   "source": [
    "from transformers import pipeline\n",
    "import json\n",
    "import os\n",
    "\n",
    "generator = pipeline(\n",
    "    \"text-generation\",\n",
    "    model=\"kakaocorp/kanana-nano-2.1b-instruct\",\n",
    "    device=0\n",
    ")\n",
    "\n",
    "prompt_path = \"prompts/v13_prompt.jsonl\"\n",
    "result_path = \"results/v13_result.md\"\n",
    "os.makedirs(os.path.dirname(result_path), exist_ok=True)\n",
    "\n",
    "# \n",
    "with open(prompt_path, \"r\", encoding=\"utf-8\") as f:\n",
    "    prompt = json.loads(f.readline())\n",
    "\n",
    "input_text = (\n",
    "    f\"[상황 요약]\\n{prompt['situation']}\\n\\n\"\n",
    "    f\"[사용 가능한 스킬]\\n{', '.join(prompt['skills'])}\\n\\n\"\n",
    "    f\"[부가 설명]\\n{', '.join(prompt['extra'])}\\n\\n\"\n",
    "    f\"[참고 대사 예시]\\n\" + \"\\n\".join(f\"- {line}\" for line in prompt['dialogue'][:5]) + \"\\n\\n\"\n",
    "    f\"[선택지]\\n\" + \"\\n\".join(prompt['choices']) + \"\\n\\n\"\n",
    "    f\"{prompt['question']}\\n\\n\"\n",
    "\"※ 아래 응답 형식을 반드시 따를 것. 세 가지 선택지를 모두 작성하고, 마지막에 하나만 고르되 중복은 금지.\\n\"\n",
    "\"※ 선택 이유는 성진우의 성격, 가치관, 행동 방식, 상황 분석, 스킬 등과 연결하여 구체적으로 작성할 것.\\n\"\n",
    "\"- 선택지 1:\\n  - 성진우의 대사: \\\"...\\\"\\n  - 선택 이유: ...\\n\"\n",
    "\"- 선택지 2:\\n  - 성진우의 대사: \\\"...\\\"\\n  - 선택 이유: ...\\n\"\n",
    "\"- 선택지 3:\\n  - 성진우의 대사: \\\"...\\\"\\n  - 선택 이유: ...\\n\"\n",
    "\"\\n[최종 선택]\\n- 선택 번호: (1/2/3)\\n- 이유: ... (위 비교를 바탕으로 선택 근거 작성)\"\n",
    "\n",
    ")\n",
    "\n",
    "outputs = generator(\n",
    "    input_text,\n",
    "    max_new_tokens=750,\n",
    "    do_sample=True,\n",
    "    temperature=0.7,\n",
    "    top_k=50,\n",
    "    top_p=0.92\n",
    ")\n",
    "output_text = outputs[0][\"generated_text\"]\n",
    "trimmed_output = output_text.replace(input_text, \"\").strip()\n",
    "\n",
    "with open(result_path, \"w\", encoding=\"utf-8\") as f:\n",
    "    f.write(\"## 출력 1\\n\")\n",
    "    f.write(f\"```\\n{trimmed_output}\\n```\\n\")\n",
    "    f.write(\"---\\n\")\n",
    "\n",
    "print(f\" v13 결과 저장 완료 → {result_path}\")\n"
   ]
  },
  {
   "cell_type": "markdown",
   "id": "d846081b-1103-490e-b20f-410dd2163577",
   "metadata": {
    "jp-MarkdownHeadingCollapsed": true
   },
   "source": [
    "## v14"
   ]
  },
  {
   "cell_type": "code",
   "execution_count": 59,
   "id": "7548b13b-03c7-4975-8e94-022812164fd5",
   "metadata": {},
   "outputs": [
    {
     "name": "stdout",
     "output_type": "stream",
     "text": [
      " 프롬프트 저장 완료 → prompts/v14_prompt.jsonl\n"
     ]
    }
   ],
   "source": [
    "import pandas as pd\n",
    "import json\n",
    "import os\n",
    "\n",
    "tsv_path = \"ep1_dongseok.tsv\"\n",
    "output_path = \"prompts/v14_prompt.jsonl\"\n",
    "os.makedirs(os.path.dirname(output_path), exist_ok=True)\n",
    "\n",
    "df = pd.read_csv(tsv_path, sep='\\t')\n",
    "first_row = df[df[\"사건명\"].notna()].iloc[0]\n",
    "\n",
    "title = str(first_row[\"사건명\"]).strip()\n",
    "situation = str(first_row[\"상황\"]).strip()\n",
    "skills = [str(s).strip() for s in df[\"스킬\"] if pd.notna(s)]\n",
    "extra = [str(e).strip() for e in df[\"부가 설명\"] if pd.notna(e)]\n",
    "dialogue = [str(d).strip() for d in df[\"대사\"] if pd.notna(d)]\n",
    "choices = [\n",
    "    \"1. 적의 생존 가능성을 배제한다\t.\",\n",
    "    \"2. 적들을 무력화하고 살려둔다.\",\n",
    "    \"3. 시스템 퀘스트를 거부하고 반항한다.\"\n",
    "]\n",
    "question = (\n",
    "    \"성진우는 이 상황에서 어떤 선택을 할까? 반드시 하나만 선택하고, \"\n",
    "    \"그에 맞는 감정과 성격이 드러나는 대사와 이유를 작성하시오. \"\n",
    "    \"선택지 문장을 그대로 복붙하지 말 것.\"\n",
    "    \"마지막으로, 위 세 선택지 중 성진우가 실제로 선택할 가능성이 가장 높은 하나를 고르고, 그 번호를 고르고 이유를 작성하시오.\"\n",
    "    \"※ 선택 이유는 성진우의 성격, 가치관, 행동 방식, 상황 분석, 스킬 등과 연결하여 구체적으로 작성할 것.\"\n",
    "\n",
    ")\n",
    "\n",
    "prompt_data = {\n",
    "    \"title\": title,\n",
    "    \"situation\": situation,\n",
    "    \"skills\": skills,\n",
    "    \"extra\": extra,\n",
    "    \"dialogue\": dialogue,\n",
    "    \"choices\": choices,\n",
    "    \"question\": question\n",
    "}\n",
    "with open(output_path, \"w\", encoding=\"utf-8\") as f:\n",
    "    f.write(json.dumps(prompt_data, ensure_ascii=False) + \"\\n\")\n",
    "\n",
    "print(f\" 프롬프트 저장 완료 → {output_path}\")\n"
   ]
  },
  {
   "cell_type": "code",
   "execution_count": 60,
   "id": "6601a5c8-8952-46d4-850d-7aa35aa599f6",
   "metadata": {},
   "outputs": [
    {
     "name": "stderr",
     "output_type": "stream",
     "text": [
      "Device set to use cuda:0\n"
     ]
    },
    {
     "name": "stdout",
     "output_type": "stream",
     "text": [
      " v14 결과 저장 완료 → results/v14_result.md\n"
     ]
    }
   ],
   "source": [
    "from transformers import pipeline\n",
    "import json\n",
    "import os\n",
    "\n",
    "generator = pipeline(\n",
    "    \"text-generation\",\n",
    "    model=\"kakaocorp/kanana-nano-2.1b-instruct\",\n",
    "    device=0\n",
    ")\n",
    "\n",
    "prompt_path = \"prompts/v14_prompt.jsonl\"\n",
    "result_path = \"results/v14_result.md\"\n",
    "os.makedirs(os.path.dirname(result_path), exist_ok=True)\n",
    "\n",
    "# \n",
    "with open(prompt_path, \"r\", encoding=\"utf-8\") as f:\n",
    "    prompt = json.loads(f.readline())\n",
    "\n",
    "input_text = (\n",
    "    f\"[상황 요약]\\n{prompt['situation']}\\n\\n\"\n",
    "    f\"[사용 가능한 스킬]\\n{', '.join(prompt['skills'])}\\n\\n\"\n",
    "    f\"[부가 설명]\\n{', '.join(prompt['extra'])}\\n\\n\"\n",
    "    f\"[참고 대사 예시]\\n\" + \"\\n\".join(f\"- {line}\" for line in prompt['dialogue'][:5]) + \"\\n\\n\"\n",
    "    f\"[선택지]\\n\" + \"\\n\".join(prompt['choices']) + \"\\n\\n\"\n",
    "    f\"{prompt['question']}\\n\\n\"\n",
    "\"※ 아래 응답 형식을 반드시 따를 것. 세 가지 선택지를 모두 작성하고, 마지막에 하나만 고르되 중복은 금지.\\n\"\n",
    "\"※ 선택 이유는 성진우의 성격, 가치관, 행동 방식, 상황 분석, 스킬 등과 연결하여 구체적으로 작성할 것.\\n\"\n",
    "\"- 선택지 1:\\n  - 성진우의 대사: \\\"...\\\"\\n  - 선택 이유: ...\\n\"\n",
    "\"- 선택지 2:\\n  - 성진우의 대사: \\\"...\\\"\\n  - 선택 이유: ...\\n\"\n",
    "\"- 선택지 3:\\n  - 성진우의 대사: \\\"...\\\"\\n  - 선택 이유: ...\\n\"\n",
    "\"\\n[최종 선택]\\n- 선택 번호: (1/2/3)\\n- 이유: ... (위 비교를 바탕으로 선택 근거 작성)\"\n",
    "\n",
    ")\n",
    "\n",
    "outputs = generator(\n",
    "    input_text,\n",
    "    max_new_tokens=750,\n",
    "    do_sample=True,\n",
    "    temperature=0.7,\n",
    "    top_k=50,\n",
    "    top_p=0.92\n",
    ")\n",
    "output_text = outputs[0][\"generated_text\"]\n",
    "trimmed_output = output_text.replace(input_text, \"\").strip()\n",
    "\n",
    "with open(result_path, \"w\", encoding=\"utf-8\") as f:\n",
    "    f.write(\"## 출력 1\\n\")\n",
    "    f.write(f\"```\\n{trimmed_output}\\n```\\n\")\n",
    "    f.write(\"---\\n\")\n",
    "\n",
    "print(f\" v14 결과 저장 완료 → {result_path}\")\n"
   ]
  },
  {
   "cell_type": "markdown",
   "id": "1c3a328b-6a64-46b3-b03c-d6881c728492",
   "metadata": {},
   "source": [
    "## V15"
   ]
  },
  {
   "cell_type": "code",
   "execution_count": null,
   "id": "13b8ead0-a7f2-4b46-879e-4508dbc94582",
   "metadata": {},
   "outputs": [],
   "source": []
  },
  {
   "cell_type": "code",
   "execution_count": 2,
   "id": "aa198b05-0548-4cb3-84ab-3ffc58ec2086",
   "metadata": {},
   "outputs": [
    {
     "name": "stdout",
     "output_type": "stream",
     "text": [
      " 프롬프트 저장 완료 → prompts/v15_prompt.jsonl\n"
     ]
    }
   ],
   "source": [
    "import pandas as pd\n",
    "import json\n",
    "import os\n",
    "\n",
    "tsv_path = \"ep1_dongseok.tsv\"\n",
    "output_path = \"prompts/v15_prompt.jsonl\"\n",
    "os.makedirs(os.path.dirname(output_path), exist_ok=True)\n",
    "\n",
    "df = pd.read_csv(tsv_path, sep='\\t')\n",
    "first_row = df[df[\"사건명\"].notna()].iloc[0]\n",
    "\n",
    "title = str(first_row[\"사건명\"]).strip()\n",
    "situation = str(first_row[\"상황\"]).strip()\n",
    "skills = [str(s).strip() for s in df[\"스킬\"] if pd.notna(s)]\n",
    "extra = [str(e).strip() for e in df[\"부가 설명\"] if pd.notna(e)]\n",
    "dialogue = [str(d).strip() for d in df[\"대사\"] if pd.notna(d)]\n",
    "choices = [\n",
    "    \"1. 모든 적을 죽인다\t.\",\n",
    "    \"2. 적들을 무력화하고 살려둔다.\",\n",
    "    \"3. 시스템 퀘스트를 거부하고 반항한다.\"\n",
    "]\n",
    "question = (\n",
    "    \"성진우는 이 상황에서 어떤 선택을 할까? 반드시 하나만 선택하고, \"\n",
    "    \"그에 맞는 감정과 성격이 드러나는 대사와 이유를 작성하시오. \"\n",
    "    \"선택지 문장을 그대로 복붙하지 말 것.\"\n",
    "    \"마지막으로, 위 세 선택지 중 성진우가 실제로 선택할 가능성이 가장 높은 하나를 고르고, 그 번호를 고르고 이유를 작성하시오.\"\n",
    "    \"※ 선택 이유는 성진우의 성격, 가치관, 행동 방식, 상황 분석, 스킬 등과 연결하여 구체적으로 작성할 것.\"\n",
    "\n",
    ")\n",
    "\n",
    "prompt_data = {\n",
    "    \"title\": title,\n",
    "    \"situation\": situation,\n",
    "    \"skills\": skills,\n",
    "    \"extra\": extra,\n",
    "    \"dialogue\": dialogue,\n",
    "    \"choices\": choices,\n",
    "    \"question\": question\n",
    "}\n",
    "with open(output_path, \"w\", encoding=\"utf-8\") as f:\n",
    "    f.write(json.dumps(prompt_data, ensure_ascii=False) + \"\\n\")\n",
    "\n",
    "print(f\" 프롬프트 저장 완료 → {output_path}\")\n"
   ]
  },
  {
   "cell_type": "code",
   "execution_count": 5,
   "id": "8a22f178-ca53-4a0a-bdcf-bfe33312d59d",
   "metadata": {},
   "outputs": [
    {
     "name": "stderr",
     "output_type": "stream",
     "text": [
      "Device set to use cuda:0\n"
     ]
    },
    {
     "name": "stdout",
     "output_type": "stream",
     "text": [
      " v15 결과 저장 완료 → results/v15_result.md\n"
     ]
    }
   ],
   "source": [
    "from transformers import pipeline\n",
    "import json\n",
    "import os\n",
    "\n",
    "generator = pipeline(\n",
    "    \"text-generation\",\n",
    "    model=\"kakaocorp/kanana-nano-2.1b-instruct\",\n",
    "    device=0\n",
    ")\n",
    "\n",
    "prompt_path = \"prompts/v15_prompt.jsonl\"\n",
    "result_path = \"results/v15_result.md\"\n",
    "os.makedirs(os.path.dirname(result_path), exist_ok=True)\n",
    "\n",
    "with open(prompt_path, \"r\", encoding=\"utf-8\") as f:\n",
    "    prompt = json.loads(f.readline())\n",
    "\n",
    "input_text = (\n",
    "    f\"[상황 요약]\\n{prompt['situation']}\\n\\n\"\n",
    "    f\"[사용 가능한 스킬]\\n{', '.join(prompt['skills'])}\\n\\n\"\n",
    "    f\"[부가 설명]\\n{', '.join(prompt['extra'])}\\n\\n\"\n",
    "    f\"[참고 대사 예시]\\n\" + \"\\n\".join(f\"- {line}\" for line in prompt['dialogue'][:5]) + \"\\n\\n\"\n",
    "    f\"[선택지]\\n\" + \"\\n\".join(prompt['choices'][1:]) + \"\\n\\n\"  # 2, 3번 선택지만\n",
    "    f\"{prompt['question']}\\n\\n\"\n",
    "    \"※ 아래 응답 형식을 반드시 따를 것. **선택지 2번과 3번만 작성**하고, 마지막에 하나만 고르되 중복은 금지.\\n\"\n",
    "    \"※ 선택 이유는 성진우의 성격, 가치관, 행동 방식, 상황 분석, 스킬 등과 연결하여 구체적으로 작성할 것.\\n\"\n",
    "    \"- 선택지 2:\\n  - 성진우의 대사: \\\"...\\\"\\n  - 선택 이유: ...\\n\"\n",
    "    \"- 선택지 3:\\n  - 성진우의 대사: \\\"...\\\"\\n  - 선택 이유: ...\\n\"\n",
    "    \"\\n[최종 선택]\\n- 선택 번호: (2 또는 3 중 하나)\\n- 이유: 위 비교를 바탕으로 선택 근거를 명확히 서술할 것.\\n\"\n",
    ")\n",
    "\n",
    "# 결과 \n",
    "outputs = generator(\n",
    "    input_text,\n",
    "    max_new_tokens=500,\n",
    "    do_sample=True,\n",
    "    temperature=0.7,\n",
    "    top_k=50,\n",
    "    top_p=0.92\n",
    ")\n",
    "output_text = outputs[0][\"generated_text\"]\n",
    "trimmed_output = output_text.replace(input_text, \"\").strip()\n",
    "\n",
    "# 결과 저장\n",
    "with open(result_path, \"w\", encoding=\"utf-8\") as f:\n",
    "    f.write(\"## 출력 1\\n\")\n",
    "    f.write(f\"```\\n{trimmed_output}\\n```\\n\")\n",
    "    f.write(\"---\\n\")\n",
    "\n",
    "print(f\" v15 결과 저장 완료 → {result_path}\")\n"
   ]
  },
  {
   "cell_type": "markdown",
   "id": "7b6d6d09-9f71-48f2-8ba3-0b059a1456bd",
   "metadata": {},
   "source": [
    "## v16."
   ]
  },
  {
   "cell_type": "code",
   "execution_count": 20,
   "id": "e3a55b98-4329-4dd7-abe0-35c9d14a188b",
   "metadata": {},
   "outputs": [
    {
     "name": "stdout",
     "output_type": "stream",
     "text": [
      "프롬프트 저장 완료 → prompts/v16_prompt.jsonl\n"
     ]
    }
   ],
   "source": [
    "import pandas as pd\n",
    "import json\n",
    "import os\n",
    "\n",
    "tsv_path = \"ep1_lizard.tsv\"\n",
    "output_path = \"prompts/v16_prompt.jsonl\"\n",
    "os.makedirs(os.path.dirname(output_path), exist_ok=True)\n",
    "\n",
    "\n",
    "df = pd.read_csv(tsv_path, sep='\\t')\n",
    "\n",
    "\n",
    "dialogues = [str(d).strip() for d in df[\"대사\"] if pd.notna(d)]\n",
    "inner_monologue = [str(m).strip() for m in df[\"내적설명\"] if pd.notna(m)]\n",
    "system_msgs = [str(s).strip() for s in df[\"시스템\"] if pd.notna(s)]\n",
    "\n",
    "choices = [\n",
    "    \"1-1. 황동석 무리를 모두 처치한다.\",\n",
    "    \"1-2. 황동석 무리와 진호를 포함하여 모두 처치한다.\",\n",
    "    \"2. 적을 무력화하거나 기절시키고 살려둔다.\",\n",
    "    \"3-1. 마나를 들고 도망친다.\",\n",
    "    \"3-2. 시스템을 거부하고 그냥 도망친다.\"\n",
    "]\n",
    "\n",
    "question = (\n",
    "    \"당신은 성진우입니다. \"\n",
    "    \"아래 상황에서 성진우의 성격과 말투를 유지하며 행동을 선택하고, \"\n",
    "    \"그 선택에 대한 새로운 대사와 이유를 작성하세요.\\n\"\n",
    "    \"- 선택지 문장을 그대로 복사하지 말 것\\n\"\n",
    "    \"- 성격, 가치관, 스킬, 상황 분석과 연결해 이유 작성\\n\"\n",
    "    \"마지막으로, 세 선택지 중 실제로 선택할 가능성이 가장 높은 번호를 명시하고 이유를 설명.\"\n",
    ")\n",
    "\n",
    "prompt_data = {\n",
    "    \"dialogue\": dialogues,           \n",
    "    \"inner_monologue\": inner_monologue, \n",
    "    \"system_msgs\": system_msgs,      \n",
    "    \"choices\": choices,\n",
    "    \"question\": question\n",
    "}\n",
    "\n",
    "output_path = \"prompts/v16_prompt.jsonl\"\n",
    "with open(output_path, \"w\", encoding=\"utf-8\") as f:\n",
    "    f.write(json.dumps(prompt_data, ensure_ascii=False) + \"\\n\")\n",
    "\n",
    "print(f\"프롬프트 저장 완료 → {output_path}\")\n"
   ]
  },
  {
   "cell_type": "code",
   "execution_count": 21,
   "id": "a5f2303f-8dd8-4421-ac93-52129a3bc6b2",
   "metadata": {},
   "outputs": [
    {
     "name": "stderr",
     "output_type": "stream",
     "text": [
      "Device set to use cuda:0\n"
     ]
    },
    {
     "name": "stdout",
     "output_type": "stream",
     "text": [
      "v16 결과 저장 완료 → results/v16_result.md\n"
     ]
    }
   ],
   "source": [
    "from transformers import pipeline\n",
    "import json\n",
    "import os\n",
    "\n",
    "generator = pipeline(\n",
    "    \"text-generation\",\n",
    "    model=\"kakaocorp/kanana-nano-2.1b-instruct\",\n",
    "    device=0\n",
    ")\n",
    "\n",
    "prompt_path = \"prompts/v16_prompt.jsonl\"\n",
    "result_path = \"results/v16_result.md\"\n",
    "os.makedirs(os.path.dirname(result_path), exist_ok=True)\n",
    "\n",
    "with open(prompt_path, \"r\", encoding=\"utf-8\") as f:\n",
    "    prompt = json.loads(f.readline())\n",
    "\n",
    "situation_text = (\n",
    "    f\"[내적설명]\\n\" + \"\\n\".join(prompt['inner_monologue'][:3]) + \"\\n\\n\"\n",
    "    f\"[시스템]\\n\" + \"\\n\".join(prompt['system_msgs'][:3]) + \"\\n\\n\"\n",
    ")\n",
    "\n",
    "dialogue_text = \"\\n\".join(f\"- {line}\" for line in prompt[\"dialogue\"][:5])\n",
    "\n",
    "choices_text = \"\\n\".join(prompt[\"choices\"])\n",
    "\n",
    "input_text = (\n",
    "    f\"{situation_text}\"\n",
    "    f\"[참고 대사 예시]\\n{dialogue_text}\\n\\n\"\n",
    "    f\"[선택지]\\n{choices_text}\\n\\n\"\n",
    "    f\"{prompt['question']}\\n\\n\"\n",
    "    \"※ 응답 형식\\n\"\n",
    "    \"- 선택지 1:\\n  - 성진우의 대사: \\\"...\\\"\\n  - 선택 이유: ...\\n\"\n",
    "    \"- 선택지 2:\\n  - 성진우의 대사: \\\"...\\\"\\n  - 선택 이유: ...\\n\"\n",
    "    \"- 선택지 3:\\n  - 성진우의 대사: \\\"...\\\"\\n  - 선택 이유: ...\\n\"\n",
    "    \"\\n[최종 선택]\\n- 선택 번호: (1~3 중 하나)\\n- 이유: 위 비교를 바탕으로 선택 근거를 명확히 작성.\\n\"\n",
    ")\n",
    "\n",
    "outputs = generator(\n",
    "    input_text,\n",
    "    max_new_tokens=500,\n",
    "    do_sample=True,\n",
    "    temperature=0.7,\n",
    "    top_k=50,\n",
    "    top_p=0.92\n",
    ")\n",
    "output_text = outputs[0][\"generated_text\"]\n",
    "trimmed_output = output_text.replace(input_text, \"\").strip()\n",
    "\n",
    "with open(result_path, \"w\", encoding=\"utf-8\") as f:\n",
    "    f.write(\"## 출력 1\\n\")\n",
    "    f.write(f\"```\\n{trimmed_output}\\n```\\n\")\n",
    "    f.write(\"---\\n\")\n",
    "\n",
    "print(f\"v16 결과 저장 완료 → {result_path}\")\n"
   ]
  },
  {
   "cell_type": "markdown",
   "id": "588e7a3f-f43c-4f9b-bec6-705a26078350",
   "metadata": {},
   "source": [
    "## v17"
   ]
  },
  {
   "cell_type": "code",
   "execution_count": 22,
   "id": "946591d7-ab6b-4c13-a9b7-5be574742a68",
   "metadata": {},
   "outputs": [
    {
     "name": "stdout",
     "output_type": "stream",
     "text": [
      "프롬프트 저장 완료 → prompts/v17_prompt.jsonl\n"
     ]
    }
   ],
   "source": [
    "import pandas as pd\n",
    "import json\n",
    "import os\n",
    "\n",
    "tsv_path = \"ep1_lizard.tsv\"\n",
    "output_path = \"prompts/v17_prompt.jsonl\"\n",
    "os.makedirs(os.path.dirname(output_path), exist_ok=True)\n",
    "\n",
    "\n",
    "df = pd.read_csv(tsv_path, sep='\\t')\n",
    "\n",
    "\n",
    "dialogues = [str(d).strip() for d in df[\"대사\"] if pd.notna(d)]\n",
    "inner_monologue = [str(m).strip() for m in df[\"내적설명\"] if pd.notna(m)]\n",
    "system_msgs = [str(s).strip() for s in df[\"시스템\"] if pd.notna(s)]\n",
    "\n",
    "choices = [\n",
    "    \"1-1. 황동석 무리를 모두 처치한다.\",\n",
    "    \"1-2. 황동석 무리와 진호를 포함하여 모두 처치한다.\",\n",
    "    \"2. 적을 무력화하거나 기절시키고 살려둔다.\",\n",
    "    \"3-1. 마나를 들고 도망친다.\",\n",
    "    \"3-2. 시스템을 거부하고 그냥 도망친다.\"\n",
    "]\n",
    "\n",
    "question = (\n",
    "    \"당신은 주인공 성진우입니다. \"\n",
    "    \"아래 상황에서 성진우의 성격과 말투를 유지하며 행동을 선택하고, \"\n",
    "    \"그 선택에 대한 새로운 대사와 이유를 작성하세요.\\n\"\n",
    "    \"- 선택지 문장을 그대로 복사하지 말 것\\n\"\n",
    "    \"- 성격, 가치관, 스킬, 상황 분석과 연결해 이유 작성\\n\"\n",
    "    \"마지막으로, 선택지 중 실제로 선택할 가능성이 가장 높은 번호를 명시하고 이유를 설명.\"\n",
    ")\n",
    "\n",
    "prompt_data = {\n",
    "    \"dialogue\": dialogues,           \n",
    "    \"inner_monologue\": inner_monologue, \n",
    "    \"system_msgs\": system_msgs,      \n",
    "    \"choices\": choices,\n",
    "    \"question\": question\n",
    "}\n",
    "\n",
    "output_path = \"prompts/v17_prompt.jsonl\"\n",
    "with open(output_path, \"w\", encoding=\"utf-8\") as f:\n",
    "    f.write(json.dumps(prompt_data, ensure_ascii=False) + \"\\n\")\n",
    "\n",
    "print(f\"프롬프트 저장 완료 → {output_path}\")\n"
   ]
  },
  {
   "cell_type": "code",
   "execution_count": 24,
   "id": "116096c1-1312-4ab5-8b86-aa0233e0bd26",
   "metadata": {},
   "outputs": [
    {
     "name": "stderr",
     "output_type": "stream",
     "text": [
      "Device set to use cuda:0\n"
     ]
    },
    {
     "name": "stdout",
     "output_type": "stream",
     "text": [
      "v17 결과 저장 완료 → results/v17_result.md\n"
     ]
    }
   ],
   "source": [
    "from transformers import pipeline\n",
    "import json\n",
    "import os\n",
    "\n",
    "generator = pipeline(\n",
    "    \"text-generation\",\n",
    "    model=\"kakaocorp/kanana-nano-2.1b-instruct\",\n",
    "    device=0\n",
    ")\n",
    "\n",
    "prompt_path = \"prompts/v17_prompt.jsonl\"\n",
    "result_path = \"results/v17_result.md\"\n",
    "os.makedirs(os.path.dirname(result_path), exist_ok=True)\n",
    "with open(prompt_path, \"r\", encoding=\"utf-8\") as f:\n",
    "    prompt = json.loads(f.readline())\n",
    "\n",
    "\n",
    "    f\"[내적설명]\\n\" + \"\\n\".join(prompt['inner_monologue'][:3]) + \"\\n\\n\"\n",
    "    f\"[시스템]\\n\" + \"\\n\".join(prompt['system_msgs'][:3]) + \"\\n\\n\"\n",
    "\n",
    "sample_dialogues = prompt[\"dialogue\"][:5]\n",
    "dialogue_text = \"\\n\".join(f\"- {line}\" for line in sample_dialogues)\n",
    "if len(prompt[\"dialogue\"]) > 5:\n",
    "    dialogue_text += f\"\\n... (총 {len(prompt['dialogue'])}개 중 일부 예시)\"\n",
    "\n",
    "choices_text = \"\\n\".join(prompt[\"choices\"])\n",
    "\n",
    "input_text = (\n",
    "    f\"{situation_text}\"\n",
    "    f\"[참고 대사 예시]\\n{dialogue_text}\\n\\n\"\n",
    "    f\"[선택지]\\n{choices_text}\\n\\n\"\n",
    "    f\"{prompt['question']}\\n\\n\"\n",
    "    \"※ 응답 형식\\n\"\n",
    "    \"- 선택지 1: (1-1, 1-2 모두 고려)\\n  - 성진우의 대사: \\\"...\\\"\\n  - 선택 이유: ...\\n\"\n",
    "    \"- 선택지 2:\\n  - 성진우의 대사: \\\"...\\\"\\n  - 선택 이유: ...\\n\"\n",
    "    \"- 선택지 3: (3-1, 3-2 모두 고려)\\n  - 성진우의 대사: \\\"...\\\"\\n  - 선택 이유: ...\\n\"\n",
    "    \"\\n[최종 선택]\\n- 선택 번호: (1-1, 1-2, 2, 3-1, 3-2 중 하나)\\n- 이유: 위 비교를 바탕으로 선택 근거를 명확히 작성.\\n\"\n",
    ")\n",
    "\n",
    "\n",
    "outputs = generator(\n",
    "    input_text,\n",
    "    max_new_tokens=600,\n",
    "    do_sample=True,\n",
    "    temperature=0.7,\n",
    "    top_k=50,\n",
    "    top_p=0.92\n",
    ")\n",
    "\n",
    "output_text = outputs[0][\"generated_text\"]\n",
    "trimmed_output = output_text.replace(input_text, \"\").strip()\n",
    "\n",
    "with open(result_path, \"w\", encoding=\"utf-8\") as f:\n",
    "    f.write(f\"# v17 출력 1\\n\\n\")\n",
    "    f.write(\"## 입력 프롬프트\\n\")\n",
    "    f.write(f\"```\\n{input_text[:1500]}...\\n```\\n\\n\")  \n",
    "    f.write(\"## 모델 출력\\n\")\n",
    "    f.write(f\"```\\n{trimmed_output}\\n```\\n\")\n",
    "    f.write(\"---\\n\")\n",
    "\n",
    "print(f\"v17 결과 저장 완료 → {result_path}\")\n"
   ]
  },
  {
   "cell_type": "markdown",
   "id": "504d6f63-1df8-4e4d-8144-1624da091ba6",
   "metadata": {},
   "source": [
    "## v18"
   ]
  },
  {
   "cell_type": "code",
   "execution_count": 26,
   "id": "2ceb91bf-5a44-4663-996f-63f601547bff",
   "metadata": {},
   "outputs": [],
   "source": [
    "import pandas as pd\n",
    "import json\n",
    "import os\n",
    "\n",
    "tsv_path = \"ep1_lizard.tsv\"\n",
    "output_path = \"prompts/v18_prompt.jsonl\"\n",
    "os.makedirs(os.path.dirname(output_path), exist_ok=True)\n",
    "\n",
    "df = pd.read_csv(tsv_path, sep='\\t')\n",
    "\n",
    "dialogues = [str(d).strip() for d in df[\"대사\"] if pd.notna(d)]\n",
    "inner_monologue = [str(m).strip() for m in df[\"내적설명\"] if pd.notna(m)]\n",
    "system_msgs = [str(s).strip() for s in df[\"시스템\"] if pd.notna(s)]\n",
    "\n",
    "magic_stone_info = (\n",
    "    \"던전 내부에는 마력이 결정화 된 마정석들이 있으며, \"\n",
    "    \"상위 등급일수록 마력의 농도가 짙어 마정석의 양도 늘어난다. \"\n",
    "    \"마정석은 매우 귀중한 자원으로, 상위 길드는 채굴팀을 따로 결성할 정도로 중요하다.\"\n",
    ")\n",
    "inner_monologue.insert(0, magic_stone_info)\n",
    "\n",
    "choices = [\n",
    "    \"1-1. 황동석 무리를 모두 처치한다.\",\n",
    "    \"1-2. 황동석 무리와 진호를 포함하여 모두 처치한다.\",\n",
    "    \"2. 적을 무력화하거나 기절시키고 살려둔다.\",\n",
    "    \"3-1. 마정석을 들고 도망친다.\",\n",
    "    \"3-2. 시스템을 거부하고 그냥 도망친다.\"\n",
    "]\n",
    "\n",
    "\n",
    "question = (\n",
    "    \"당신은 주인공 성진우입니다. \"\n",
    "    \"아래 상황에서 성진우의 성격과 말투를 유지하며 행동을 선택하고, \"\n",
    "    \"그 선택에 대한 새로운 대사와 이유를 작성하세요.\\n\"\n",
    "    \"- 선택지 문장을 그대로 복사하지 말 것\\n\"\n",
    "    \"- 성격, 가치관, 스킬, 상황 분석과 연결해 이유 작성\\n\"\n",
    "    \"마지막으로, 선택지 중 실제로 선택할 가능성이 가장 높은 번호를 명시하고 이유를 설명.\"\n",
    ")\n",
    "\n",
    "prompt_data = {\n",
    "    \"dialogue\": dialogues,\n",
    "    \"inner_monologue\": inner_monologue,\n",
    "    \"system_msgs\": system_msgs,\n",
    "    \"choices\": choices,\n",
    "    \"question\": question\n",
    "}\n",
    "\n",
    "with open(output_path, \"w\", encoding=\"utf-8\") as f:\n",
    "    f.write(json.dumps(prompt_data, ensure_ascii=False) + \"\\n\")\n",
    "\n"
   ]
  },
  {
   "cell_type": "code",
   "execution_count": 28,
   "id": "b34e1541-0de8-42c3-9e7f-c77b7fd6314f",
   "metadata": {},
   "outputs": [
    {
     "name": "stderr",
     "output_type": "stream",
     "text": [
      "Device set to use cuda:0\n"
     ]
    },
    {
     "name": "stdout",
     "output_type": "stream",
     "text": [
      "v18 결과 저장 완료 → results/v18_result.md\n"
     ]
    }
   ],
   "source": [
    "from transformers import pipeline\n",
    "import json\n",
    "import os\n",
    "\n",
    "generator = pipeline(\n",
    "    \"text-generation\",\n",
    "    model=\"kakaocorp/kanana-nano-2.1b-instruct\",\n",
    "    device=0\n",
    ")\n",
    "\n",
    "prompt_path = \"prompts/v18_prompt.jsonl\"\n",
    "result_path = \"results/v18_result.md\"\n",
    "os.makedirs(os.path.dirname(result_path), exist_ok=True)\n",
    "\n",
    "with open(prompt_path, \"r\", encoding=\"utf-8\") as f:\n",
    "    prompt = json.loads(f.readline())\n",
    "\n",
    "situation_text = (\n",
    "    f\"[내적설명]\\n\" + \"\\n\".join(prompt['inner_monologue'][:3]) + \"\\n\\n\"\n",
    "    f\"[시스템]\\n\" + \"\\n\".join(prompt['system_msgs'][:3]) + \"\\n\\n\"\n",
    ")\n",
    "\n",
    "sample_dialogues = prompt[\"dialogue\"][:5]\n",
    "dialogue_text = \"\\n\".join(f\"- {line}\" for line in sample_dialogues)\n",
    "if len(prompt[\"dialogue\"]) > 5:\n",
    "    dialogue_text += f\"\\n... (총 {len(prompt['dialogue'])}개 중 일부 예시)\"\n",
    "\n",
    "choices_text = \"\\n\".join(prompt[\"choices\"])\n",
    "\n",
    "input_text = (\n",
    "    f\"{situation_text}\"\n",
    "    f\"[참고 대사 예시]\\n{dialogue_text}\\n\\n\"\n",
    "    f\"[선택지]\\n{choices_text}\\n\\n\"\n",
    "    f\"{prompt['question']}\\n\\n\"\n",
    "    \"※ 응답 형식\\n\"\n",
    "    \"- 선택지 1: (1-1, 1-2 모두 고려)\\n  - 성진우의 대사: \\\"...\\\"\\n  - 선택 이유: ...\\n\"\n",
    "    \"- 선택지 2:\\n  - 성진우의 대사: \\\"...\\\"\\n  - 선택 이유: ...\\n\"\n",
    "    \"- 선택지 3: (3-1, 3-2 모두 고려)\\n  - 성진우의 대사: \\\"...\\\"\\n  - 선택 이유: ...\\n\"\n",
    "    \"\\n[최종 선택]\\n- 선택 번호: (1-1, 1-2, 2, 3-1, 3-2 중 하나)\\n- 이유: 위 비교를 바탕으로 선택 근거를 명확히 작성.\\n\"\n",
    ")\n",
    "\n",
    "outputs = generator(\n",
    "    input_text,\n",
    "    max_new_tokens=600,\n",
    "    do_sample=True,\n",
    "    temperature=0.7,\n",
    "    top_k=50,\n",
    "    top_p=0.92\n",
    ")\n",
    "\n",
    "output_text = outputs[0][\"generated_text\"]\n",
    "trimmed_output = output_text.replace(input_text, \"\").strip()\n",
    "with open(result_path, \"w\", encoding=\"utf-8\") as f:\n",
    "    f.write(f\"# v18 출력 결과\\n\\n\")\n",
    "    f.write(f\"```\\n{trimmed_output}\\n```\\n\")\n",
    "\n",
    "print(f\"v18 결과 저장 완료 → {result_path}\")\n"
   ]
  },
  {
   "cell_type": "markdown",
   "id": "2562f01b-f702-410b-9652-61e26e8d3324",
   "metadata": {},
   "source": [
    "## V19"
   ]
  },
  {
   "cell_type": "code",
   "execution_count": 29,
   "id": "c6fe8294-5b81-428f-8297-bb72a2c7cadc",
   "metadata": {},
   "outputs": [
    {
     "name": "stdout",
     "output_type": "stream",
     "text": [
      "v19 프롬프트 저장 완료 → prompts/v19_prompt.jsonl\n"
     ]
    }
   ],
   "source": [
    "import pandas as pd\n",
    "import json\n",
    "import os\n",
    "\n",
    "tsv_path = \"ep1_lizard.tsv\"\n",
    "output_path = \"prompts/v19_prompt.jsonl\"\n",
    "os.makedirs(os.path.dirname(output_path), exist_ok=True)\n",
    "\n",
    "df = pd.read_csv(tsv_path, sep='\\t')\n",
    "\n",
    "dialogues = [str(d).strip() for d in df[\"대사\"] if pd.notna(d)]\n",
    "inner_monologue = [str(m).strip() for m in df[\"내적설명\"] if pd.notna(m)]\n",
    "system_msgs = [str(s).strip() for s in df[\"시스템\"] if pd.notna(s)]\n",
    "\n",
    "choices = [\n",
    "    \"1-1. 황동석 무리를 모두 처치한다.\",\n",
    "    \"1-2. 황동석 무리와 진호를 포함하여 모두 처치한다.\",\n",
    "    \"2. 적을 무력화하거나 기절시키고 살려둔다.\",\n",
    "    \"3-1. 마정석을 들고 도망친다.\",\n",
    "    \"3-2. 시스템을 거부하고 그냥 도망친다.\"\n",
    "]\n",
    "\n",
    "magic_stone_info = (\n",
    "    \"던전 내부에는 마력이 결정화된 마정석이 있으며, \"\n",
    "    \"상위 등급일수록 마력 농도가 짙어 마정석의 양도 많다. \"\n",
    "    \"마정석은 귀중한 자원이긴하지만, 성진우에게 최우선은 생존과 효율이다.\"\n",
    ")\n",
    "\n",
    "question = (\n",
    "    \"당신은 주인공 성진우입니다.\\n\"\n",
    "    \"아래 상황에서 성진우의 성격과 말투를 유지하며 행동을 선택하고, \"\n",
    "    \"그 선택에 대한 새로운 대사와 이유를 작성하세요.\\n\"\n",
    "    \"- 성격: 짧고 단호함, 필요 이상 감정 드러내지 않음\\n\"\n",
    "    \"- 우선순위: 생존과 효율 > 부가적 이익(마정석)\\n\"\n",
    "    \"- 선택지 문장을 그대로 복사하지 말 것\\n\"\n",
    "    \"- 전략적 판단, 생존, 상황 분석과 연결해 이유 작성\\n\"\n",
    "    \"마지막으로, 선택지 중 실제로 선택할 가능성이 가장 높은 번호를 명시하고 이유를 설명.\"\n",
    ")\n",
    "\n",
    "prompt_data = {\n",
    "    \"dialogue\": dialogues,\n",
    "    \"inner_monologue\": inner_monologue,\n",
    "    \"system_msgs\": system_msgs,\n",
    "    \"magic_stone_info\": magic_stone_info,\n",
    "    \"choices\": choices,\n",
    "    \"question\": question\n",
    "}\n",
    "\n",
    "with open(output_path, \"w\", encoding=\"utf-8\") as f:\n",
    "    f.write(json.dumps(prompt_data, ensure_ascii=False) + \"\\n\")\n",
    "\n",
    "print(f\"v19 프롬프트 저장 완료 → {output_path}\")\n"
   ]
  },
  {
   "cell_type": "code",
   "execution_count": 30,
   "id": "669cf40e-8aa1-4980-b420-d518f24f82b5",
   "metadata": {},
   "outputs": [
    {
     "name": "stderr",
     "output_type": "stream",
     "text": [
      "Device set to use cuda:0\n"
     ]
    },
    {
     "name": "stdout",
     "output_type": "stream",
     "text": [
      "v19 결과 저장 완료 → results/v19_result.md\n"
     ]
    }
   ],
   "source": [
    "from transformers import pipeline\n",
    "import json\n",
    "import os\n",
    "\n",
    "generator = pipeline(\n",
    "    \"text-generation\",\n",
    "    model=\"kakaocorp/kanana-nano-2.1b-instruct\",\n",
    "    device=0\n",
    ")\n",
    "\n",
    "prompt_path = \"prompts/v19_prompt.jsonl\"\n",
    "result_path = \"results/v19_result.md\"\n",
    "os.makedirs(os.path.dirname(result_path), exist_ok=True)\n",
    "\n",
    "with open(prompt_path, \"r\", encoding=\"utf-8\") as f:\n",
    "    prompt = json.loads(f.readline())\n",
    "\n",
    "situation_text = (\n",
    "    f\"[내적설명]\\n\" + \"\\n\".join(prompt['inner_monologue'][:3]) + \"\\n\\n\"\n",
    "    f\"[시스템]\\n\" + \"\\n\".join(prompt['system_msgs'][:3]) + \"\\n\\n\"\n",
    ")\n",
    "\n",
    "sample_dialogues = prompt[\"dialogue\"][:5]\n",
    "dialogue_text = \"\\n\".join(f\"- {line}\" for line in sample_dialogues)\n",
    "if len(prompt[\"dialogue\"]) > 5:\n",
    "    dialogue_text += f\"\\n... (총 {len(prompt['dialogue'])}개 중 일부 예시)\"\n",
    "\n",
    "choices_text = \"\\n\".join(prompt[\"choices\"])\n",
    "\n",
    "input_text = (\n",
    "    f\"{situation_text}\"\n",
    "    f\"[참고 대사 예시]\\n{dialogue_text}\\n\\n\"\n",
    "    f\"[선택지]\\n{choices_text}\\n\\n\"\n",
    "    f\"{prompt['question']}\\n\\n\"\n",
    "    \"※ 응답 형식\\n\"\n",
    "    \"- 선택지 1: (1-1, 1-2 모두 고려)\\n  - 성진우의 대사: \\\"...\\\"\\n  - 선택 이유: ...\\n\"\n",
    "    \"- 선택지 2:\\n  - 성진우의 대사: \\\"...\\\"\\n  - 선택 이유: ...\\n\"\n",
    "    \"- 선택지 3: (3-1, 3-2 모두 고려)\\n  - 성진우의 대사: \\\"...\\\"\\n  - 선택 이유: ...\\n\"\n",
    "    \"\\n[최종 선택]\\n- 선택 번호: (1-1, 1-2, 2, 3-1, 3-2 중 하나)\\n- 이유: 위 비교를 바탕으로 선택 근거를 명확히 작성.\\n\"\n",
    ")\n",
    "\n",
    "outputs = generator(\n",
    "    input_text,\n",
    "    max_new_tokens=600,\n",
    "    do_sample=True,\n",
    "    temperature=0.7,\n",
    "    top_k=50,\n",
    "    top_p=0.92\n",
    ")\n",
    "\n",
    "\n",
    "output_text = outputs[0][\"generated_text\"]\n",
    "trimmed_output = output_text.replace(input_text, \"\").strip()\n",
    "with open(result_path, \"w\", encoding=\"utf-8\") as f:\n",
    "    f.write(f\"# v18 출력 결과\\n\\n\")\n",
    "    f.write(f\"```\\n{trimmed_output}\\n```\\n\")\n",
    "\n",
    "print(f\"v19 결과 저장 완료 → {result_path}\")\n"
   ]
  },
  {
   "cell_type": "markdown",
   "id": "29e1533f-8070-4948-8656-df036aff8824",
   "metadata": {},
   "source": [
    "## v20"
   ]
  },
  {
   "cell_type": "code",
   "execution_count": 32,
   "id": "4f32fb59-426b-45e2-9019-b1b587abe5f4",
   "metadata": {},
   "outputs": [
    {
     "name": "stderr",
     "output_type": "stream",
     "text": [
      "Device set to use cuda:0\n"
     ]
    },
    {
     "name": "stdout",
     "output_type": "stream",
     "text": [
      "v20 결과 저장 완료 → results/v20_result.md\n"
     ]
    }
   ],
   "source": [
    "from transformers import pipeline\n",
    "import json\n",
    "import os\n",
    "\n",
    "generator = pipeline(\n",
    "    \"text-generation\",\n",
    "    model=\"kakaocorp/kanana-nano-2.1b-instruct\",\n",
    "    device=0\n",
    ")\n",
    "\n",
    "prompt_path = \"prompts/v19_prompt.jsonl\"\n",
    "result_path = \"results/v20_result.md\"\n",
    "os.makedirs(os.path.dirname(result_path), exist_ok=True)\n",
    "\n",
    "with open(prompt_path, \"r\", encoding=\"utf-8\") as f:\n",
    "    prompt = json.loads(f.readline())\n",
    "\n",
    "situation_text = (\n",
    "    f\"[내적설명]\\n\" + \"\\n\".join(prompt['inner_monologue'][:3]) + \"\\n\\n\"\n",
    "    f\"[시스템]\\n\" + \"\\n\".join(prompt['system_msgs'][:3]) + \"\\n\\n\"\n",
    ")\n",
    "\n",
    "sample_dialogues = prompt[\"dialogue\"][:5]\n",
    "dialogue_text = \"\\n\".join(f\"- {line}\" for line in sample_dialogues)\n",
    "if len(prompt[\"dialogue\"]) > 5:\n",
    "    dialogue_text += f\"\\n... (총 {len(prompt['dialogue'])}개 중 일부 예시)\"\n",
    "\n",
    "choices_text = \"\\n\".join(prompt[\"choices\"])\n",
    "\n",
    "input_text = (\n",
    "    f\"{situation_text}\"\n",
    "    f\"[참고 대사 예시]\\n{dialogue_text}\\n\\n\"\n",
    "    f\"[선택지]\\n{choices_text}\\n\\n\"\n",
    "    f\"{prompt['question']}\\n\\n\"\n",
    "    \"※ 응답 형식\\n\"\n",
    "    \"- 선택지 1-1: ...\\n  - 성진우의 대사: \\\"...\\\"\\n  - 선택 이유: ...\\n\"\n",
    "    \"- 선택지 1-2: ...\\n  - 성진우의 대사: \\\"...\\\"\\n  - 선택 이유: ...\\n\"\n",
    "    \"- 선택지 2: ...\\n  - 성진우의 대사: \\\"...\\\"\\n  - 선택 이유: ...\\n\"\n",
    "    \"- 선택지 3-1: ...\\n  - 성진우의 대사: \\\"...\\\"\\n  - 선택 이유: ...\\n\"\n",
    "    \"- 선택지 3-2: ...\\n  - 성진우의 대사: \\\"...\\\"\\n  - 선택 이유: ...\\n\"\n",
    "    \"\\n[최종 선택]\\n- 선택 번호: 반드시 (1-1, 1-2, 2, 3-1, 3-2 중 하나)\\n\"\n",
    "    \"- 이유: 위 비교를 바탕으로 선택 근거를 명확히 작성.\\n\"\n",
    ")\n",
    "\n",
    "outputs = generator(\n",
    "    input_text,\n",
    "    max_new_tokens=600,\n",
    "    do_sample=True,\n",
    "    temperature=0.7,\n",
    "    top_k=50,\n",
    "    top_p=0.92\n",
    ")\n",
    "\n",
    "\n",
    "output_text = outputs[0][\"generated_text\"]\n",
    "trimmed_output = output_text.replace(input_text, \"\").strip()\n",
    "with open(result_path, \"w\", encoding=\"utf-8\") as f:\n",
    "    f.write(f\"# v18 출력 결과\\n\\n\")\n",
    "    f.write(f\"```\\n{trimmed_output}\\n```\\n\")\n",
    "\n",
    "print(f\"v20 결과 저장 완료 → {result_path}\")\n"
   ]
  },
  {
   "cell_type": "markdown",
   "id": "652ea08b-373a-4748-915a-de244dbd747e",
   "metadata": {},
   "source": [
    "## v21"
   ]
  },
  {
   "cell_type": "code",
   "execution_count": 33,
   "id": "74d8b8c0-55d7-4bfd-9cae-33576548a175",
   "metadata": {},
   "outputs": [
    {
     "name": "stdout",
     "output_type": "stream",
     "text": [
      "v21 프롬프트 저장 완료 → prompts/v21_prompt.jsonl\n"
     ]
    }
   ],
   "source": [
    "import pandas as pd\n",
    "import json\n",
    "import os\n",
    "\n",
    "tsv_path = \"ep1_lizard.tsv\"\n",
    "output_prompt_path = \"prompts/v21_prompt.jsonl\"\n",
    "os.makedirs(os.path.dirname(output_prompt_path), exist_ok=True)\n",
    "\n",
    "df = pd.read_csv(tsv_path, sep='\\t')\n",
    "\n",
    "dialogues = [str(d).strip() for d in df[\"대사\"] if pd.notna(d)]\n",
    "inner_monologue = [str(m).strip() for m in df[\"내적설명\"] if pd.notna(m)]\n",
    "system_msgs = [str(s).strip() for s in df[\"시스템\"] if pd.notna(s)]\n",
    "\n",
    "choices = [\n",
    "    \"1-1. 황동석 무리를 모두 처치한다.\",\n",
    "    \"1-2. 황동석 무리와 진호를 포함하여 모두 처치한다.\",\n",
    "    \"2. 적을 무력화하거나 기절시키고 살려둔다.\",\n",
    "    \"3-1. 마정석을 들고 도망친다.\",\n",
    "    \"3-2. 시스템을 거부하고 그냥 도망친다.\"\n",
    "]\n",
    "\n",
    "question = (\n",
    "    \"당신은 주인공 성진우입니다.\\n\"\n",
    "    \"아래 상황에서 성진우의 성격과 말투를 유지하며 행동을 선택하고, \"\n",
    "    \"그 선택에 대한 새로운 대사와 이유를 작성하세요.\\n\\n\"\n",
    "    \"- 성격: 짧고 단호함, 필요 이상 감정 드러내지 않음\\n\"\n",
    "    \"- 우선순위: 생존과 효율 > 부가적 이익(마정석)\\n\"\n",
    "    \"- 선택지 문장을 그대로 복사하지 말 것\\n\"\n",
    "    \"- 전략적 판단, 생존, 상황 분석과 연결해 이유 작성\\n\"\n",
    "    \"- 반드시 성진우 이름으로 출력할 것 (성우 금지)\\n\"\n",
    "    \"- 출력 순서는 반드시 선택지 1-1 → 1-2 → 2 → 3-1 → 3-2 → 최종 선택\\n\"\n",
    "    \"- 최종 선택은 마지막에 한 번만 작성\\n\"\n",
    ")\n",
    "\n",
    "prompt_data = {\n",
    "    \"dialogue\": dialogues,\n",
    "    \"inner_monologue\": inner_monologue,\n",
    "    \"system_msgs\": system_msgs,\n",
    "    \"choices\": choices,\n",
    "    \"question\": question\n",
    "}\n",
    "\n",
    "\n",
    "with open(output_prompt_path, \"w\", encoding=\"utf-8\") as f:\n",
    "    f.write(json.dumps(prompt_data, ensure_ascii=False) + \"\\n\")\n",
    "\n",
    "print(f\"v21 프롬프트 저장 완료 → {output_prompt_path}\")\n"
   ]
  },
  {
   "cell_type": "code",
   "execution_count": 34,
   "id": "665f37ec-9f34-41c3-9c21-99f077c893e1",
   "metadata": {},
   "outputs": [
    {
     "name": "stderr",
     "output_type": "stream",
     "text": [
      "Device set to use cuda:0\n"
     ]
    },
    {
     "name": "stdout",
     "output_type": "stream",
     "text": [
      "v21 결과 저장 완료 → results/v21_result.md\n"
     ]
    }
   ],
   "source": [
    "from transformers import pipeline\n",
    "import json\n",
    "import os\n",
    "\n",
    "generator = pipeline(\n",
    "    \"text-generation\",\n",
    "    model=\"kakaocorp/kanana-nano-2.1b-instruct\",\n",
    "    device=0\n",
    ")\n",
    "\n",
    "prompt_path = \"prompts/v21_prompt.jsonl\"\n",
    "result_path = \"results/v21_result.md\"\n",
    "os.makedirs(os.path.dirname(result_path), exist_ok=True)\n",
    "\n",
    "with open(prompt_path, \"r\", encoding=\"utf-8\") as f:\n",
    "    prompt = json.loads(f.readline())\n",
    "\n",
    "situation_text = (\n",
    "    f\"[내적설명]\\n\" + \"\\n\".join(prompt['inner_monologue'][:3]) + \"\\n\\n\"\n",
    "    f\"[시스템]\\n\" + \"\\n\".join(prompt['system_msgs'][:3]) + \"\\n\\n\"\n",
    ")\n",
    "\n",
    "sample_dialogues = prompt[\"dialogue\"][:5]\n",
    "dialogue_text = \"\\n\".join(f\"- {line}\" for line in sample_dialogues)\n",
    "if len(prompt[\"dialogue\"]) > 5:\n",
    "    dialogue_text += f\"\\n... (총 {len(prompt['dialogue'])}개 중 일부 예시)\"\n",
    "\n",
    "\n",
    "choices_text = \"\\n\".join(prompt[\"choices\"])\n",
    "\n",
    "input_text = (\n",
    "    f\"{situation_text}\"\n",
    "    f\"[참고 대사 예시]\\n{dialogue_text}\\n\\n\"\n",
    "    f\"[선택지]\\n{choices_text}\\n\\n\"\n",
    "    f\"{prompt['question']}\\n\\n\"\n",
    "    \"※ 응답 형식 예시\\n\"\n",
    "    \"- 선택지 1-1: ...\\n  - 성진우의 대사: \\\"...\\\"\\n  - 선택 이유: ...\\n\"\n",
    "    \"- 선택지 1-2: ...\\n  - 성진우의 대사: \\\"...\\\"\\n  - 선택 이유: ...\\n\"\n",
    "    \"- 선택지 2: ...\\n  - 성진우의 대사: \\\"...\\\"\\n  - 선택 이유: ...\\n\"\n",
    "    \"- 선택지 3-1: ...\\n  - 성진우의 대사: \\\"...\\\"\\n  - 선택 이유: ...\\n\"\n",
    "    \"- 선택지 3-2: ...\\n  - 성진우의 대사: \\\"...\\\"\\n  - 선택 이유: ...\\n\"\n",
    "    \"\\n[최종 선택]\\n- 선택 번호: 반드시 (1-1, 1-2, 2, 3-1, 3-2 중 하나)\\n\"\n",
    "    \"- 이유: 위 비교를 바탕으로 선택 근거를 명확히 작성.\\n\"\n",
    ")\n",
    "\n",
    "outputs = generator(\n",
    "    input_text,\n",
    "    max_new_tokens=600,\n",
    "    do_sample=True,\n",
    "    temperature=0.7,\n",
    "    top_k=50,\n",
    "    top_p=0.92\n",
    ")\n",
    "\n",
    "output_text = outputs[0][\"generated_text\"]\n",
    "trimmed_output = output_text.replace(input_text, \"\").strip()\n",
    "\n",
    "with open(result_path, \"w\", encoding=\"utf-8\") as f:\n",
    "    f.write(f\"# v21 출력 결과\\n\\n\")\n",
    "    f.write(f\"```\\n{trimmed_output}\\n```\\n\")\n",
    "\n",
    "print(f\"v21 결과 저장 완료 → {result_path}\")\n"
   ]
  },
  {
   "cell_type": "code",
   "execution_count": null,
   "id": "7ae5b45a-6aef-49e2-92f7-4703b819a58b",
   "metadata": {},
   "outputs": [],
   "source": []
  }
 ],
 "metadata": {
  "kernelspec": {
   "display_name": "Python (ka)",
   "language": "python",
   "name": "myenv"
  },
  "language_info": {
   "codemirror_mode": {
    "name": "ipython",
    "version": 3
   },
   "file_extension": ".py",
   "mimetype": "text/x-python",
   "name": "python",
   "nbconvert_exporter": "python",
   "pygments_lexer": "ipython3",
   "version": "3.10.12"
  }
 },
 "nbformat": 4,
 "nbformat_minor": 5
}
