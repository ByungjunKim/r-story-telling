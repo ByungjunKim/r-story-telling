{
 "cells": [
  {
   "cell_type": "markdown",
   "id": "822ccdb4-d9fe-487a-9495-8b05219b1b13",
   "metadata": {},
   "source": [
    "## 황동석 편 대화형 설계\n"
   ]
  },
  {
   "cell_type": "code",
   "execution_count": null,
   "id": "2eaadb0c-146e-43d1-928c-08349739761a",
   "metadata": {},
   "outputs": [
    {
     "name": "stderr",
     "output_type": "stream",
     "text": [
      "Device set to use cuda:0\n"
     ]
    },
    {
     "name": "stdout",
     "output_type": "stream",
     "text": [
      "=== 성진우 대화 시뮬레이션 시작 ===\n"
     ]
    },
    {
     "name": "stdin",
     "output_type": "stream",
     "text": [
      "실험할 턴 수 입력 (예: 5):  2\n"
     ]
    },
    {
     "name": "stdout",
     "output_type": "stream",
     "text": [
      "\n",
      "[턴 1] 선택지를 입력하세요:\n"
     ]
    },
    {
     "name": "stdin",
     "output_type": "stream",
     "text": [
      ">>>  1\n"
     ]
    },
    {
     "name": "stdout",
     "output_type": "stream",
     "text": [
      "\n",
      "[성진우]\n",
      "\n",
      "    [페르소나 참고 대사]\n",
      "    그래서 왜 보자고 한 거야? 거절한다. 요컨대 공격대를 만들 테니 나보고 들어오란 것 아냐. 뭔가 했더니. 부잣집 도련님의 헌터 놀이에 어울려 주고 싶은 생각은 없어. 더 할 말 없으면 간다. 어디를. 던전을? 지난번 사건을 통해 깨달은 게 있을 텐데? 헌터는 마수 뿐 아니라 사람까지 쉽게 죽여. 레이드는 익스트림 스포츠 따위가 아니야. 그런데도 공격대를 만들어서 가겠다고?  무서운 꼴을 보고서도 그런 말이 나오다니, 제정신이냐? 설마 너... 길드 마스터가 될 셈이냐? 그러고 보니 너, 유진건설 차남이었지. 유진건설에서 길드를? 그러니까 회사 소속 헌터들이 던전을 공략하고, 거기서 나온 걸 회사가 가져간다.  이제부터는 자급자족하겠다 이거군. 형이 부마스터가 된다고 하더라도 마스터의 권한이 너무 커. 마스터와 부마스터 간의 마찰은 피할 수 없을 걸? 어리고, 등급도 낮고, 실적도 없는 네가 낄 자리가 아니었군. 고로 실적을 만들어 아버지를 설득시킬 셈이냐. 나에게 돌아오는 대가는? 진아야. 만약에 말이야 3백억이 생긴다면 넌 어떻게 할 거야? 남은 돈은? C급 레이드 열아홉 번에 3백억짜리 건물이라... 마스터만 될 수 있다면 그래도 남는 장사라 이거냐? 한 가지 조건이 있어. 너와 나. 둘만 가는 거다.. 정확하게 이해했네. 머릿수만 채워도 일당을 주겠다고 하면 지원자가 줄을 설 걸? 황동석이 썼던 방법을 그대로 쓰는 거야. 하나만 알고 둘을 모르네. 바꿔 말하면 우리만 멀쩡하면 아무도 안 다친다는 거잖아. 공격대를 만들고부터 열아홉 번의 레이드를 무사히 끝낸다고 생각해봐. 무려 열아홉 번이나 무사고였던 공격대가 된다고. 아버지께 실력을 입증하는 데 더 도움이 되지 않을까? 이크, 생각하면서 뛰다보니 넘어버렸잖아? 그러고 보니 진아는...? 뭐 상관없나? 왜 목표치를 다 채웠는데도 오버해서 기록을 넘기는 거지? 진아도 기다릴 겸 힘도 남는데 최대치까지 달려볼까? 200에서 수치가 올라가질 않네. 달리기도 그럴까? 200km 를 뛸 순 없으니 20km 까지만 뛰어보자. 일일 퀘스트의 트레이닝을 모두 두 배 이상 실천하니 '히든 퀘스트'로 바뀌었어. 더 좋은 보상을 얻을 거라 생각은 했지만, 설마 S급 입수 난이도의 아이템을 얻게 될 줄이야. 히든 퀘스트는 일일 퀘스트를 상향 실천했을 때에만 주어지는 걸까? 어쩌면 유일한 기회일 수도 있어. 축복받은 랜덤 박스'를 선택했으니 '저주받은 랜덤 박스'쪽은 얻을 수 없을지도 몰라 어쨌든 던전 입장 열쇠를 얻었으니 이번에도 들어가 보는 수밖에.   겁난다고 쉽게 포기한다면 강해질 수 없다. 더욱 강해지고 더욱 레벨업한다!\n",
      "\n",
      "    [현재 상황]\n",
      "    VS 황동석 편 - 긴급 퀘스트: 적을 처치하라!\n",
      "    (당신은 성진우. 캐릭터의 말투와 성격을 유지하며 다른 선택에 대한 정당한 이유와 대사를 생성하세요.)\n",
      "\n",
      "    [사용자 선택]\n",
      "    1\n",
      "\n",
      "    성진우의 대사:\n",
      "     \"알겠습니다. 황동석 대장님. 현재 상황을 분석해본 결과, 적을 처치하는 것이 최우선입니다. 적의 위치를 탐색하고, 전투 준비를 철저히 하겠습니다. 대장님, 저를 믿고 맡겨주셔서 감사합니다. 행동에 나서겠습니다.\"\n",
      "    (사용자 선택 1을 선택한 경우에 대한 성진우의 대사입니다.)\n",
      "\n",
      "    2\n",
      "\n",
      "    성진우의 대사:\n",
      "     \"황동석 대장님, 저는 현재 상황을 좀 더 신중히 검토해 볼 필요\n",
      "\n",
      "\n",
      "[턴 2] 선택지를 입력하세요:\n"
     ]
    }
   ],
   "source": [
    "import pandas as pd\n",
    "from transformers import pipeline\n",
    "\n",
    "# 1. 데이터 로드 (페르소나 참고용)\n",
    "DATA_PATH = \"episodes/ep1_dongseok/ep1_lizard.tsv\"\n",
    "df = pd.read_csv(DATA_PATH, sep=\"\\t\")\n",
    "\n",
    "# 최근 성진우 대사 50개를 페르소나 참고로 사용\n",
    "persona_lines = df['대사'].dropna().tolist()\n",
    "persona_context = \" \".join(persona_lines[-50:])\n",
    "\n",
    "# 2. 카나나 모델 로드\n",
    "generator = pipeline(\n",
    "    \"text-generation\",\n",
    "    model=\"kakaocorp/kanana-nano-2.1b-instruct\",\n",
    "    device=0\n",
    ")\n",
    "\n",
    "print(\"=== 성진우 대화 시뮬레이션 시작 ===\")\n",
    "\n",
    "num_turns = int(input(\"실험할 턴 수 입력 (예: 5): \"))\n",
    "\n",
    "for turn in range(num_turns):\n",
    "    print(f\"\\n[턴 {turn+1}] 선택지를 입력하세요:\")\n",
    "    user_input = input(\">>> \")\n",
    "\n",
    "    # 프롬프트 구성\n",
    "    prompt = f\"\"\"\n",
    "    [페르소나 참고 대사]\n",
    "    {persona_context}\n",
    "\n",
    "    [현재 상황]\n",
    "    VS 황동석 편 - 긴급 퀘스트: 적을 처치하라!\n",
    "    (당신은 성진우. 캐릭터의 말투와 성격을 유지하며 다른 선택에 대한 정당한 이유와 대사를 생성하세요.)\n",
    "\n",
    "    [사용자 선택]\n",
    "    {user_input}\n",
    "\n",
    "    성진우의 대사:\n",
    "    \"\"\"\n",
    "\n",
    "    output = generator(\n",
    "        prompt,\n",
    "        max_new_tokens=128,\n",
    "        temperature=0.8,\n",
    "        do_sample=True,\n",
    "    )[0]['generated_text']\n",
    "\n",
    "    print(f\"\\n[성진우]\\n{output}\\n\")\n",
    "\n",
    "print(\"=== 시뮬레이션 종료 ===\")\n"
   ]
  }
 ],
 "metadata": {
  "kernelspec": {
   "display_name": "Python (ka)",
   "language": "python",
   "name": "myenv"
  },
  "language_info": {
   "codemirror_mode": {
    "name": "ipython",
    "version": 3
   },
   "file_extension": ".py",
   "mimetype": "text/x-python",
   "name": "python",
   "nbconvert_exporter": "python",
   "pygments_lexer": "ipython3",
   "version": "3.10.12"
  }
 },
 "nbformat": 4,
 "nbformat_minor": 5
}
